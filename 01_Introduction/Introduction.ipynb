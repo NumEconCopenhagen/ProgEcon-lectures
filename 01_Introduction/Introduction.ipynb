{
 "cells": [
  {
   "cell_type": "markdown",
   "metadata": {},
   "source": [
    "# Introduction"
   ]
  },
  {
   "cell_type": "markdown",
   "metadata": {},
   "source": [
    "**Table of contents**<a id='toc0_'></a>    \n",
    "- 1. [VS Code](#toc1_)    \n",
    "- 2. [Jupyter notebooks](#toc2_)    \n",
    "- 3. [US GDP data from FRED](#toc3_)    \n",
    "- 4. [Solving the consumer problem with a numerical optimizer](#toc4_)    \n",
    "- 5. [Solving the consumer problem with a brute force grid search](#toc5_)    \n",
    "- 6. [Using modules](#toc6_)    \n",
    "\n",
    "<!-- vscode-jupyter-toc-config\n",
    "\tnumbering=true\n",
    "\tanchor=true\n",
    "\tflat=false\n",
    "\tminLevel=2\n",
    "\tmaxLevel=6\n",
    "\t/vscode-jupyter-toc-config -->\n",
    "<!-- THIS CELL WILL BE REPLACED ON TOC UPDATE. DO NOT WRITE YOUR TEXT IN THIS CELL -->"
   ]
  },
  {
   "cell_type": "markdown",
   "metadata": {},
   "source": [
    "## 1. <a id='toc1_'></a>[VS Code](#toc0_)"
   ]
  },
  {
   "attachments": {},
   "cell_type": "markdown",
   "metadata": {},
   "source": [
    "1. An **integrated development environment (IDE)** for many languages\n",
    "2. **This window:** *Editor*\n",
    "3. **Side-bar on left:** *Explorer*\n",
    "4. `.ipynb` are **Jupyter notebooks** with text and code\n",
    "5. `.py` are files with **Python code**\n",
    "\n",
    "**Change theme?** Try `Ctrl+Shift+P` and search for \"theme\"."
   ]
  },
  {
   "cell_type": "markdown",
   "metadata": {},
   "source": [
    "## 2. <a id='toc2_'></a>[Jupyter notebooks](#toc0_)"
   ]
  },
  {
   "attachments": {},
   "cell_type": "markdown",
   "metadata": {},
   "source": [
    "This is a `text cell`, or more precisely a `markdown cell`.\n",
    "\n",
    "* Pres <kbd>Enter</kbd> to go to *edit mode*\n",
    "* Pres <kbd>Esc</kbd> to go to *command mode*\n",
    "* Pres <kbd>Ctrl+Enter</kbd> to *run* the cell\n",
    "* Pres <kbd>Shift+Enter</kbd> to *run* the cell + advance"
   ]
  },
  {
   "cell_type": "markdown",
   "metadata": {},
   "source": [
    "We can make lists:\n",
    "\n",
    "1. **First** item\n",
    "2. *Second* item\n",
    "3. ~~Third~~ item"
   ]
  },
  {
   "attachments": {},
   "cell_type": "markdown",
   "metadata": {},
   "source": [
    "We can also do LaTeX math, e.g. inline $\\alpha^2$, or\n",
    "\n",
    "$$\n",
    "X = \\int_0^{\\infty} \\frac{x}{x+1} dx\n",
    "$$\n",
    "\n",
    "or\n",
    "\n",
    "$$\n",
    "\\begin{align*}\n",
    "D &= 20 - 3p   \\\\\n",
    "S &= 2p - 5 \\\\\n",
    "\\end{align*}\n",
    "$$"
   ]
  },
  {
   "attachments": {},
   "cell_type": "markdown",
   "metadata": {},
   "source": [
    "**Markdown:** Guide on [markdownguide.org/basic-syntax/](https://www.markdownguide.org/basic-syntax/)"
   ]
  },
  {
   "attachments": {},
   "cell_type": "markdown",
   "metadata": {},
   "source": [
    "`Code cells`:"
   ]
  },
  {
   "cell_type": "code",
   "execution_count": 1,
   "metadata": {},
   "outputs": [
    {
     "name": "stdout",
     "output_type": "stream",
     "text": [
      "50\n"
     ]
    }
   ],
   "source": [
    "# this is (a comment in) a code cell\n",
    "# let us do some calculations\n",
    "a = 20\n",
    "b = 30\n",
    "c = a+b\n",
    "\n",
    "# let us print the results (shown below the cell)\n",
    "print(c)"
   ]
  },
  {
   "cell_type": "markdown",
   "metadata": {},
   "source": [
    "We can now write some more text, and continue with our calculations."
   ]
  },
  {
   "cell_type": "code",
   "execution_count": 2,
   "metadata": {},
   "outputs": [
    {
     "name": "stdout",
     "output_type": "stream",
     "text": [
      "100\n",
      "150\n"
     ]
    }
   ],
   "source": [
    "d = c*2\n",
    "print(d)\n",
    "print(c*3)"
   ]
  },
  {
   "attachments": {},
   "cell_type": "markdown",
   "metadata": {},
   "source": [
    "**Task:** Write a new cell with `e = d**2` and run it."
   ]
  },
  {
   "attachments": {},
   "cell_type": "markdown",
   "metadata": {},
   "source": [
    ">**Useful shortcuts**: See this [guide](https://sites.google.com/view/numeconcph-progecon/guides/vscode).\n",
    ">1. Press `A` to *create* new code cell *above*\n",
    ">1. Press `B` to *create* new code cell *below* \n",
    ">2. Press `M` to change to `markdown cell`\n",
    ">3. Press `Y` to change to `code cell`\n",
    ">4. Press `D+D` to *delete* cell\n",
    "><br></br>"
   ]
  },
  {
   "cell_type": "markdown",
   "metadata": {},
   "source": [
    "## 3. <a id='toc3_'></a>[US GDP data from FRED](#toc0_)"
   ]
  },
  {
   "cell_type": "markdown",
   "metadata": {},
   "source": [
    "Imports:"
   ]
  },
  {
   "cell_type": "code",
   "execution_count": 3,
   "metadata": {},
   "outputs": [],
   "source": [
    "from fredapi import Fred\n",
    "import matplotlib.pyplot as plt\n",
    "\n",
    "# some personal plot settings\n",
    "plt.rcParams.update({\"axes.grid\":True,\n",
    "                     \"grid.color\":\"black\",\n",
    "                     \"grid.alpha\":\"0.25\",\n",
    "                     \"grid.linestyle\":\"--\"})"
   ]
  },
  {
   "cell_type": "markdown",
   "metadata": {},
   "source": [
    "Access fred using API key:"
   ]
  },
  {
   "cell_type": "code",
   "execution_count": 4,
   "metadata": {},
   "outputs": [],
   "source": [
    "txtfile = 'c:/Users/gmf123/Dropbox/fredapi.txt'\n",
    "with open(txtfile,'r') as f: fred_api_key = f.read()\n",
    "fred = Fred(api_key=fred_api_key)"
   ]
  },
  {
   "cell_type": "markdown",
   "metadata": {},
   "source": [
    "Plot real US GDP in levels:"
   ]
  },
  {
   "cell_type": "code",
   "execution_count": 5,
   "metadata": {},
   "outputs": [
    {
     "data": {
      "text/html": [
       "<div>\n",
       "<style scoped>\n",
       "    .dataframe tbody tr th:only-of-type {\n",
       "        vertical-align: middle;\n",
       "    }\n",
       "\n",
       "    .dataframe tbody tr th {\n",
       "        vertical-align: top;\n",
       "    }\n",
       "\n",
       "    .dataframe thead th {\n",
       "        text-align: right;\n",
       "    }\n",
       "</style>\n",
       "<table border=\"1\" class=\"dataframe\">\n",
       "  <thead>\n",
       "    <tr style=\"text-align: right;\">\n",
       "      <th>series id</th>\n",
       "      <th>GDPC1</th>\n",
       "    </tr>\n",
       "  </thead>\n",
       "  <tbody>\n",
       "    <tr>\n",
       "      <th>title</th>\n",
       "      <td>Real Gross Domestic Product</td>\n",
       "    </tr>\n",
       "    <tr>\n",
       "      <th>units</th>\n",
       "      <td>Billions of Chained 2017 Dollars</td>\n",
       "    </tr>\n",
       "    <tr>\n",
       "      <th>seasonal_adjustment</th>\n",
       "      <td>Seasonally Adjusted Annual Rate</td>\n",
       "    </tr>\n",
       "  </tbody>\n",
       "</table>\n",
       "</div>"
      ],
      "text/plain": [
       "series id                                       GDPC1\n",
       "title                     Real Gross Domestic Product\n",
       "units                Billions of Chained 2017 Dollars\n",
       "seasonal_adjustment   Seasonally Adjusted Annual Rate"
      ]
     },
     "execution_count": 5,
     "metadata": {},
     "output_type": "execute_result"
    }
   ],
   "source": [
    "fred.search('GDPC1')[['title','units','seasonal_adjustment']].T"
   ]
  },
  {
   "cell_type": "code",
   "execution_count": 6,
   "metadata": {},
   "outputs": [
    {
     "data": {
      "image/png": "[encoded data removed]",
      "text/plain": [
       "<Figure size 700x400 with 1 Axes>"
      ]
     },
     "metadata": {},
     "output_type": "display_data"
    }
   ],
   "source": [
    "# a. get US GDP data\n",
    "GDPC1 = fred.get_series('GDPC1')\n",
    "\n",
    "# b. plot\n",
    "fig = plt.figure(figsize=(7,4))\n",
    "ax = fig.add_subplot(1,1,1)\n",
    "ax.set_title('US GDP')\n",
    "\n",
    "ax.plot(GDPC1.index, GDPC1.values)\n",
    "\n",
    "ax.set_xlabel('Year')\n",
    "ax.set_ylabel('GDP (Billions of 2017 Dollars)');  "
   ]
  },
  {
   "cell_type": "markdown",
   "metadata": {},
   "source": [
    "Plot real GDP growth rate with NBER recessions:"
   ]
  },
  {
   "cell_type": "code",
   "execution_count": 7,
   "metadata": {},
   "outputs": [
    {
     "data": {
      "image/png": "[encoded data removed]",
      "text/plain": [
       "<Figure size 700x400 with 1 Axes>"
      ]
     },
     "metadata": {},
     "output_type": "display_data"
    }
   ],
   "source": [
    "fig = plt.figure(figsize=(7,4))\n",
    "ax = fig.add_subplot(1,1,1)\n",
    "ax.set_title('US GDP growth')\n",
    "\n",
    "# GDP growth rate\n",
    "x = GDPC1.index[4:]\n",
    "y = (GDPC1.values[4:]/GDPC1.values[:-4]-1)*100\n",
    "ax.plot(x,y,label='US GDP growth')\n",
    "\n",
    "# NBER recessions\n",
    "nber_recessions = fred.get_series('USREC')\n",
    "I = nber_recessions.index > GDPC1.index[0]\n",
    "y1, y2 = ax.get_ylim()\n",
    "ax.fill_between(nber_recessions.index[I],y1,y2,\n",
    "                where=nber_recessions[I]==1,\n",
    "                color='gray',alpha=0.5,\n",
    "                label='NBER recessions')\n",
    "\n",
    "# limits, labels, legend\n",
    "ax.set_ylim(y1,y2)\n",
    "ax.set_xlabel('Year')\n",
    "ax.set_ylabel('percent');  \n",
    "ax.legend(loc='lower left');"
   ]
  },
  {
   "cell_type": "markdown",
   "metadata": {},
   "source": [
    "## 4. <a id='toc4_'></a>[Solving the consumer problem with a numerical optimizer](#toc0_)"
   ]
  },
  {
   "attachments": {},
   "cell_type": "markdown",
   "metadata": {},
   "source": [
    "Consider the following consumer problem:\n",
    "\n",
    "$$\n",
    "\\begin{aligned}\n",
    "V(p_{1},p_{2},m) & = \\max_{x_{1},x_{2}} x_{1}^{\\alpha}x_{2}^{1-\\alpha}\\\\\n",
    " & \\text{s.t.}\\\\\n",
    "p_{1}x_{1}+p_{2}x_{2} & \\leq m \\\\\n",
    "x_{1},x_{2} & \\geq 0 \\\\\n",
    "p_{1},p_{2},m & > 0\n",
    "\\end{aligned}\n",
    "$$"
   ]
  },
  {
   "cell_type": "markdown",
   "metadata": {},
   "source": [
    "We can solve this problem _numerically_ in a few lines of code."
   ]
  },
  {
   "cell_type": "markdown",
   "metadata": {},
   "source": [
    "1. Choose some **parameters**:"
   ]
  },
  {
   "cell_type": "code",
   "execution_count": 8,
   "metadata": {},
   "outputs": [],
   "source": [
    "alpha = 0.5\n",
    "m = 10\n",
    "p1 = 1\n",
    "p2 = 2"
   ]
  },
  {
   "attachments": {},
   "cell_type": "markdown",
   "metadata": {},
   "source": [
    "**Note:** Try to click on *Variables* above to see the value of all variables."
   ]
  },
  {
   "cell_type": "markdown",
   "metadata": {},
   "source": [
    "2. The **consumer objective** is:"
   ]
  },
  {
   "cell_type": "code",
   "execution_count": 9,
   "metadata": {},
   "outputs": [],
   "source": [
    "def utility(x1,x2,alpha):\n",
    "    return x1**alpha * x2**(1-alpha)\n",
    "\n",
    "# def function_name(inputs):\n",
    "#    return outputs\n",
    "\n",
    "def value_of_choice(x1,alpha,m,p1,p2):\n",
    "    \n",
    "    # a. all income not spent on the first good\n",
    "    #    is spent on the second\n",
    "    x2 = (m-p1*x1)/p2 \n",
    "    \n",
    "    # b. the resulting utility is\n",
    "    u = utility(x1,x2,alpha)\n",
    "    \n",
    "    return u"
   ]
  },
  {
   "attachments": {},
   "cell_type": "markdown",
   "metadata": {},
   "source": [
    "3. We can now use a function from the `scipy` module to **solve the consumer problem**."
   ]
  },
  {
   "cell_type": "code",
   "execution_count": 10,
   "metadata": {},
   "outputs": [
    {
     "name": "stdout",
     "output_type": "stream",
     "text": [
      "4.999999999999999 2.5000000000000004 3.5355339059327373\n"
     ]
    }
   ],
   "source": [
    "# a. load external module from scipy\n",
    "from scipy import optimize\n",
    "\n",
    "# b. make value-of-choice as a funciton of only x1 \n",
    "obj = lambda x1: -value_of_choice(x1,alpha,m,p1,p2)\n",
    "\n",
    "# output = lambda input: expression(input)\n",
    "\n",
    "# c. call numerical minimizer\n",
    "solution = optimize.minimize_scalar(obj,bounds=(0,m/p1))\n",
    "\n",
    "# d. print result\n",
    "u = -solution.fun\n",
    "x1 = solution.x\n",
    "x2 = (m-x1*p1)/p2\n",
    "print(x1,x2,u)"
   ]
  },
  {
   "cell_type": "markdown",
   "metadata": {},
   "source": [
    "**Task**: Solve the consumer problem with the CES utility function.\n",
    "\n",
    "$$\n",
    "u(x_1,x_2) = (\\alpha x_1^{-\\beta} + (1-\\alpha) x_2^{-\\beta})^{-1/\\beta}\n",
    "$$"
   ]
  },
  {
   "cell_type": "code",
   "execution_count": 11,
   "metadata": {},
   "outputs": [
    {
     "name": "stdout",
     "output_type": "stream",
     "text": [
      "4.99995818905239 2.500020905473805 3.535533693620822\n"
     ]
    }
   ],
   "source": [
    "# a. choose parameters\n",
    "alpha = 0.5\n",
    "beta = 0.000001\n",
    "m = 10\n",
    "p1 = 1\n",
    "p2 = 2\n",
    "\n",
    "# b. value-of-choice\n",
    "def utility_ces(x1,x2,alpha,beta):\n",
    "    if x1 > 0 and x2 > 0:\n",
    "        return (alpha*x1**(-beta)+(1-alpha)*x2**(-beta))**(-1/beta) \n",
    "    else:\n",
    "        return 0\n",
    "\n",
    "def value_of_choice_ces(x1,alpha,beta,m,p1,p2):\n",
    "    x2 = (m-p1*x1)/p2\n",
    "    u = utility_ces(x1,x2,alpha,beta)\n",
    "    return u\n",
    "\n",
    "# c. objective\n",
    "obj = lambda x1: -value_of_choice_ces(x1,alpha,beta,m,p1,p2)\n",
    "\n",
    "# d. solve\n",
    "solution = optimize.minimize_scalar(obj,bounds=(0,m/p1))\n",
    "\n",
    "# e. result\n",
    "u_ces = -solution.fun\n",
    "x1_ces = solution.x\n",
    "x2_ces = (m-x1_ces*p1)/p2\n",
    "print(x1_ces,x2_ces,u_ces)"
   ]
  },
  {
   "cell_type": "markdown",
   "metadata": {},
   "source": [
    "## 5. <a id='toc5_'></a>[Solving the consumer problem with a brute force grid search](#toc0_)"
   ]
  },
  {
   "attachments": {},
   "cell_type": "markdown",
   "metadata": {},
   "source": [
    "Create vectors of potential choices:"
   ]
  },
  {
   "cell_type": "code",
   "execution_count": 12,
   "metadata": {},
   "outputs": [],
   "source": [
    "import numpy as np\n",
    "N = 100\n",
    "x1_vec = np.linspace(0,10,N) # try to hover over \"linspace\"\n",
    "x2_vec = np.linspace(0,10,N)"
   ]
  },
  {
   "attachments": {},
   "cell_type": "markdown",
   "metadata": {},
   "source": [
    "Use trial-and-error:"
   ]
  },
  {
   "cell_type": "code",
   "execution_count": 13,
   "metadata": {},
   "outputs": [
    {
     "name": "stdout",
     "output_type": "stream",
     "text": [
      "4.94949494949495 2.525252525252525 3.5353533352032596\n"
     ]
    }
   ],
   "source": [
    "x1_best = np.nan # nan = Not-a-Number\n",
    "x2_best = np.nan \n",
    "u_best = -np.inf # the worst it can get\n",
    "\n",
    "for x1 in x1_vec:\n",
    "    for x2 in x2_vec:\n",
    "        \n",
    "        if p1*x1 + p2*x2 <= m: # expenditure <= income\n",
    "\n",
    "            u_now = utility_ces(x1,x2,alpha,beta)\n",
    "        \n",
    "            if u_now > u_best: # better?\n",
    "                u_best = u_now # save best utility yet seen\n",
    "                x1_best = x1 # ... and choice\n",
    "                x2_best = x2\n",
    "\n",
    "print(x1_best,x2_best,u_best)"
   ]
  },
  {
   "attachments": {},
   "cell_type": "markdown",
   "metadata": {},
   "source": [
    "**Problem:** We get a lower utility than with the numerical optimizer..."
   ]
  },
  {
   "cell_type": "code",
   "execution_count": 14,
   "metadata": {},
   "outputs": [
    {
     "name": "stdout",
     "output_type": "stream",
     "text": [
      "-0.0001803584175625872\n"
     ]
    }
   ],
   "source": [
    "print(u_best-u_ces)"
   ]
  },
  {
   "attachments": {},
   "cell_type": "markdown",
   "metadata": {},
   "source": [
    "**Task:** Can you improve the brute force solution?\n",
    "\n",
    "**Socrative room:** PROGECON"
   ]
  },
  {
   "cell_type": "markdown",
   "metadata": {},
   "source": [
    "## 6. <a id='toc6_'></a>[Using modules](#toc0_)"
   ]
  },
  {
   "cell_type": "markdown",
   "metadata": {},
   "source": [
    "A **module** is a **.py**-file with functions you import and can then call in the notebook.\n",
    "\n",
    "Try to open **mymodule.py** and have a look."
   ]
  },
  {
   "cell_type": "code",
   "execution_count": 15,
   "metadata": {},
   "outputs": [],
   "source": [
    "import mymodule"
   ]
  },
  {
   "cell_type": "code",
   "execution_count": 16,
   "metadata": {},
   "outputs": [
    {
     "name": "stdout",
     "output_type": "stream",
     "text": [
      "25\n"
     ]
    }
   ],
   "source": [
    "x = 5\n",
    "y = mymodule.myfunction(x) # try pressing F12 with cursor at \"myfunction\"\n",
    "print(y)"
   ]
  },
  {
   "attachments": {},
   "cell_type": "markdown",
   "metadata": {},
   "source": [
    "**Task**: Create `mynewmodule.py` with a function you choose and call it from this notebook."
   ]
  }
 ],
 "metadata": {
  "kernelspec": {
   "display_name": "base",
   "language": "python",
   "name": "python3"
  },
  "language_info": {
   "codemirror_mode": {
    "name": "ipython",
    "version": 3
   },
   "file_extension": ".py",
   "mimetype": "text/x-python",
   "name": "python",
   "nbconvert_exporter": "python",
   "pygments_lexer": "ipython3",
   "version": "3.13.5"
  },
  "toc-autonumbering": true,
  "vscode": {
   "interpreter": {
    "hash": "47ef90cdf3004d3f859f1fb202523c65c07ba7c22eefd261b181f4744e2d0403"
   }
  }
 },
 "nbformat": 4,
 "nbformat_minor": 4
}
