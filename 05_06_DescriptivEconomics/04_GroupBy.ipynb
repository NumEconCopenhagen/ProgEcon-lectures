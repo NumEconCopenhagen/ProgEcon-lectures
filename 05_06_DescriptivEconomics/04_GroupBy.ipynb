{
 "cells": [
  {
   "cell_type": "markdown",
   "metadata": {},
   "source": [
    "# Groupby"
   ]
  },
  {
   "cell_type": "markdown",
   "metadata": {},
   "source": [
    "We often want to do **computations *within* groups**:\n",
    "\n",
    "1. Interesting statistics in themselves (e.g. average employment rate in municipalities)\n",
    "1. Needed for further calculations (e.g. with-in municipality deviation of employment rate from mean or trend)"
   ]
  },
  {
   "cell_type": "markdown",
   "metadata": {},
   "source": [
    "This is also called **split-apply-combine**: \n",
    "\n",
    "1. **split**: divide the dataset into units\n",
    "2. **apply**: compute the needed variables\n",
    "3. **combine**: merge the new variables back onto the original dataset"
   ]
  },
  {
   "cell_type": "markdown",
   "metadata": {},
   "source": [
    "**Table of contents**<a id='toc0_'></a>    \n",
    "- 1. [Groupby](#toc1_)    \n",
    "  - 1.1. [Aggregations](#toc1_1_)    \n",
    "- 2. [Transformations](#toc2_)    \n",
    "- 3. [More flexiblity](#toc3_)    \n",
    "- 4. [Summary](#toc4_)    \n",
    "\n",
    "<!-- vscode-jupyter-toc-config\n",
    "\tnumbering=true\n",
    "\tanchor=true\n",
    "\tflat=false\n",
    "\tminLevel=2\n",
    "\tmaxLevel=6\n",
    "\t/vscode-jupyter-toc-config -->\n",
    "<!-- THIS CELL WILL BE REPLACED ON TOC UPDATE. DO NOT WRITE YOUR TEXT IN THIS CELL -->"
   ]
  },
  {
   "cell_type": "code",
   "execution_count": 1,
   "metadata": {},
   "outputs": [],
   "source": [
    "import numpy as np\n",
    "import pandas as pd\n",
    "\n",
    "import matplotlib.pyplot as plt\n",
    "plt.rcParams.update({\"axes.grid\":True,\"grid.color\":\"black\",\"grid.alpha\":\"0.25\",\"grid.linestyle\":\"--\"})\n",
    "plt.rcParams.update({'font.size': 14})"
   ]
  },
  {
   "cell_type": "markdown",
   "metadata": {},
   "source": [
    "## 1. <a id='toc1_'></a>[Groupby](#toc0_)"
   ]
  },
  {
   "cell_type": "markdown",
   "metadata": {},
   "source": [
    "**Example data:**"
   ]
  },
  {
   "cell_type": "code",
   "execution_count": 2,
   "metadata": {},
   "outputs": [
    {
     "data": {
      "text/html": [
       "<div>\n",
       "<style scoped>\n",
       "    .dataframe tbody tr th:only-of-type {\n",
       "        vertical-align: middle;\n",
       "    }\n",
       "\n",
       "    .dataframe tbody tr th {\n",
       "        vertical-align: top;\n",
       "    }\n",
       "\n",
       "    .dataframe thead th {\n",
       "        text-align: right;\n",
       "    }\n",
       "</style>\n",
       "<table border=\"1\" class=\"dataframe\">\n",
       "  <thead>\n",
       "    <tr style=\"text-align: right;\">\n",
       "      <th></th>\n",
       "      <th>municipality</th>\n",
       "      <th>year</th>\n",
       "      <th>emp_rate</th>\n",
       "      <th>part_rate</th>\n",
       "    </tr>\n",
       "  </thead>\n",
       "  <tbody>\n",
       "    <tr>\n",
       "      <th>0</th>\n",
       "      <td>Aabenraa</td>\n",
       "      <td>2008</td>\n",
       "      <td>74.6</td>\n",
       "      <td>76.3</td>\n",
       "    </tr>\n",
       "    <tr>\n",
       "      <th>1</th>\n",
       "      <td>Aabenraa</td>\n",
       "      <td>2009</td>\n",
       "      <td>71.6</td>\n",
       "      <td>75.2</td>\n",
       "    </tr>\n",
       "    <tr>\n",
       "      <th>2</th>\n",
       "      <td>Aabenraa</td>\n",
       "      <td>2010</td>\n",
       "      <td>70.9</td>\n",
       "      <td>74.5</td>\n",
       "    </tr>\n",
       "    <tr>\n",
       "      <th>3</th>\n",
       "      <td>Aabenraa</td>\n",
       "      <td>2011</td>\n",
       "      <td>70.2</td>\n",
       "      <td>74.0</td>\n",
       "    </tr>\n",
       "    <tr>\n",
       "      <th>4</th>\n",
       "      <td>Aabenraa</td>\n",
       "      <td>2012</td>\n",
       "      <td>69.5</td>\n",
       "      <td>73.7</td>\n",
       "    </tr>\n",
       "  </tbody>\n",
       "</table>\n",
       "</div>"
      ],
      "text/plain": [
       "  municipality  year  emp_rate  part_rate\n",
       "0     Aabenraa  2008      74.6       76.3\n",
       "1     Aabenraa  2009      71.6       75.2\n",
       "2     Aabenraa  2010      70.9       74.5\n",
       "3     Aabenraa  2011      70.2       74.0\n",
       "4     Aabenraa  2012      69.5       73.7"
      ]
     },
     "execution_count": 2,
     "metadata": {},
     "output_type": "execute_result"
    }
   ],
   "source": [
    "RAS = pd.read_csv('data/RAS200.csv')\n",
    "RAS = RAS.sort_values(['municipality','year']) # sort by first municipality then year\n",
    "RAS.head()"
   ]
  },
  {
   "cell_type": "markdown",
   "metadata": {},
   "source": [
    "**Mean within municipality:**"
   ]
  },
  {
   "cell_type": "code",
   "execution_count": 3,
   "metadata": {},
   "outputs": [
    {
     "data": {
      "text/html": [
       "<div>\n",
       "<style scoped>\n",
       "    .dataframe tbody tr th:only-of-type {\n",
       "        vertical-align: middle;\n",
       "    }\n",
       "\n",
       "    .dataframe tbody tr th {\n",
       "        vertical-align: top;\n",
       "    }\n",
       "\n",
       "    .dataframe thead th {\n",
       "        text-align: right;\n",
       "    }\n",
       "</style>\n",
       "<table border=\"1\" class=\"dataframe\">\n",
       "  <thead>\n",
       "    <tr style=\"text-align: right;\">\n",
       "      <th></th>\n",
       "      <th>emp_rate</th>\n",
       "      <th>part_rate</th>\n",
       "    </tr>\n",
       "    <tr>\n",
       "      <th>municipality</th>\n",
       "      <th></th>\n",
       "      <th></th>\n",
       "    </tr>\n",
       "  </thead>\n",
       "  <tbody>\n",
       "    <tr>\n",
       "      <th>Aabenraa</th>\n",
       "      <td>72.51250</td>\n",
       "      <td>75.30000</td>\n",
       "    </tr>\n",
       "    <tr>\n",
       "      <th>Aalborg</th>\n",
       "      <td>70.81250</td>\n",
       "      <td>74.22500</td>\n",
       "    </tr>\n",
       "    <tr>\n",
       "      <th>Aarhus</th>\n",
       "      <td>70.24375</td>\n",
       "      <td>73.00625</td>\n",
       "    </tr>\n",
       "    <tr>\n",
       "      <th>Albertslund</th>\n",
       "      <td>70.20000</td>\n",
       "      <td>73.99375</td>\n",
       "    </tr>\n",
       "    <tr>\n",
       "      <th>Allerød</th>\n",
       "      <td>82.26250</td>\n",
       "      <td>83.86250</td>\n",
       "    </tr>\n",
       "  </tbody>\n",
       "</table>\n",
       "</div>"
      ],
      "text/plain": [
       "              emp_rate  part_rate\n",
       "municipality                     \n",
       "Aabenraa      72.51250   75.30000\n",
       "Aalborg       70.81250   74.22500\n",
       "Aarhus        70.24375   73.00625\n",
       "Albertslund   70.20000   73.99375\n",
       "Allerød       82.26250   83.86250"
      ]
     },
     "execution_count": 3,
     "metadata": {},
     "output_type": "execute_result"
    }
   ],
   "source": [
    "RAS.groupby('municipality')[['emp_rate','part_rate']].mean().head(5)"
   ]
  },
  {
   "cell_type": "markdown",
   "metadata": {},
   "source": [
    "**Year-to-year differences with-in municipalities:**"
   ]
  },
  {
   "cell_type": "code",
   "execution_count": 4,
   "metadata": {},
   "outputs": [
    {
     "data": {
      "text/html": [
       "<div>\n",
       "<style scoped>\n",
       "    .dataframe tbody tr th:only-of-type {\n",
       "        vertical-align: middle;\n",
       "    }\n",
       "\n",
       "    .dataframe tbody tr th {\n",
       "        vertical-align: top;\n",
       "    }\n",
       "\n",
       "    .dataframe thead th {\n",
       "        text-align: right;\n",
       "    }\n",
       "</style>\n",
       "<table border=\"1\" class=\"dataframe\">\n",
       "  <thead>\n",
       "    <tr style=\"text-align: right;\">\n",
       "      <th></th>\n",
       "      <th>municipality</th>\n",
       "      <th>year</th>\n",
       "      <th>emp_rate</th>\n",
       "      <th>part_rate</th>\n",
       "      <th>diff_emp_rate</th>\n",
       "      <th>diff_part_rate</th>\n",
       "    </tr>\n",
       "  </thead>\n",
       "  <tbody>\n",
       "    <tr>\n",
       "      <th>0</th>\n",
       "      <td>Aabenraa</td>\n",
       "      <td>2008</td>\n",
       "      <td>74.6</td>\n",
       "      <td>76.3</td>\n",
       "      <td>NaN</td>\n",
       "      <td>NaN</td>\n",
       "    </tr>\n",
       "    <tr>\n",
       "      <th>1</th>\n",
       "      <td>Aabenraa</td>\n",
       "      <td>2009</td>\n",
       "      <td>71.6</td>\n",
       "      <td>75.2</td>\n",
       "      <td>-3.0</td>\n",
       "      <td>-1.1</td>\n",
       "    </tr>\n",
       "    <tr>\n",
       "      <th>2</th>\n",
       "      <td>Aabenraa</td>\n",
       "      <td>2010</td>\n",
       "      <td>70.9</td>\n",
       "      <td>74.5</td>\n",
       "      <td>-0.7</td>\n",
       "      <td>-0.7</td>\n",
       "    </tr>\n",
       "    <tr>\n",
       "      <th>3</th>\n",
       "      <td>Aabenraa</td>\n",
       "      <td>2011</td>\n",
       "      <td>70.2</td>\n",
       "      <td>74.0</td>\n",
       "      <td>-0.7</td>\n",
       "      <td>-0.5</td>\n",
       "    </tr>\n",
       "    <tr>\n",
       "      <th>4</th>\n",
       "      <td>Aabenraa</td>\n",
       "      <td>2012</td>\n",
       "      <td>69.5</td>\n",
       "      <td>73.7</td>\n",
       "      <td>-0.7</td>\n",
       "      <td>-0.3</td>\n",
       "    </tr>\n",
       "    <tr>\n",
       "      <th>5</th>\n",
       "      <td>Aabenraa</td>\n",
       "      <td>2013</td>\n",
       "      <td>69.4</td>\n",
       "      <td>73.4</td>\n",
       "      <td>-0.1</td>\n",
       "      <td>-0.3</td>\n",
       "    </tr>\n",
       "    <tr>\n",
       "      <th>6</th>\n",
       "      <td>Aabenraa</td>\n",
       "      <td>2014</td>\n",
       "      <td>70.1</td>\n",
       "      <td>73.4</td>\n",
       "      <td>0.7</td>\n",
       "      <td>0.0</td>\n",
       "    </tr>\n",
       "    <tr>\n",
       "      <th>7</th>\n",
       "      <td>Aabenraa</td>\n",
       "      <td>2015</td>\n",
       "      <td>70.7</td>\n",
       "      <td>73.7</td>\n",
       "      <td>0.6</td>\n",
       "      <td>0.3</td>\n",
       "    </tr>\n",
       "    <tr>\n",
       "      <th>8</th>\n",
       "      <td>Aabenraa</td>\n",
       "      <td>2016</td>\n",
       "      <td>72.0</td>\n",
       "      <td>74.7</td>\n",
       "      <td>1.3</td>\n",
       "      <td>1.0</td>\n",
       "    </tr>\n",
       "    <tr>\n",
       "      <th>9</th>\n",
       "      <td>Aabenraa</td>\n",
       "      <td>2017</td>\n",
       "      <td>72.9</td>\n",
       "      <td>75.5</td>\n",
       "      <td>0.9</td>\n",
       "      <td>0.8</td>\n",
       "    </tr>\n",
       "    <tr>\n",
       "      <th>10</th>\n",
       "      <td>Aabenraa</td>\n",
       "      <td>2018</td>\n",
       "      <td>74.0</td>\n",
       "      <td>76.4</td>\n",
       "      <td>1.1</td>\n",
       "      <td>0.9</td>\n",
       "    </tr>\n",
       "    <tr>\n",
       "      <th>11</th>\n",
       "      <td>Aabenraa</td>\n",
       "      <td>2019</td>\n",
       "      <td>74.1</td>\n",
       "      <td>76.6</td>\n",
       "      <td>0.1</td>\n",
       "      <td>0.2</td>\n",
       "    </tr>\n",
       "    <tr>\n",
       "      <th>12</th>\n",
       "      <td>Aabenraa</td>\n",
       "      <td>2020</td>\n",
       "      <td>73.8</td>\n",
       "      <td>76.4</td>\n",
       "      <td>-0.3</td>\n",
       "      <td>-0.2</td>\n",
       "    </tr>\n",
       "    <tr>\n",
       "      <th>13</th>\n",
       "      <td>Aabenraa</td>\n",
       "      <td>2021</td>\n",
       "      <td>75.5</td>\n",
       "      <td>76.9</td>\n",
       "      <td>1.7</td>\n",
       "      <td>0.5</td>\n",
       "    </tr>\n",
       "    <tr>\n",
       "      <th>14</th>\n",
       "      <td>Aabenraa</td>\n",
       "      <td>2022</td>\n",
       "      <td>75.6</td>\n",
       "      <td>77.1</td>\n",
       "      <td>0.1</td>\n",
       "      <td>0.2</td>\n",
       "    </tr>\n",
       "    <tr>\n",
       "      <th>15</th>\n",
       "      <td>Aabenraa</td>\n",
       "      <td>2023</td>\n",
       "      <td>75.3</td>\n",
       "      <td>77.0</td>\n",
       "      <td>-0.3</td>\n",
       "      <td>-0.1</td>\n",
       "    </tr>\n",
       "    <tr>\n",
       "      <th>16</th>\n",
       "      <td>Aalborg</td>\n",
       "      <td>2008</td>\n",
       "      <td>73.2</td>\n",
       "      <td>75.5</td>\n",
       "      <td>NaN</td>\n",
       "      <td>NaN</td>\n",
       "    </tr>\n",
       "    <tr>\n",
       "      <th>17</th>\n",
       "      <td>Aalborg</td>\n",
       "      <td>2009</td>\n",
       "      <td>70.1</td>\n",
       "      <td>74.1</td>\n",
       "      <td>-3.1</td>\n",
       "      <td>-1.4</td>\n",
       "    </tr>\n",
       "    <tr>\n",
       "      <th>18</th>\n",
       "      <td>Aalborg</td>\n",
       "      <td>2010</td>\n",
       "      <td>69.7</td>\n",
       "      <td>73.7</td>\n",
       "      <td>-0.4</td>\n",
       "      <td>-0.4</td>\n",
       "    </tr>\n",
       "    <tr>\n",
       "      <th>19</th>\n",
       "      <td>Aalborg</td>\n",
       "      <td>2011</td>\n",
       "      <td>69.2</td>\n",
       "      <td>73.0</td>\n",
       "      <td>-0.5</td>\n",
       "      <td>-0.7</td>\n",
       "    </tr>\n",
       "  </tbody>\n",
       "</table>\n",
       "</div>"
      ],
      "text/plain": [
       "   municipality  year  emp_rate  part_rate  diff_emp_rate  diff_part_rate\n",
       "0      Aabenraa  2008      74.6       76.3            NaN             NaN\n",
       "1      Aabenraa  2009      71.6       75.2           -3.0            -1.1\n",
       "2      Aabenraa  2010      70.9       74.5           -0.7            -0.7\n",
       "3      Aabenraa  2011      70.2       74.0           -0.7            -0.5\n",
       "4      Aabenraa  2012      69.5       73.7           -0.7            -0.3\n",
       "5      Aabenraa  2013      69.4       73.4           -0.1            -0.3\n",
       "6      Aabenraa  2014      70.1       73.4            0.7             0.0\n",
       "7      Aabenraa  2015      70.7       73.7            0.6             0.3\n",
       "8      Aabenraa  2016      72.0       74.7            1.3             1.0\n",
       "9      Aabenraa  2017      72.9       75.5            0.9             0.8\n",
       "10     Aabenraa  2018      74.0       76.4            1.1             0.9\n",
       "11     Aabenraa  2019      74.1       76.6            0.1             0.2\n",
       "12     Aabenraa  2020      73.8       76.4           -0.3            -0.2\n",
       "13     Aabenraa  2021      75.5       76.9            1.7             0.5\n",
       "14     Aabenraa  2022      75.6       77.1            0.1             0.2\n",
       "15     Aabenraa  2023      75.3       77.0           -0.3            -0.1\n",
       "16      Aalborg  2008      73.2       75.5            NaN             NaN\n",
       "17      Aalborg  2009      70.1       74.1           -3.1            -1.4\n",
       "18      Aalborg  2010      69.7       73.7           -0.4            -0.4\n",
       "19      Aalborg  2011      69.2       73.0           -0.5            -0.7"
      ]
     },
     "execution_count": 4,
     "metadata": {},
     "output_type": "execute_result"
    }
   ],
   "source": [
    "RAS[['diff_emp_rate','diff_part_rate']] = RAS.groupby('municipality')[['emp_rate','part_rate']].diff()\n",
    "RAS.head(20)"
   ]
  },
  {
   "cell_type": "markdown",
   "metadata": {},
   "source": [
    "**Task:** What goes wront with `RAS.emp_rate.diff()`?"
   ]
  },
  {
   "cell_type": "markdown",
   "metadata": {},
   "source": [
    "**Correlation of employment rate and participation rate:**"
   ]
  },
  {
   "cell_type": "code",
   "execution_count": 5,
   "metadata": {},
   "outputs": [
    {
     "name": "stdout",
     "output_type": "stream",
     "text": [
      "mean_corr = 0.868\n"
     ]
    }
   ],
   "source": [
    "corrs = RAS.groupby('municipality')['diff_emp_rate'].corr(RAS['diff_part_rate']).rename('corr')\n",
    "mean_corr = corrs.mean()\n",
    "print(f'{mean_corr = :.3f}')"
   ]
  },
  {
   "cell_type": "code",
   "execution_count": 6,
   "metadata": {},
   "outputs": [
    {
     "data": {
      "text/plain": [
       "municipality\n",
       "Kolding           0.947619\n",
       "Sorø              0.951219\n",
       "Roskilde          0.964002\n",
       "Albertslund       0.967238\n",
       "Lyngby-Taarbæk    0.976180\n",
       "Name: corr, dtype: float64"
      ]
     },
     "execution_count": 6,
     "metadata": {},
     "output_type": "execute_result"
    }
   ],
   "source": [
    "corrs = corrs.sort_values()\n",
    "corrs.tail(5)"
   ]
  },
  {
   "cell_type": "markdown",
   "metadata": {},
   "source": [
    "Plot correlation for each municipality:"
   ]
  },
  {
   "cell_type": "code",
   "execution_count": 7,
   "metadata": {},
   "outputs": [
    {
     "data": {
      "image/png": "[encoded data removed]",
      "text/plain": [
       "<Figure size 600x1200 with 1 Axes>"
      ]
     },
     "metadata": {},
     "output_type": "display_data"
    }
   ],
   "source": [
    "fig, ax = plt.subplots(figsize=(6, 12))\n",
    "\n",
    "# horizontal bar chart\n",
    "ax.barh(corrs.index, corrs.values,height=0.5)\n",
    "\n",
    "# certical line for mean correlation\n",
    "ax.axvline(mean_corr,color='crimson',linestyle='--',linewidth=1.2,label=f'Mean = {mean_corr:.2f}')\n",
    "\n",
    "# label and limits\n",
    "ax.set_xlabel('correlation',fontsize=12)\n",
    "\n",
    "ax.set_yticks(range(len(corrs.index)))\n",
    "ax.set_yticks(np.arange(len(corrs.index))*1)\n",
    "ax.set_yticklabels(corrs.index,fontsize=8)\n",
    "ax.set_ylim(-0.5,len(corrs.index)-0.5)\n",
    "\n",
    "# remove grid lines and spines\n",
    "ax.grid(False)\n",
    "for spine in ['top', 'right']:\n",
    "    ax.spines[spine].set_visible(False)\n",
    "\n",
    "# figure title\n",
    "fig.suptitle('Correlation of employment and participation rate',fontsize=14)\n",
    "fig.tight_layout()"
   ]
  },
  {
   "cell_type": "markdown",
   "metadata": {},
   "source": [
    "## 1.1. <a id='toc1_1_'></a>[Aggregations](#toc0_)"
   ]
  },
  {
   "cell_type": "markdown",
   "metadata": {},
   "source": [
    "We can do multiple calculations at once:"
   ]
  },
  {
   "cell_type": "code",
   "execution_count": 8,
   "metadata": {},
   "outputs": [
    {
     "data": {
      "text/html": [
       "<div>\n",
       "<style scoped>\n",
       "    .dataframe tbody tr th:only-of-type {\n",
       "        vertical-align: middle;\n",
       "    }\n",
       "\n",
       "    .dataframe tbody tr th {\n",
       "        vertical-align: top;\n",
       "    }\n",
       "\n",
       "    .dataframe thead th {\n",
       "        text-align: right;\n",
       "    }\n",
       "</style>\n",
       "<table border=\"1\" class=\"dataframe\">\n",
       "  <thead>\n",
       "    <tr style=\"text-align: right;\">\n",
       "      <th></th>\n",
       "      <th>mean</th>\n",
       "      <th>std</th>\n",
       "    </tr>\n",
       "    <tr>\n",
       "      <th>municipality</th>\n",
       "      <th></th>\n",
       "      <th></th>\n",
       "    </tr>\n",
       "  </thead>\n",
       "  <tbody>\n",
       "    <tr>\n",
       "      <th>Aabenraa</th>\n",
       "      <td>72.51250</td>\n",
       "      <td>2.221674</td>\n",
       "    </tr>\n",
       "    <tr>\n",
       "      <th>Aalborg</th>\n",
       "      <td>70.81250</td>\n",
       "      <td>2.490482</td>\n",
       "    </tr>\n",
       "    <tr>\n",
       "      <th>Aarhus</th>\n",
       "      <td>70.24375</td>\n",
       "      <td>2.361347</td>\n",
       "    </tr>\n",
       "    <tr>\n",
       "      <th>Albertslund</th>\n",
       "      <td>70.20000</td>\n",
       "      <td>2.867752</td>\n",
       "    </tr>\n",
       "    <tr>\n",
       "      <th>Allerød</th>\n",
       "      <td>82.26250</td>\n",
       "      <td>1.552149</td>\n",
       "    </tr>\n",
       "  </tbody>\n",
       "</table>\n",
       "</div>"
      ],
      "text/plain": [
       "                  mean       std\n",
       "municipality                    \n",
       "Aabenraa      72.51250  2.221674\n",
       "Aalborg       70.81250  2.490482\n",
       "Aarhus        70.24375  2.361347\n",
       "Albertslund   70.20000  2.867752\n",
       "Allerød       82.26250  1.552149"
      ]
     },
     "execution_count": 8,
     "metadata": {},
     "output_type": "execute_result"
    }
   ],
   "source": [
    "RAS.groupby('municipality')['emp_rate'].agg(['mean','std']).head(5)"
   ]
  },
  {
   "cell_type": "markdown",
   "metadata": {},
   "source": [
    "We can also name them ourselves:"
   ]
  },
  {
   "cell_type": "code",
   "execution_count": 9,
   "metadata": {},
   "outputs": [
    {
     "data": {
      "text/html": [
       "<div>\n",
       "<style scoped>\n",
       "    .dataframe tbody tr th:only-of-type {\n",
       "        vertical-align: middle;\n",
       "    }\n",
       "\n",
       "    .dataframe tbody tr th {\n",
       "        vertical-align: top;\n",
       "    }\n",
       "\n",
       "    .dataframe thead th {\n",
       "        text-align: right;\n",
       "    }\n",
       "</style>\n",
       "<table border=\"1\" class=\"dataframe\">\n",
       "  <thead>\n",
       "    <tr style=\"text-align: right;\">\n",
       "      <th></th>\n",
       "      <th>emp_rate_first</th>\n",
       "      <th>emp_rate_last</th>\n",
       "    </tr>\n",
       "    <tr>\n",
       "      <th>municipality</th>\n",
       "      <th></th>\n",
       "      <th></th>\n",
       "    </tr>\n",
       "  </thead>\n",
       "  <tbody>\n",
       "    <tr>\n",
       "      <th>Aabenraa</th>\n",
       "      <td>74.6</td>\n",
       "      <td>75.3</td>\n",
       "    </tr>\n",
       "    <tr>\n",
       "      <th>Aalborg</th>\n",
       "      <td>73.2</td>\n",
       "      <td>75.5</td>\n",
       "    </tr>\n",
       "    <tr>\n",
       "      <th>Aarhus</th>\n",
       "      <td>72.6</td>\n",
       "      <td>74.2</td>\n",
       "    </tr>\n",
       "    <tr>\n",
       "      <th>Albertslund</th>\n",
       "      <td>73.1</td>\n",
       "      <td>75.1</td>\n",
       "    </tr>\n",
       "    <tr>\n",
       "      <th>Allerød</th>\n",
       "      <td>83.8</td>\n",
       "      <td>84.7</td>\n",
       "    </tr>\n",
       "  </tbody>\n",
       "</table>\n",
       "</div>"
      ],
      "text/plain": [
       "              emp_rate_first  emp_rate_last\n",
       "municipality                               \n",
       "Aabenraa                74.6           75.3\n",
       "Aalborg                 73.2           75.5\n",
       "Aarhus                  72.6           74.2\n",
       "Albertslund             73.1           75.1\n",
       "Allerød                 83.8           84.7"
      ]
     },
     "execution_count": 9,
     "metadata": {},
     "output_type": "execute_result"
    }
   ],
   "source": [
    "RAS_agg = RAS.groupby('municipality').agg(\n",
    "    emp_rate_first=('emp_rate','first'),\n",
    "    emp_rate_last=('emp_rate','last')\n",
    "    )\n",
    "RAS_agg.head(5)"
   ]
  },
  {
   "cell_type": "markdown",
   "metadata": {},
   "source": [
    "Which municipalities had the largest increase in the employment rate?"
   ]
  },
  {
   "cell_type": "code",
   "execution_count": 10,
   "metadata": {},
   "outputs": [
    {
     "data": {
      "text/plain": [
       "municipality\n",
       "Christiansø      19.1\n",
       "Samsø             6.7\n",
       "Bornholm          6.4\n",
       "Fanø              5.6\n",
       "Ærø               5.1\n",
       "Copenhagen        4.3\n",
       "Frederiksberg     4.1\n",
       "Odsherred         3.7\n",
       "Læsø              3.2\n",
       "Esbjerg           3.2\n",
       "Name: emp_rate_diff, dtype: float64"
      ]
     },
     "execution_count": 10,
     "metadata": {},
     "output_type": "execute_result"
    }
   ],
   "source": [
    "RAS_agg['emp_rate_diff'] = RAS_agg['emp_rate_last']-RAS_agg['emp_rate_first']\n",
    "RAS_agg = RAS_agg.sort_values('emp_rate_diff',ascending=False)\n",
    "RAS_agg['emp_rate_diff'][:10]"
   ]
  },
  {
   "cell_type": "markdown",
   "metadata": {},
   "source": [
    "## 2. <a id='toc2_'></a>[Transformations](#toc0_)"
   ]
  },
  {
   "cell_type": "markdown",
   "metadata": {},
   "source": [
    "Calculate demeaned employment rate using `transform`:"
   ]
  },
  {
   "cell_type": "code",
   "execution_count": 11,
   "metadata": {},
   "outputs": [
    {
     "data": {
      "text/html": [
       "<div>\n",
       "<style scoped>\n",
       "    .dataframe tbody tr th:only-of-type {\n",
       "        vertical-align: middle;\n",
       "    }\n",
       "\n",
       "    .dataframe tbody tr th {\n",
       "        vertical-align: top;\n",
       "    }\n",
       "\n",
       "    .dataframe thead th {\n",
       "        text-align: right;\n",
       "    }\n",
       "</style>\n",
       "<table border=\"1\" class=\"dataframe\">\n",
       "  <thead>\n",
       "    <tr style=\"text-align: right;\">\n",
       "      <th></th>\n",
       "      <th>municipality</th>\n",
       "      <th>year</th>\n",
       "      <th>emp_rate</th>\n",
       "      <th>part_rate</th>\n",
       "      <th>diff_emp_rate</th>\n",
       "      <th>diff_part_rate</th>\n",
       "      <th>emp_rate_demeaned</th>\n",
       "    </tr>\n",
       "  </thead>\n",
       "  <tbody>\n",
       "    <tr>\n",
       "      <th>0</th>\n",
       "      <td>Aabenraa</td>\n",
       "      <td>2008</td>\n",
       "      <td>74.6</td>\n",
       "      <td>76.3</td>\n",
       "      <td>NaN</td>\n",
       "      <td>NaN</td>\n",
       "      <td>2.0875</td>\n",
       "    </tr>\n",
       "    <tr>\n",
       "      <th>1</th>\n",
       "      <td>Aabenraa</td>\n",
       "      <td>2009</td>\n",
       "      <td>71.6</td>\n",
       "      <td>75.2</td>\n",
       "      <td>-3.0</td>\n",
       "      <td>-1.1</td>\n",
       "      <td>-0.9125</td>\n",
       "    </tr>\n",
       "    <tr>\n",
       "      <th>2</th>\n",
       "      <td>Aabenraa</td>\n",
       "      <td>2010</td>\n",
       "      <td>70.9</td>\n",
       "      <td>74.5</td>\n",
       "      <td>-0.7</td>\n",
       "      <td>-0.7</td>\n",
       "      <td>-1.6125</td>\n",
       "    </tr>\n",
       "    <tr>\n",
       "      <th>3</th>\n",
       "      <td>Aabenraa</td>\n",
       "      <td>2011</td>\n",
       "      <td>70.2</td>\n",
       "      <td>74.0</td>\n",
       "      <td>-0.7</td>\n",
       "      <td>-0.5</td>\n",
       "      <td>-2.3125</td>\n",
       "    </tr>\n",
       "    <tr>\n",
       "      <th>4</th>\n",
       "      <td>Aabenraa</td>\n",
       "      <td>2012</td>\n",
       "      <td>69.5</td>\n",
       "      <td>73.7</td>\n",
       "      <td>-0.7</td>\n",
       "      <td>-0.3</td>\n",
       "      <td>-3.0125</td>\n",
       "    </tr>\n",
       "  </tbody>\n",
       "</table>\n",
       "</div>"
      ],
      "text/plain": [
       "  municipality  year  emp_rate  part_rate  diff_emp_rate  diff_part_rate  \\\n",
       "0     Aabenraa  2008      74.6       76.3            NaN             NaN   \n",
       "1     Aabenraa  2009      71.6       75.2           -3.0            -1.1   \n",
       "2     Aabenraa  2010      70.9       74.5           -0.7            -0.7   \n",
       "3     Aabenraa  2011      70.2       74.0           -0.7            -0.5   \n",
       "4     Aabenraa  2012      69.5       73.7           -0.7            -0.3   \n",
       "\n",
       "   emp_rate_demeaned  \n",
       "0             2.0875  \n",
       "1            -0.9125  \n",
       "2            -1.6125  \n",
       "3            -2.3125  \n",
       "4            -3.0125  "
      ]
     },
     "execution_count": 11,
     "metadata": {},
     "output_type": "execute_result"
    }
   ],
   "source": [
    "emp_rate_within_mean = RAS.groupby(['municipality'])['emp_rate'].transform('mean')\n",
    "RAS['emp_rate_demeaned'] = RAS['emp_rate'] - emp_rate_within_mean\n",
    "RAS.head()"
   ]
  },
  {
   "cell_type": "markdown",
   "metadata": {},
   "source": [
    "**Note:** Transformation preserves the shape of the dataset."
   ]
  },
  {
   "cell_type": "markdown",
   "metadata": {},
   "source": [
    "**Plot deviations from mean:**"
   ]
  },
  {
   "cell_type": "code",
   "execution_count": 12,
   "metadata": {},
   "outputs": [
    {
     "data": {
      "image/png": "[encoded data removed]",
      "text/plain": [
       "<Figure size 640x480 with 1 Axes>"
      ]
     },
     "metadata": {},
     "output_type": "display_data"
    }
   ],
   "source": [
    "fig = plt.figure()\n",
    "ax = fig.add_subplot(1,1,1)\n",
    "\n",
    "municipalities = ['Copenhagen','Roskilde','Lejre']\n",
    "for m in municipalities:\n",
    "    RAS.set_index('municipality').xs(m).plot(x='year',y='emp_rate_demeaned',ax=ax,label=m)\n",
    "\n",
    "ax.set_ylabel('percentage-point diff. to mean');\n",
    "ax.set_xlabel('year')\n",
    "years = RAS.year.unique()\n",
    "ax.set_xticks(years)\n",
    "ax.set_xticklabels(years,rotation=270)\n",
    "ax.legend(frameon=True,fontsize=12);"
   ]
  },
  {
   "cell_type": "markdown",
   "metadata": {},
   "source": [
    "## 3. <a id='toc3_'></a>[More flexiblity](#toc0_)"
   ]
  },
  {
   "cell_type": "markdown",
   "metadata": {},
   "source": [
    "We can also **apply our own functions**. E.g.:"
   ]
  },
  {
   "cell_type": "code",
   "execution_count": 13,
   "metadata": {},
   "outputs": [],
   "source": [
    "def my_mean(x):\n",
    "    return np.sum(x,axis=0)/x.size"
   ]
  },
  {
   "cell_type": "markdown",
   "metadata": {},
   "source": [
    "Here in `.agg` applied column by column:"
   ]
  },
  {
   "cell_type": "code",
   "execution_count": 14,
   "metadata": {},
   "outputs": [
    {
     "data": {
      "text/html": [
       "<div>\n",
       "<style scoped>\n",
       "    .dataframe tbody tr th:only-of-type {\n",
       "        vertical-align: middle;\n",
       "    }\n",
       "\n",
       "    .dataframe tbody tr th {\n",
       "        vertical-align: top;\n",
       "    }\n",
       "\n",
       "    .dataframe thead th {\n",
       "        text-align: right;\n",
       "    }\n",
       "</style>\n",
       "<table border=\"1\" class=\"dataframe\">\n",
       "  <thead>\n",
       "    <tr style=\"text-align: right;\">\n",
       "      <th></th>\n",
       "      <th>emp_rate</th>\n",
       "      <th>part_rate</th>\n",
       "    </tr>\n",
       "    <tr>\n",
       "      <th>municipality</th>\n",
       "      <th></th>\n",
       "      <th></th>\n",
       "    </tr>\n",
       "  </thead>\n",
       "  <tbody>\n",
       "    <tr>\n",
       "      <th>Aabenraa</th>\n",
       "      <td>72.51250</td>\n",
       "      <td>75.30000</td>\n",
       "    </tr>\n",
       "    <tr>\n",
       "      <th>Aalborg</th>\n",
       "      <td>70.81250</td>\n",
       "      <td>74.22500</td>\n",
       "    </tr>\n",
       "    <tr>\n",
       "      <th>Aarhus</th>\n",
       "      <td>70.24375</td>\n",
       "      <td>73.00625</td>\n",
       "    </tr>\n",
       "    <tr>\n",
       "      <th>Albertslund</th>\n",
       "      <td>70.20000</td>\n",
       "      <td>73.99375</td>\n",
       "    </tr>\n",
       "    <tr>\n",
       "      <th>Allerød</th>\n",
       "      <td>82.26250</td>\n",
       "      <td>83.86250</td>\n",
       "    </tr>\n",
       "  </tbody>\n",
       "</table>\n",
       "</div>"
      ],
      "text/plain": [
       "              emp_rate  part_rate\n",
       "municipality                     \n",
       "Aabenraa      72.51250   75.30000\n",
       "Aalborg       70.81250   74.22500\n",
       "Aarhus        70.24375   73.00625\n",
       "Albertslund   70.20000   73.99375\n",
       "Allerød       82.26250   83.86250"
      ]
     },
     "execution_count": 14,
     "metadata": {},
     "output_type": "execute_result"
    }
   ],
   "source": [
    "RAS.groupby('municipality')[['emp_rate','part_rate']].agg(my_mean).head()"
   ]
  },
  {
   "cell_type": "markdown",
   "metadata": {},
   "source": [
    "Here in `.transform` applied column by column:"
   ]
  },
  {
   "cell_type": "code",
   "execution_count": 15,
   "metadata": {},
   "outputs": [
    {
     "data": {
      "text/html": [
       "<div>\n",
       "<style scoped>\n",
       "    .dataframe tbody tr th:only-of-type {\n",
       "        vertical-align: middle;\n",
       "    }\n",
       "\n",
       "    .dataframe tbody tr th {\n",
       "        vertical-align: top;\n",
       "    }\n",
       "\n",
       "    .dataframe thead th {\n",
       "        text-align: right;\n",
       "    }\n",
       "</style>\n",
       "<table border=\"1\" class=\"dataframe\">\n",
       "  <thead>\n",
       "    <tr style=\"text-align: right;\">\n",
       "      <th></th>\n",
       "      <th>emp_rate</th>\n",
       "      <th>part_rate</th>\n",
       "    </tr>\n",
       "  </thead>\n",
       "  <tbody>\n",
       "    <tr>\n",
       "      <th>0</th>\n",
       "      <td>72.5125</td>\n",
       "      <td>75.3</td>\n",
       "    </tr>\n",
       "    <tr>\n",
       "      <th>1</th>\n",
       "      <td>72.5125</td>\n",
       "      <td>75.3</td>\n",
       "    </tr>\n",
       "    <tr>\n",
       "      <th>2</th>\n",
       "      <td>72.5125</td>\n",
       "      <td>75.3</td>\n",
       "    </tr>\n",
       "    <tr>\n",
       "      <th>3</th>\n",
       "      <td>72.5125</td>\n",
       "      <td>75.3</td>\n",
       "    </tr>\n",
       "    <tr>\n",
       "      <th>4</th>\n",
       "      <td>72.5125</td>\n",
       "      <td>75.3</td>\n",
       "    </tr>\n",
       "  </tbody>\n",
       "</table>\n",
       "</div>"
      ],
      "text/plain": [
       "   emp_rate  part_rate\n",
       "0   72.5125       75.3\n",
       "1   72.5125       75.3\n",
       "2   72.5125       75.3\n",
       "3   72.5125       75.3\n",
       "4   72.5125       75.3"
      ]
     },
     "execution_count": 15,
     "metadata": {},
     "output_type": "execute_result"
    }
   ],
   "source": [
    "RAS.groupby('municipality')[['emp_rate','part_rate']].transform(my_mean).head()"
   ]
  },
  {
   "cell_type": "markdown",
   "metadata": {},
   "source": [
    "Here in `.apply()` applied to the whole dataframe:"
   ]
  },
  {
   "cell_type": "code",
   "execution_count": 16,
   "metadata": {},
   "outputs": [
    {
     "data": {
      "text/plain": [
       "municipality\n",
       "Aabenraa       73.906250\n",
       "Aalborg        72.518750\n",
       "Aarhus         71.625000\n",
       "Albertslund    72.096875\n",
       "Allerød        83.062500\n",
       "Name: my_var, dtype: float64"
      ]
     },
     "execution_count": 16,
     "metadata": {},
     "output_type": "execute_result"
    }
   ],
   "source": [
    "def my_weighted_mean(df):\n",
    "    x = 0.5*df['emp_rate'] + 0.5*df['part_rate']\n",
    "    return my_mean(x)\n",
    "\n",
    "y = RAS.groupby('municipality')[['emp_rate','part_rate']].apply(my_weighted_mean).rename('my_var')\n",
    "y.head()"
   ]
  },
  {
   "cell_type": "markdown",
   "metadata": {},
   "source": [
    "Afterwards this can be joined with the original data set:"
   ]
  },
  {
   "cell_type": "code",
   "execution_count": 17,
   "metadata": {},
   "outputs": [
    {
     "data": {
      "text/html": [
       "<div>\n",
       "<style scoped>\n",
       "    .dataframe tbody tr th:only-of-type {\n",
       "        vertical-align: middle;\n",
       "    }\n",
       "\n",
       "    .dataframe tbody tr th {\n",
       "        vertical-align: top;\n",
       "    }\n",
       "\n",
       "    .dataframe thead th {\n",
       "        text-align: right;\n",
       "    }\n",
       "</style>\n",
       "<table border=\"1\" class=\"dataframe\">\n",
       "  <thead>\n",
       "    <tr style=\"text-align: right;\">\n",
       "      <th></th>\n",
       "      <th>year</th>\n",
       "      <th>emp_rate</th>\n",
       "      <th>part_rate</th>\n",
       "      <th>diff_emp_rate</th>\n",
       "      <th>diff_part_rate</th>\n",
       "      <th>emp_rate_demeaned</th>\n",
       "      <th>my_var</th>\n",
       "    </tr>\n",
       "    <tr>\n",
       "      <th>municipality</th>\n",
       "      <th></th>\n",
       "      <th></th>\n",
       "      <th></th>\n",
       "      <th></th>\n",
       "      <th></th>\n",
       "      <th></th>\n",
       "      <th></th>\n",
       "    </tr>\n",
       "  </thead>\n",
       "  <tbody>\n",
       "    <tr>\n",
       "      <th>Aabenraa</th>\n",
       "      <td>2008</td>\n",
       "      <td>74.6</td>\n",
       "      <td>76.3</td>\n",
       "      <td>NaN</td>\n",
       "      <td>NaN</td>\n",
       "      <td>2.0875</td>\n",
       "      <td>73.906250</td>\n",
       "    </tr>\n",
       "    <tr>\n",
       "      <th>Aabenraa</th>\n",
       "      <td>2009</td>\n",
       "      <td>71.6</td>\n",
       "      <td>75.2</td>\n",
       "      <td>-3.0</td>\n",
       "      <td>-1.1</td>\n",
       "      <td>-0.9125</td>\n",
       "      <td>73.906250</td>\n",
       "    </tr>\n",
       "    <tr>\n",
       "      <th>Aabenraa</th>\n",
       "      <td>2010</td>\n",
       "      <td>70.9</td>\n",
       "      <td>74.5</td>\n",
       "      <td>-0.7</td>\n",
       "      <td>-0.7</td>\n",
       "      <td>-1.6125</td>\n",
       "      <td>73.906250</td>\n",
       "    </tr>\n",
       "    <tr>\n",
       "      <th>Aabenraa</th>\n",
       "      <td>2011</td>\n",
       "      <td>70.2</td>\n",
       "      <td>74.0</td>\n",
       "      <td>-0.7</td>\n",
       "      <td>-0.5</td>\n",
       "      <td>-2.3125</td>\n",
       "      <td>73.906250</td>\n",
       "    </tr>\n",
       "    <tr>\n",
       "      <th>Aabenraa</th>\n",
       "      <td>2012</td>\n",
       "      <td>69.5</td>\n",
       "      <td>73.7</td>\n",
       "      <td>-0.7</td>\n",
       "      <td>-0.3</td>\n",
       "      <td>-3.0125</td>\n",
       "      <td>73.906250</td>\n",
       "    </tr>\n",
       "    <tr>\n",
       "      <th>...</th>\n",
       "      <td>...</td>\n",
       "      <td>...</td>\n",
       "      <td>...</td>\n",
       "      <td>...</td>\n",
       "      <td>...</td>\n",
       "      <td>...</td>\n",
       "      <td>...</td>\n",
       "    </tr>\n",
       "    <tr>\n",
       "      <th>Ærø</th>\n",
       "      <td>2019</td>\n",
       "      <td>69.3</td>\n",
       "      <td>72.7</td>\n",
       "      <td>-0.8</td>\n",
       "      <td>0.0</td>\n",
       "      <td>1.2125</td>\n",
       "      <td>69.328125</td>\n",
       "    </tr>\n",
       "    <tr>\n",
       "      <th>Ærø</th>\n",
       "      <td>2020</td>\n",
       "      <td>69.7</td>\n",
       "      <td>72.6</td>\n",
       "      <td>0.4</td>\n",
       "      <td>-0.1</td>\n",
       "      <td>1.6125</td>\n",
       "      <td>69.328125</td>\n",
       "    </tr>\n",
       "    <tr>\n",
       "      <th>Ærø</th>\n",
       "      <td>2021</td>\n",
       "      <td>71.6</td>\n",
       "      <td>73.2</td>\n",
       "      <td>1.9</td>\n",
       "      <td>0.6</td>\n",
       "      <td>3.5125</td>\n",
       "      <td>69.328125</td>\n",
       "    </tr>\n",
       "    <tr>\n",
       "      <th>Ærø</th>\n",
       "      <td>2022</td>\n",
       "      <td>72.1</td>\n",
       "      <td>73.4</td>\n",
       "      <td>0.5</td>\n",
       "      <td>0.2</td>\n",
       "      <td>4.0125</td>\n",
       "      <td>69.328125</td>\n",
       "    </tr>\n",
       "    <tr>\n",
       "      <th>Ærø</th>\n",
       "      <td>2023</td>\n",
       "      <td>73.5</td>\n",
       "      <td>74.6</td>\n",
       "      <td>1.4</td>\n",
       "      <td>1.2</td>\n",
       "      <td>5.4125</td>\n",
       "      <td>69.328125</td>\n",
       "    </tr>\n",
       "  </tbody>\n",
       "</table>\n",
       "<p>1584 rows × 7 columns</p>\n",
       "</div>"
      ],
      "text/plain": [
       "              year  emp_rate  part_rate  diff_emp_rate  diff_part_rate  \\\n",
       "municipality                                                             \n",
       "Aabenraa      2008      74.6       76.3            NaN             NaN   \n",
       "Aabenraa      2009      71.6       75.2           -3.0            -1.1   \n",
       "Aabenraa      2010      70.9       74.5           -0.7            -0.7   \n",
       "Aabenraa      2011      70.2       74.0           -0.7            -0.5   \n",
       "Aabenraa      2012      69.5       73.7           -0.7            -0.3   \n",
       "...            ...       ...        ...            ...             ...   \n",
       "Ærø           2019      69.3       72.7           -0.8             0.0   \n",
       "Ærø           2020      69.7       72.6            0.4            -0.1   \n",
       "Ærø           2021      71.6       73.2            1.9             0.6   \n",
       "Ærø           2022      72.1       73.4            0.5             0.2   \n",
       "Ærø           2023      73.5       74.6            1.4             1.2   \n",
       "\n",
       "              emp_rate_demeaned     my_var  \n",
       "municipality                                \n",
       "Aabenraa                 2.0875  73.906250  \n",
       "Aabenraa                -0.9125  73.906250  \n",
       "Aabenraa                -1.6125  73.906250  \n",
       "Aabenraa                -2.3125  73.906250  \n",
       "Aabenraa                -3.0125  73.906250  \n",
       "...                         ...        ...  \n",
       "Ærø                      1.2125  69.328125  \n",
       "Ærø                      1.6125  69.328125  \n",
       "Ærø                      3.5125  69.328125  \n",
       "Ærø                      4.0125  69.328125  \n",
       "Ærø                      5.4125  69.328125  \n",
       "\n",
       "[1584 rows x 7 columns]"
      ]
     },
     "execution_count": 17,
     "metadata": {},
     "output_type": "execute_result"
    }
   ],
   "source": [
    "RAS_ = RAS.copy()\n",
    "RAS_.set_index('municipality').join(y,how='left') # many-to-one left join"
   ]
  },
  {
   "cell_type": "markdown",
   "metadata": {},
   "source": [
    "**Extra example I:** 5 year differences using `shift()`, shown for each 5th year"
   ]
  },
  {
   "cell_type": "code",
   "execution_count": 18,
   "metadata": {},
   "outputs": [
    {
     "data": {
      "text/html": [
       "<div>\n",
       "<style scoped>\n",
       "    .dataframe tbody tr th:only-of-type {\n",
       "        vertical-align: middle;\n",
       "    }\n",
       "\n",
       "    .dataframe tbody tr th {\n",
       "        vertical-align: top;\n",
       "    }\n",
       "\n",
       "    .dataframe thead th {\n",
       "        text-align: right;\n",
       "    }\n",
       "</style>\n",
       "<table border=\"1\" class=\"dataframe\">\n",
       "  <thead>\n",
       "    <tr style=\"text-align: right;\">\n",
       "      <th></th>\n",
       "      <th>municipality</th>\n",
       "      <th>year</th>\n",
       "      <th>emp_rate_diff5</th>\n",
       "    </tr>\n",
       "  </thead>\n",
       "  <tbody>\n",
       "    <tr>\n",
       "      <th>0</th>\n",
       "      <td>Aabenraa</td>\n",
       "      <td>2008</td>\n",
       "      <td>NaN</td>\n",
       "    </tr>\n",
       "    <tr>\n",
       "      <th>5</th>\n",
       "      <td>Aabenraa</td>\n",
       "      <td>2013</td>\n",
       "      <td>-5.2</td>\n",
       "    </tr>\n",
       "    <tr>\n",
       "      <th>10</th>\n",
       "      <td>Aabenraa</td>\n",
       "      <td>2018</td>\n",
       "      <td>4.6</td>\n",
       "    </tr>\n",
       "    <tr>\n",
       "      <th>15</th>\n",
       "      <td>Aabenraa</td>\n",
       "      <td>2023</td>\n",
       "      <td>1.3</td>\n",
       "    </tr>\n",
       "    <tr>\n",
       "      <th>16</th>\n",
       "      <td>Aalborg</td>\n",
       "      <td>2008</td>\n",
       "      <td>NaN</td>\n",
       "    </tr>\n",
       "    <tr>\n",
       "      <th>21</th>\n",
       "      <td>Aalborg</td>\n",
       "      <td>2013</td>\n",
       "      <td>-5.3</td>\n",
       "    </tr>\n",
       "    <tr>\n",
       "      <th>26</th>\n",
       "      <td>Aalborg</td>\n",
       "      <td>2018</td>\n",
       "      <td>3.1</td>\n",
       "    </tr>\n",
       "    <tr>\n",
       "      <th>31</th>\n",
       "      <td>Aalborg</td>\n",
       "      <td>2023</td>\n",
       "      <td>4.5</td>\n",
       "    </tr>\n",
       "    <tr>\n",
       "      <th>32</th>\n",
       "      <td>Aarhus</td>\n",
       "      <td>2008</td>\n",
       "      <td>NaN</td>\n",
       "    </tr>\n",
       "    <tr>\n",
       "      <th>37</th>\n",
       "      <td>Aarhus</td>\n",
       "      <td>2013</td>\n",
       "      <td>-5.3</td>\n",
       "    </tr>\n",
       "  </tbody>\n",
       "</table>\n",
       "</div>"
      ],
      "text/plain": [
       "   municipality  year  emp_rate_diff5\n",
       "0      Aabenraa  2008             NaN\n",
       "5      Aabenraa  2013            -5.2\n",
       "10     Aabenraa  2018             4.6\n",
       "15     Aabenraa  2023             1.3\n",
       "16      Aalborg  2008             NaN\n",
       "21      Aalborg  2013            -5.3\n",
       "26      Aalborg  2018             3.1\n",
       "31      Aalborg  2023             4.5\n",
       "32       Aarhus  2008             NaN\n",
       "37       Aarhus  2013            -5.3"
      ]
     },
     "execution_count": 18,
     "metadata": {},
     "output_type": "execute_result"
    }
   ],
   "source": [
    "RAS_ = RAS.copy()\n",
    "\n",
    "RAS_['emp_rate_diff5'] = (\n",
    "    RAS_\n",
    "    .groupby('municipality')['emp_rate']\n",
    "    .transform(lambda x: x - x.shift(5))\n",
    ")\n",
    "\n",
    "I = (RAS_.year - 2008) % 5 == 0\n",
    "RAS_.loc[I, ['municipality', 'year', 'emp_rate_diff5']].head(10)"
   ]
  },
  {
   "cell_type": "markdown",
   "metadata": {},
   "source": [
    "**Extra example II**: Rolling average of three periods"
   ]
  },
  {
   "cell_type": "code",
   "execution_count": 19,
   "metadata": {},
   "outputs": [
    {
     "data": {
      "text/html": [
       "<div>\n",
       "<style scoped>\n",
       "    .dataframe tbody tr th:only-of-type {\n",
       "        vertical-align: middle;\n",
       "    }\n",
       "\n",
       "    .dataframe tbody tr th {\n",
       "        vertical-align: top;\n",
       "    }\n",
       "\n",
       "    .dataframe thead th {\n",
       "        text-align: right;\n",
       "    }\n",
       "</style>\n",
       "<table border=\"1\" class=\"dataframe\">\n",
       "  <thead>\n",
       "    <tr style=\"text-align: right;\">\n",
       "      <th></th>\n",
       "      <th>municipality</th>\n",
       "      <th>emp_rate_mean3</th>\n",
       "    </tr>\n",
       "  </thead>\n",
       "  <tbody>\n",
       "    <tr>\n",
       "      <th>0</th>\n",
       "      <td>Aabenraa</td>\n",
       "      <td>NaN</td>\n",
       "    </tr>\n",
       "    <tr>\n",
       "      <th>1</th>\n",
       "      <td>Aabenraa</td>\n",
       "      <td>NaN</td>\n",
       "    </tr>\n",
       "    <tr>\n",
       "      <th>2</th>\n",
       "      <td>Aabenraa</td>\n",
       "      <td>72.366667</td>\n",
       "    </tr>\n",
       "    <tr>\n",
       "      <th>3</th>\n",
       "      <td>Aabenraa</td>\n",
       "      <td>70.900000</td>\n",
       "    </tr>\n",
       "    <tr>\n",
       "      <th>4</th>\n",
       "      <td>Aabenraa</td>\n",
       "      <td>70.200000</td>\n",
       "    </tr>\n",
       "    <tr>\n",
       "      <th>5</th>\n",
       "      <td>Aabenraa</td>\n",
       "      <td>69.700000</td>\n",
       "    </tr>\n",
       "    <tr>\n",
       "      <th>6</th>\n",
       "      <td>Aabenraa</td>\n",
       "      <td>69.666667</td>\n",
       "    </tr>\n",
       "    <tr>\n",
       "      <th>7</th>\n",
       "      <td>Aabenraa</td>\n",
       "      <td>70.066667</td>\n",
       "    </tr>\n",
       "    <tr>\n",
       "      <th>8</th>\n",
       "      <td>Aabenraa</td>\n",
       "      <td>70.933333</td>\n",
       "    </tr>\n",
       "    <tr>\n",
       "      <th>9</th>\n",
       "      <td>Aabenraa</td>\n",
       "      <td>71.866667</td>\n",
       "    </tr>\n",
       "  </tbody>\n",
       "</table>\n",
       "</div>"
      ],
      "text/plain": [
       "  municipality  emp_rate_mean3\n",
       "0     Aabenraa             NaN\n",
       "1     Aabenraa             NaN\n",
       "2     Aabenraa       72.366667\n",
       "3     Aabenraa       70.900000\n",
       "4     Aabenraa       70.200000\n",
       "5     Aabenraa       69.700000\n",
       "6     Aabenraa       69.666667\n",
       "7     Aabenraa       70.066667\n",
       "8     Aabenraa       70.933333\n",
       "9     Aabenraa       71.866667"
      ]
     },
     "execution_count": 19,
     "metadata": {},
     "output_type": "execute_result"
    }
   ],
   "source": [
    "RAS_ = RAS.copy()\n",
    "RAS_['emp_rate_mean3'] = (\n",
    "    RAS_\n",
    "    .groupby('municipality')['emp_rate']\n",
    "    .transform(lambda x: x.rolling(3).mean())\n",
    ")\n",
    "RAS_.loc[:, ['municipality', 'emp_rate_mean3']].head(10)"
   ]
  },
  {
   "cell_type": "markdown",
   "metadata": {},
   "source": [
    "## 4. <a id='toc4_'></a>[Summary](#toc0_)"
   ]
  },
  {
   "cell_type": "markdown",
   "metadata": {},
   "source": [
    "The main takeaways are:\n",
    "\n",
    "1. With-in group calculations with `.groupby`\n",
    "1. Aggregations with `.agg`\n",
    "1. Transformations with `.transform`\n",
    "1. Flexilibity with `.apply` (but slower)"
   ]
  },
  {
   "cell_type": "markdown",
   "metadata": {},
   "source": [
    "Any questions on analyzing with groupby?\n",
    "\n",
    "**Socrative room:** PROGECON"
   ]
  }
 ],
 "metadata": {
  "kernelspec": {
   "display_name": "base",
   "language": "python",
   "name": "python3"
  },
  "language_info": {
   "codemirror_mode": {
    "name": "ipython",
    "version": 3
   },
   "file_extension": ".py",
   "mimetype": "text/x-python",
   "name": "python",
   "nbconvert_exporter": "python",
   "pygments_lexer": "ipython3",
   "version": "3.13.5"
  },
  "orig_nbformat": 4,
  "vscode": {
   "interpreter": {
    "hash": "2164e4eaf16dd6cd705646718fcef4f5f263bad5b7d103e76e9308c0132ca24b"
   }
  }
 },
 "nbformat": 4,
 "nbformat_minor": 2
}
