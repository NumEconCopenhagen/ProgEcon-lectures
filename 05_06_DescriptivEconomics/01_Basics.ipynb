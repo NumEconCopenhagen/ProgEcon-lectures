{
 "cells": [
  {
   "cell_type": "markdown",
   "id": "cc0789e1",
   "metadata": {},
   "source": [
    "# Introduction to Pandas"
   ]
  },
  {
   "cell_type": "markdown",
   "id": "1ae926f7",
   "metadata": {},
   "source": [
    "**Pandas** is the standard package for working with data in Python. Here you learn the basics."
   ]
  },
  {
   "cell_type": "markdown",
   "id": "bc3db251",
   "metadata": {},
   "source": [
    "**Table of contents**<a id='toc0_'></a>    \n",
    "- 1. [Pandas dataframe](#toc1_)    \n",
    "- 2. [Indexing (\"subsetting\")](#toc2_)    \n",
    "  - 2.1. [Logical and name-based indexing](#toc2_1_)    \n",
    "  - 2.2. [Positional-indexing](#toc2_2_)    \n",
    "- 3. [Adding a new variable](#toc3_)    \n",
    "- 4. [Changing a subset of variables](#toc4_)    \n",
    "- 5. [Summary](#toc5_)    \n",
    "\n",
    "<!-- vscode-jupyter-toc-config\n",
    "\tnumbering=true\n",
    "\tanchor=true\n",
    "\tflat=false\n",
    "\tminLevel=2\n",
    "\tmaxLevel=6\n",
    "\t/vscode-jupyter-toc-config -->\n",
    "<!-- THIS CELL WILL BE REPLACED ON TOC UPDATE. DO NOT WRITE YOUR TEXT IN THIS CELL -->"
   ]
  },
  {
   "cell_type": "code",
   "execution_count": 1,
   "id": "df906ca5",
   "metadata": {},
   "outputs": [],
   "source": [
    "import pandas as pd\n",
    "from IPython.display import display"
   ]
  },
  {
   "cell_type": "markdown",
   "id": "0d9865e3",
   "metadata": {},
   "source": [
    "## 1. <a id='toc1_'></a>[Pandas dataframe](#toc0_)"
   ]
  },
  {
   "cell_type": "markdown",
   "id": "aefb3ff0",
   "metadata": {},
   "source": [
    "The `DataFrame` is the fundamental object in `pandas`. It is a matrix of data.\n",
    "\n",
    "1. Each **column** is a variable (series) with a *name*.\n",
    "1. Each **row** is an observation with an *index* (starting from 0)."
   ]
  },
  {
   "cell_type": "code",
   "execution_count": 2,
   "id": "8289c8e5",
   "metadata": {},
   "outputs": [
    {
     "name": "stdout",
     "output_type": "stream",
     "text": [
      "type(X) = <class 'pandas.core.frame.DataFrame'>\n",
      "type(X['inc']) = <class 'pandas.core.series.Series'>\n",
      "type(X['inc'].dtype) = <class 'numpy.dtypes.Float64DType'>\n"
     ]
    },
    {
     "data": {
      "text/html": [
       "<div>\n",
       "<style scoped>\n",
       "    .dataframe tbody tr th:only-of-type {\n",
       "        vertical-align: middle;\n",
       "    }\n",
       "\n",
       "    .dataframe tbody tr th {\n",
       "        vertical-align: top;\n",
       "    }\n",
       "\n",
       "    .dataframe thead th {\n",
       "        text-align: right;\n",
       "    }\n",
       "</style>\n",
       "<table border=\"1\" class=\"dataframe\">\n",
       "  <thead>\n",
       "    <tr style=\"text-align: right;\">\n",
       "      <th></th>\n",
       "      <th>id</th>\n",
       "      <th>inc</th>\n",
       "      <th>name</th>\n",
       "    </tr>\n",
       "  </thead>\n",
       "  <tbody>\n",
       "    <tr>\n",
       "      <th>0</th>\n",
       "      <td>1</td>\n",
       "      <td>11.7</td>\n",
       "      <td>Vitus</td>\n",
       "    </tr>\n",
       "    <tr>\n",
       "      <th>1</th>\n",
       "      <td>2</td>\n",
       "      <td>13.9</td>\n",
       "      <td>Maximilian</td>\n",
       "    </tr>\n",
       "    <tr>\n",
       "      <th>2</th>\n",
       "      <td>3</td>\n",
       "      <td>14.6</td>\n",
       "      <td>Bo-bob</td>\n",
       "    </tr>\n",
       "  </tbody>\n",
       "</table>\n",
       "</div>"
      ],
      "text/plain": [
       "   id   inc        name\n",
       "0   1  11.7       Vitus\n",
       "1   2  13.9  Maximilian\n",
       "2   3  14.6      Bo-bob"
      ]
     },
     "metadata": {},
     "output_type": "display_data"
    }
   ],
   "source": [
    "X = pd.DataFrame({'id': [1,2,3], \n",
    "                  'inc': [11.7,13.9,14.6], \n",
    "                  'name': ['Vitus','Maximilian','Bo-bob']})\n",
    "\n",
    "print(f'{type(X) = }')\n",
    "print(f'{type(X['inc']) = }')\n",
    "print(f'{type(X['inc'].dtype) = }')\n",
    "display(X)"
   ]
  },
  {
   "cell_type": "markdown",
   "id": "f089ff27",
   "metadata": {},
   "source": [
    "`.column` notation is also possible."
   ]
  },
  {
   "cell_type": "code",
   "execution_count": 3,
   "id": "bc578f68",
   "metadata": {},
   "outputs": [
    {
     "data": {
      "text/plain": [
       "0    11.7\n",
       "1    13.9\n",
       "2    14.6\n",
       "Name: inc, dtype: float64"
      ]
     },
     "execution_count": 3,
     "metadata": {},
     "output_type": "execute_result"
    }
   ],
   "source": [
    "X.inc"
   ]
  },
  {
   "cell_type": "markdown",
   "id": "fedf2373",
   "metadata": {},
   "source": [
    "We can get (a view of) the underlying `numpy` data:"
   ]
  },
  {
   "cell_type": "code",
   "execution_count": 4,
   "id": "bdbaf956",
   "metadata": {},
   "outputs": [
    {
     "name": "stdout",
     "output_type": "stream",
     "text": [
      "type(inc) = <class 'numpy.ndarray'>\n",
      "[11.7 13.9 14.6]\n"
     ]
    }
   ],
   "source": [
    "inc = X['inc'].to_numpy()\n",
    "print(f'{type(inc) = }')\n",
    "print(inc)"
   ]
  },
  {
   "cell_type": "markdown",
   "id": "01c8c1d3",
   "metadata": {},
   "source": [
    "**General information** can be obtained by"
   ]
  },
  {
   "cell_type": "code",
   "execution_count": 5,
   "id": "f8ad8e73",
   "metadata": {},
   "outputs": [
    {
     "name": "stdout",
     "output_type": "stream",
     "text": [
      "<class 'pandas.core.frame.DataFrame'>\n",
      "RangeIndex: 3 entries, 0 to 2\n",
      "Data columns (total 3 columns):\n",
      " #   Column  Non-Null Count  Dtype  \n",
      "---  ------  --------------  -----  \n",
      " 0   id      3 non-null      int64  \n",
      " 1   inc     3 non-null      float64\n",
      " 2   name    3 non-null      object \n",
      "dtypes: float64(1), int64(1), object(1)\n",
      "memory usage: 204.0+ bytes\n"
     ]
    }
   ],
   "source": [
    "X.info()"
   ]
  },
  {
   "cell_type": "markdown",
   "id": "7e7cdd3e",
   "metadata": {},
   "source": [
    "**What is `object`?** \n",
    "\n",
    "* In practice it is a `str` \n",
    "* Can contain multiple types (strings, floats, NaNs, etc.), which  can create difficulties"
   ]
  },
  {
   "cell_type": "markdown",
   "id": "c5bf53e1",
   "metadata": {},
   "source": [
    "## 2. <a id='toc2_'></a>[Indexing (\"subsetting\")](#toc0_)"
   ]
  },
  {
   "cell_type": "markdown",
   "id": "47225644",
   "metadata": {},
   "source": [
    "**Indexing**: Choosing a subset of the rows and/or columns of a dataframe."
   ]
  },
  {
   "cell_type": "markdown",
   "id": "ba88bc19",
   "metadata": {},
   "source": [
    "### 2.1. <a id='toc2_1_'></a>[Logical and name-based indexing](#toc0_)"
   ]
  },
  {
   "cell_type": "markdown",
   "id": "fdc17e64",
   "metadata": {},
   "source": [
    "`.loc[]` for **logical** and **name-based** indexing."
   ]
  },
  {
   "cell_type": "markdown",
   "id": "35843298",
   "metadata": {},
   "source": [
    "**Syntax**: `df.loc[CONDITION,VARLIST]`, where \n",
    "\n",
    "- `CONDITION` is a vector of logical statements with the same length as the number of rows in the dataframe,\n",
    "- `VARLIST` is a list over variables."
   ]
  },
  {
   "cell_type": "code",
   "execution_count": 6,
   "id": "3ef7720e",
   "metadata": {},
   "outputs": [
    {
     "data": {
      "text/html": [
       "<div>\n",
       "<style scoped>\n",
       "    .dataframe tbody tr th:only-of-type {\n",
       "        vertical-align: middle;\n",
       "    }\n",
       "\n",
       "    .dataframe tbody tr th {\n",
       "        vertical-align: top;\n",
       "    }\n",
       "\n",
       "    .dataframe thead th {\n",
       "        text-align: right;\n",
       "    }\n",
       "</style>\n",
       "<table border=\"1\" class=\"dataframe\">\n",
       "  <thead>\n",
       "    <tr style=\"text-align: right;\">\n",
       "      <th></th>\n",
       "      <th>name</th>\n",
       "    </tr>\n",
       "  </thead>\n",
       "  <tbody>\n",
       "    <tr>\n",
       "      <th>1</th>\n",
       "      <td>Maximilian</td>\n",
       "    </tr>\n",
       "    <tr>\n",
       "      <th>2</th>\n",
       "      <td>Bo-bob</td>\n",
       "    </tr>\n",
       "  </tbody>\n",
       "</table>\n",
       "</div>"
      ],
      "text/plain": [
       "         name\n",
       "1  Maximilian\n",
       "2      Bo-bob"
      ]
     },
     "execution_count": 6,
     "metadata": {},
     "output_type": "execute_result"
    }
   ],
   "source": [
    "I = X['inc'] > 12 # boolean mask\n",
    "cols = ['name'] # list of column names\n",
    "X.loc[I,cols]"
   ]
  },
  {
   "cell_type": "code",
   "execution_count": 7,
   "id": "f4ec9f16",
   "metadata": {},
   "outputs": [
    {
     "data": {
      "text/html": [
       "<div>\n",
       "<style scoped>\n",
       "    .dataframe tbody tr th:only-of-type {\n",
       "        vertical-align: middle;\n",
       "    }\n",
       "\n",
       "    .dataframe tbody tr th {\n",
       "        vertical-align: top;\n",
       "    }\n",
       "\n",
       "    .dataframe thead th {\n",
       "        text-align: right;\n",
       "    }\n",
       "</style>\n",
       "<table border=\"1\" class=\"dataframe\">\n",
       "  <thead>\n",
       "    <tr style=\"text-align: right;\">\n",
       "      <th></th>\n",
       "      <th>id</th>\n",
       "      <th>name</th>\n",
       "    </tr>\n",
       "  </thead>\n",
       "  <tbody>\n",
       "    <tr>\n",
       "      <th>1</th>\n",
       "      <td>2</td>\n",
       "      <td>Maximilian</td>\n",
       "    </tr>\n",
       "  </tbody>\n",
       "</table>\n",
       "</div>"
      ],
      "text/plain": [
       "   id        name\n",
       "1   2  Maximilian"
      ]
     },
     "execution_count": 7,
     "metadata": {},
     "output_type": "execute_result"
    }
   ],
   "source": [
    "I = (X['inc'] > 12) & (X['inc'] < 14) # boolean mask\n",
    "cols = ['id','name'] # list of column names\n",
    "X.loc[I,cols]"
   ]
  },
  {
   "cell_type": "markdown",
   "id": "01b6def9",
   "metadata": {},
   "source": [
    "All columns is the default:"
   ]
  },
  {
   "cell_type": "code",
   "execution_count": 8,
   "id": "f360e2ee",
   "metadata": {},
   "outputs": [
    {
     "data": {
      "text/html": [
       "<div>\n",
       "<style scoped>\n",
       "    .dataframe tbody tr th:only-of-type {\n",
       "        vertical-align: middle;\n",
       "    }\n",
       "\n",
       "    .dataframe tbody tr th {\n",
       "        vertical-align: top;\n",
       "    }\n",
       "\n",
       "    .dataframe thead th {\n",
       "        text-align: right;\n",
       "    }\n",
       "</style>\n",
       "<table border=\"1\" class=\"dataframe\">\n",
       "  <thead>\n",
       "    <tr style=\"text-align: right;\">\n",
       "      <th></th>\n",
       "      <th>id</th>\n",
       "      <th>inc</th>\n",
       "      <th>name</th>\n",
       "    </tr>\n",
       "  </thead>\n",
       "  <tbody>\n",
       "    <tr>\n",
       "      <th>1</th>\n",
       "      <td>2</td>\n",
       "      <td>13.9</td>\n",
       "      <td>Maximilian</td>\n",
       "    </tr>\n",
       "  </tbody>\n",
       "</table>\n",
       "</div>"
      ],
      "text/plain": [
       "   id   inc        name\n",
       "1   2  13.9  Maximilian"
      ]
     },
     "execution_count": 8,
     "metadata": {},
     "output_type": "execute_result"
    }
   ],
   "source": [
    "X.loc[I]"
   ]
  },
  {
   "cell_type": "markdown",
   "id": "2dca0a4e",
   "metadata": {},
   "source": [
    "### 2.2. <a id='toc2_2_'></a>[Positional-indexing](#toc0_)"
   ]
  },
  {
   "cell_type": "markdown",
   "id": "c71ceee1",
   "metadata": {},
   "source": [
    "We can also use positional-indexing as in numpy arrays:"
   ]
  },
  {
   "cell_type": "code",
   "execution_count": 9,
   "id": "49552ffc",
   "metadata": {},
   "outputs": [
    {
     "data": {
      "text/html": [
       "<div>\n",
       "<style scoped>\n",
       "    .dataframe tbody tr th:only-of-type {\n",
       "        vertical-align: middle;\n",
       "    }\n",
       "\n",
       "    .dataframe tbody tr th {\n",
       "        vertical-align: top;\n",
       "    }\n",
       "\n",
       "    .dataframe thead th {\n",
       "        text-align: right;\n",
       "    }\n",
       "</style>\n",
       "<table border=\"1\" class=\"dataframe\">\n",
       "  <thead>\n",
       "    <tr style=\"text-align: right;\">\n",
       "      <th></th>\n",
       "      <th>inc</th>\n",
       "      <th>name</th>\n",
       "    </tr>\n",
       "  </thead>\n",
       "  <tbody>\n",
       "    <tr>\n",
       "      <th>0</th>\n",
       "      <td>11.7</td>\n",
       "      <td>Vitus</td>\n",
       "    </tr>\n",
       "    <tr>\n",
       "      <th>1</th>\n",
       "      <td>13.9</td>\n",
       "      <td>Maximilian</td>\n",
       "    </tr>\n",
       "  </tbody>\n",
       "</table>\n",
       "</div>"
      ],
      "text/plain": [
       "    inc        name\n",
       "0  11.7       Vitus\n",
       "1  13.9  Maximilian"
      ]
     },
     "execution_count": 9,
     "metadata": {},
     "output_type": "execute_result"
    }
   ],
   "source": [
    "X.iloc[:2,1:] # two first row, all columns except the first"
   ]
  },
  {
   "cell_type": "markdown",
   "id": "905f3269",
   "metadata": {},
   "source": [
    "## 3. <a id='toc3_'></a>[Adding a new variable](#toc0_)\n",
    "\n",
    "Variables are added with `df['newvar'] = SOMETHING`. *The length must match or RHS is a scalar (broadcasting)*."
   ]
  },
  {
   "cell_type": "code",
   "execution_count": 10,
   "id": "962726cf",
   "metadata": {},
   "outputs": [
    {
     "data": {
      "text/html": [
       "<div>\n",
       "<style scoped>\n",
       "    .dataframe tbody tr th:only-of-type {\n",
       "        vertical-align: middle;\n",
       "    }\n",
       "\n",
       "    .dataframe tbody tr th {\n",
       "        vertical-align: top;\n",
       "    }\n",
       "\n",
       "    .dataframe thead th {\n",
       "        text-align: right;\n",
       "    }\n",
       "</style>\n",
       "<table border=\"1\" class=\"dataframe\">\n",
       "  <thead>\n",
       "    <tr style=\"text-align: right;\">\n",
       "      <th></th>\n",
       "      <th>id</th>\n",
       "      <th>inc</th>\n",
       "      <th>name</th>\n",
       "      <th>year</th>\n",
       "      <th>zone</th>\n",
       "    </tr>\n",
       "  </thead>\n",
       "  <tbody>\n",
       "    <tr>\n",
       "      <th>0</th>\n",
       "      <td>1</td>\n",
       "      <td>11.7</td>\n",
       "      <td>Vitus</td>\n",
       "      <td>2003</td>\n",
       "      <td>7</td>\n",
       "    </tr>\n",
       "    <tr>\n",
       "      <th>1</th>\n",
       "      <td>2</td>\n",
       "      <td>13.9</td>\n",
       "      <td>Maximilian</td>\n",
       "      <td>2005</td>\n",
       "      <td>7</td>\n",
       "    </tr>\n",
       "    <tr>\n",
       "      <th>2</th>\n",
       "      <td>3</td>\n",
       "      <td>14.6</td>\n",
       "      <td>Bo-bob</td>\n",
       "      <td>2010</td>\n",
       "      <td>7</td>\n",
       "    </tr>\n",
       "  </tbody>\n",
       "</table>\n",
       "</div>"
      ],
      "text/plain": [
       "   id   inc        name  year  zone\n",
       "0   1  11.7       Vitus  2003     7\n",
       "1   2  13.9  Maximilian  2005     7\n",
       "2   3  14.6      Bo-bob  2010     7"
      ]
     },
     "execution_count": 10,
     "metadata": {},
     "output_type": "execute_result"
    }
   ],
   "source": [
    "X['year'] = [2003, 2005, 2010]\n",
    "X['zone'] = 7\n",
    "X"
   ]
  },
  {
   "cell_type": "markdown",
   "id": "0488861d",
   "metadata": {},
   "source": [
    "The *something* can be an **expression based on other variables**."
   ]
  },
  {
   "cell_type": "code",
   "execution_count": 11,
   "id": "a57bf24e",
   "metadata": {},
   "outputs": [
    {
     "data": {
      "text/html": [
       "<div>\n",
       "<style scoped>\n",
       "    .dataframe tbody tr th:only-of-type {\n",
       "        vertical-align: middle;\n",
       "    }\n",
       "\n",
       "    .dataframe tbody tr th {\n",
       "        vertical-align: top;\n",
       "    }\n",
       "\n",
       "    .dataframe thead th {\n",
       "        text-align: right;\n",
       "    }\n",
       "</style>\n",
       "<table border=\"1\" class=\"dataframe\">\n",
       "  <thead>\n",
       "    <tr style=\"text-align: right;\">\n",
       "      <th></th>\n",
       "      <th>id</th>\n",
       "      <th>inc</th>\n",
       "      <th>name</th>\n",
       "      <th>year</th>\n",
       "      <th>zone</th>\n",
       "      <th>inc_adj</th>\n",
       "    </tr>\n",
       "  </thead>\n",
       "  <tbody>\n",
       "    <tr>\n",
       "      <th>0</th>\n",
       "      <td>1</td>\n",
       "      <td>11.7</td>\n",
       "      <td>Vitus</td>\n",
       "      <td>2003</td>\n",
       "      <td>7</td>\n",
       "      <td>-1.7</td>\n",
       "    </tr>\n",
       "    <tr>\n",
       "      <th>1</th>\n",
       "      <td>2</td>\n",
       "      <td>13.9</td>\n",
       "      <td>Maximilian</td>\n",
       "      <td>2005</td>\n",
       "      <td>7</td>\n",
       "      <td>0.5</td>\n",
       "    </tr>\n",
       "    <tr>\n",
       "      <th>2</th>\n",
       "      <td>3</td>\n",
       "      <td>14.6</td>\n",
       "      <td>Bo-bob</td>\n",
       "      <td>2010</td>\n",
       "      <td>7</td>\n",
       "      <td>1.2</td>\n",
       "    </tr>\n",
       "  </tbody>\n",
       "</table>\n",
       "</div>"
      ],
      "text/plain": [
       "   id   inc        name  year  zone  inc_adj\n",
       "0   1  11.7       Vitus  2003     7     -1.7\n",
       "1   2  13.9  Maximilian  2005     7      0.5\n",
       "2   3  14.6      Bo-bob  2010     7      1.2"
      ]
     },
     "execution_count": 11,
     "metadata": {},
     "output_type": "execute_result"
    }
   ],
   "source": [
    "X['inc_adj'] = X['inc'] - X['inc'].mean()\n",
    "X"
   ]
  },
  {
   "cell_type": "code",
   "execution_count": 12,
   "id": "76fecec3",
   "metadata": {},
   "outputs": [
    {
     "data": {
      "text/html": [
       "<div>\n",
       "<style scoped>\n",
       "    .dataframe tbody tr th:only-of-type {\n",
       "        vertical-align: middle;\n",
       "    }\n",
       "\n",
       "    .dataframe tbody tr th {\n",
       "        vertical-align: top;\n",
       "    }\n",
       "\n",
       "    .dataframe thead th {\n",
       "        text-align: right;\n",
       "    }\n",
       "</style>\n",
       "<table border=\"1\" class=\"dataframe\">\n",
       "  <thead>\n",
       "    <tr style=\"text-align: right;\">\n",
       "      <th></th>\n",
       "      <th>id</th>\n",
       "      <th>inc</th>\n",
       "      <th>name</th>\n",
       "      <th>year</th>\n",
       "      <th>zone</th>\n",
       "      <th>inc_adj</th>\n",
       "    </tr>\n",
       "  </thead>\n",
       "  <tbody>\n",
       "    <tr>\n",
       "      <th>0</th>\n",
       "      <td>1</td>\n",
       "      <td>11.7</td>\n",
       "      <td>Vitus</td>\n",
       "      <td>2003</td>\n",
       "      <td>7</td>\n",
       "      <td>-1.7</td>\n",
       "    </tr>\n",
       "    <tr>\n",
       "      <th>1</th>\n",
       "      <td>2</td>\n",
       "      <td>13.9</td>\n",
       "      <td>Maximilian</td>\n",
       "      <td>2005</td>\n",
       "      <td>7</td>\n",
       "      <td>0.5</td>\n",
       "    </tr>\n",
       "    <tr>\n",
       "      <th>2</th>\n",
       "      <td>3</td>\n",
       "      <td>14.6</td>\n",
       "      <td>Bo-bob</td>\n",
       "      <td>2010</td>\n",
       "      <td>7</td>\n",
       "      <td>1.2</td>\n",
       "    </tr>\n",
       "  </tbody>\n",
       "</table>\n",
       "</div>"
      ],
      "text/plain": [
       "   id   inc        name  year  zone  inc_adj\n",
       "0   1  11.7       Vitus  2003     7     -1.7\n",
       "1   2  13.9  Maximilian  2005     7      0.5\n",
       "2   3  14.6      Bo-bob  2010     7      1.2"
      ]
     },
     "execution_count": 12,
     "metadata": {},
     "output_type": "execute_result"
    }
   ],
   "source": [
    "def demean(inc):\n",
    "    return inc-inc.mean()\n",
    "\n",
    "X['inc_adj'] = demean(X.inc.to_numpy())\n",
    "X"
   ]
  },
  {
   "cell_type": "markdown",
   "id": "9c5e2d7c",
   "metadata": {},
   "source": [
    "**What if we have another dataframe with a new variable for a subset of the observations?**"
   ]
  },
  {
   "cell_type": "code",
   "execution_count": 13,
   "id": "7c853f6d",
   "metadata": {},
   "outputs": [
    {
     "data": {
      "text/html": [
       "<div>\n",
       "<style scoped>\n",
       "    .dataframe tbody tr th:only-of-type {\n",
       "        vertical-align: middle;\n",
       "    }\n",
       "\n",
       "    .dataframe tbody tr th {\n",
       "        vertical-align: top;\n",
       "    }\n",
       "\n",
       "    .dataframe thead th {\n",
       "        text-align: right;\n",
       "    }\n",
       "</style>\n",
       "<table border=\"1\" class=\"dataframe\">\n",
       "  <thead>\n",
       "    <tr style=\"text-align: right;\">\n",
       "      <th></th>\n",
       "      <th>name</th>\n",
       "      <th>age</th>\n",
       "    </tr>\n",
       "  </thead>\n",
       "  <tbody>\n",
       "    <tr>\n",
       "      <th>0</th>\n",
       "      <td>Maximilian</td>\n",
       "      <td>20</td>\n",
       "    </tr>\n",
       "    <tr>\n",
       "      <th>1</th>\n",
       "      <td>Bo-bob</td>\n",
       "      <td>30</td>\n",
       "    </tr>\n",
       "  </tbody>\n",
       "</table>\n",
       "</div>"
      ],
      "text/plain": [
       "         name  age\n",
       "0  Maximilian   20\n",
       "1      Bo-bob   30"
      ]
     },
     "execution_count": 13,
     "metadata": {},
     "output_type": "execute_result"
    }
   ],
   "source": [
    "Z = pd.DataFrame({'name':['Maximilian','Bo-bob'],'age': [20,30]})\n",
    "Z"
   ]
  },
  {
   "cell_type": "markdown",
   "id": "94f3c1a0",
   "metadata": {},
   "source": [
    "We can **join on name as index**:"
   ]
  },
  {
   "cell_type": "code",
   "execution_count": 14,
   "id": "5f31b576",
   "metadata": {},
   "outputs": [
    {
     "data": {
      "text/html": [
       "<div>\n",
       "<style scoped>\n",
       "    .dataframe tbody tr th:only-of-type {\n",
       "        vertical-align: middle;\n",
       "    }\n",
       "\n",
       "    .dataframe tbody tr th {\n",
       "        vertical-align: top;\n",
       "    }\n",
       "\n",
       "    .dataframe thead th {\n",
       "        text-align: right;\n",
       "    }\n",
       "</style>\n",
       "<table border=\"1\" class=\"dataframe\">\n",
       "  <thead>\n",
       "    <tr style=\"text-align: right;\">\n",
       "      <th></th>\n",
       "      <th>id</th>\n",
       "      <th>inc</th>\n",
       "      <th>year</th>\n",
       "      <th>zone</th>\n",
       "      <th>inc_adj</th>\n",
       "      <th>age</th>\n",
       "    </tr>\n",
       "    <tr>\n",
       "      <th>name</th>\n",
       "      <th></th>\n",
       "      <th></th>\n",
       "      <th></th>\n",
       "      <th></th>\n",
       "      <th></th>\n",
       "      <th></th>\n",
       "    </tr>\n",
       "  </thead>\n",
       "  <tbody>\n",
       "    <tr>\n",
       "      <th>Vitus</th>\n",
       "      <td>1</td>\n",
       "      <td>11.7</td>\n",
       "      <td>2003</td>\n",
       "      <td>7</td>\n",
       "      <td>-1.7</td>\n",
       "      <td>NaN</td>\n",
       "    </tr>\n",
       "    <tr>\n",
       "      <th>Maximilian</th>\n",
       "      <td>2</td>\n",
       "      <td>13.9</td>\n",
       "      <td>2005</td>\n",
       "      <td>7</td>\n",
       "      <td>0.5</td>\n",
       "      <td>20.0</td>\n",
       "    </tr>\n",
       "    <tr>\n",
       "      <th>Bo-bob</th>\n",
       "      <td>3</td>\n",
       "      <td>14.6</td>\n",
       "      <td>2010</td>\n",
       "      <td>7</td>\n",
       "      <td>1.2</td>\n",
       "      <td>30.0</td>\n",
       "    </tr>\n",
       "  </tbody>\n",
       "</table>\n",
       "</div>"
      ],
      "text/plain": [
       "            id   inc  year  zone  inc_adj   age\n",
       "name                                           \n",
       "Vitus        1  11.7  2003     7     -1.7   NaN\n",
       "Maximilian   2  13.9  2005     7      0.5  20.0\n",
       "Bo-bob       3  14.6  2010     7      1.2  30.0"
      ]
     },
     "execution_count": 14,
     "metadata": {},
     "output_type": "execute_result"
    }
   ],
   "source": [
    "Y = X.set_index('name')\n",
    "Y['age'] = Z.set_index('name')\n",
    "Y"
   ]
  },
  {
   "cell_type": "markdown",
   "id": "93031ab4",
   "metadata": {},
   "source": [
    "## 4. <a id='toc4_'></a>[Changing a subset of variables](#toc0_)"
   ]
  },
  {
   "cell_type": "markdown",
   "id": "e3acfe9e",
   "metadata": {},
   "source": [
    "**Multiple rows, one value:**"
   ]
  },
  {
   "cell_type": "code",
   "execution_count": 15,
   "id": "c0f4b8dd",
   "metadata": {},
   "outputs": [
    {
     "name": "stdout",
     "output_type": "stream",
     "text": [
      "Y after change in names:\n"
     ]
    },
    {
     "data": {
      "text/html": [
       "<div>\n",
       "<style scoped>\n",
       "    .dataframe tbody tr th:only-of-type {\n",
       "        vertical-align: middle;\n",
       "    }\n",
       "\n",
       "    .dataframe tbody tr th {\n",
       "        vertical-align: top;\n",
       "    }\n",
       "\n",
       "    .dataframe thead th {\n",
       "        text-align: right;\n",
       "    }\n",
       "</style>\n",
       "<table border=\"1\" class=\"dataframe\">\n",
       "  <thead>\n",
       "    <tr style=\"text-align: right;\">\n",
       "      <th></th>\n",
       "      <th>id</th>\n",
       "      <th>inc</th>\n",
       "      <th>name</th>\n",
       "      <th>year</th>\n",
       "      <th>zone</th>\n",
       "      <th>inc_adj</th>\n",
       "    </tr>\n",
       "  </thead>\n",
       "  <tbody>\n",
       "    <tr>\n",
       "      <th>0</th>\n",
       "      <td>1</td>\n",
       "      <td>11.7</td>\n",
       "      <td>Vitus</td>\n",
       "      <td>2003</td>\n",
       "      <td>7</td>\n",
       "      <td>-1.7</td>\n",
       "    </tr>\n",
       "    <tr>\n",
       "      <th>1</th>\n",
       "      <td>2</td>\n",
       "      <td>13.9</td>\n",
       "      <td>no name</td>\n",
       "      <td>2005</td>\n",
       "      <td>7</td>\n",
       "      <td>0.5</td>\n",
       "    </tr>\n",
       "    <tr>\n",
       "      <th>2</th>\n",
       "      <td>3</td>\n",
       "      <td>14.6</td>\n",
       "      <td>no name</td>\n",
       "      <td>2010</td>\n",
       "      <td>7</td>\n",
       "      <td>1.2</td>\n",
       "    </tr>\n",
       "  </tbody>\n",
       "</table>\n",
       "</div>"
      ],
      "text/plain": [
       "   id   inc     name  year  zone  inc_adj\n",
       "0   1  11.7    Vitus  2003     7     -1.7\n",
       "1   2  13.9  no name  2005     7      0.5\n",
       "2   3  14.6  no name  2010     7      1.2"
      ]
     },
     "execution_count": 15,
     "metadata": {},
     "output_type": "execute_result"
    }
   ],
   "source": [
    "Y = X.copy() # create copy of X to avoid overwriting it.\n",
    "Y.loc[Y.id > 1, ['name']] = 'no name'\n",
    "print('Y after change in names:')\n",
    "Y"
   ]
  },
  {
   "cell_type": "markdown",
   "id": "ca5b70ab",
   "metadata": {},
   "source": [
    "**LHS:** Selected using logical statement.<br>\n",
    "**RHS:** Must either be:\n",
    "\n",
    "1. a **single value** (all rows are set to this) \n",
    "2. a **list of values** with same length as the number of selected rows"
   ]
  },
  {
   "cell_type": "markdown",
   "id": "a7a7d3d3",
   "metadata": {},
   "source": [
    "**Multiple rows, multiple values:**"
   ]
  },
  {
   "cell_type": "code",
   "execution_count": 16,
   "id": "cfa8ae08",
   "metadata": {},
   "outputs": [
    {
     "name": "stdout",
     "output_type": "stream",
     "text": [
      "Original dataframe:\n"
     ]
    },
    {
     "data": {
      "text/html": [
       "<div>\n",
       "<style scoped>\n",
       "    .dataframe tbody tr th:only-of-type {\n",
       "        vertical-align: middle;\n",
       "    }\n",
       "\n",
       "    .dataframe tbody tr th {\n",
       "        vertical-align: top;\n",
       "    }\n",
       "\n",
       "    .dataframe thead th {\n",
       "        text-align: right;\n",
       "    }\n",
       "</style>\n",
       "<table border=\"1\" class=\"dataframe\">\n",
       "  <thead>\n",
       "    <tr style=\"text-align: right;\">\n",
       "      <th></th>\n",
       "      <th>id</th>\n",
       "      <th>inc</th>\n",
       "      <th>name</th>\n",
       "      <th>year</th>\n",
       "      <th>zone</th>\n",
       "      <th>inc_adj</th>\n",
       "    </tr>\n",
       "  </thead>\n",
       "  <tbody>\n",
       "    <tr>\n",
       "      <th>0</th>\n",
       "      <td>1</td>\n",
       "      <td>11.7</td>\n",
       "      <td>Vitus</td>\n",
       "      <td>2003</td>\n",
       "      <td>7</td>\n",
       "      <td>-1.7</td>\n",
       "    </tr>\n",
       "    <tr>\n",
       "      <th>1</th>\n",
       "      <td>2</td>\n",
       "      <td>13.9</td>\n",
       "      <td>Maximilian</td>\n",
       "      <td>2005</td>\n",
       "      <td>7</td>\n",
       "      <td>0.5</td>\n",
       "    </tr>\n",
       "    <tr>\n",
       "      <th>2</th>\n",
       "      <td>3</td>\n",
       "      <td>14.6</td>\n",
       "      <td>Bo-bob</td>\n",
       "      <td>2010</td>\n",
       "      <td>7</td>\n",
       "      <td>1.2</td>\n",
       "    </tr>\n",
       "  </tbody>\n",
       "</table>\n",
       "</div>"
      ],
      "text/plain": [
       "   id   inc        name  year  zone  inc_adj\n",
       "0   1  11.7       Vitus  2003     7     -1.7\n",
       "1   2  13.9  Maximilian  2005     7      0.5\n",
       "2   3  14.6      Bo-bob  2010     7      1.2"
      ]
     },
     "metadata": {},
     "output_type": "display_data"
    },
    {
     "name": "stdout",
     "output_type": "stream",
     "text": [
      "Subset (LHS in assignment):\n"
     ]
    },
    {
     "data": {
      "text/html": [
       "<div>\n",
       "<style scoped>\n",
       "    .dataframe tbody tr th:only-of-type {\n",
       "        vertical-align: middle;\n",
       "    }\n",
       "\n",
       "    .dataframe tbody tr th {\n",
       "        vertical-align: top;\n",
       "    }\n",
       "\n",
       "    .dataframe thead th {\n",
       "        text-align: right;\n",
       "    }\n",
       "</style>\n",
       "<table border=\"1\" class=\"dataframe\">\n",
       "  <thead>\n",
       "    <tr style=\"text-align: right;\">\n",
       "      <th></th>\n",
       "      <th>id</th>\n",
       "      <th>inc</th>\n",
       "      <th>name</th>\n",
       "      <th>year</th>\n",
       "      <th>zone</th>\n",
       "      <th>inc_adj</th>\n",
       "    </tr>\n",
       "  </thead>\n",
       "  <tbody>\n",
       "    <tr>\n",
       "      <th>0</th>\n",
       "      <td>1</td>\n",
       "      <td>11.7</td>\n",
       "      <td>Vitus</td>\n",
       "      <td>2003</td>\n",
       "      <td>7</td>\n",
       "      <td>-1.7</td>\n",
       "    </tr>\n",
       "    <tr>\n",
       "      <th>2</th>\n",
       "      <td>3</td>\n",
       "      <td>14.6</td>\n",
       "      <td>Bo-bob</td>\n",
       "      <td>2010</td>\n",
       "      <td>7</td>\n",
       "      <td>1.2</td>\n",
       "    </tr>\n",
       "  </tbody>\n",
       "</table>\n",
       "</div>"
      ],
      "text/plain": [
       "   id   inc    name  year  zone  inc_adj\n",
       "0   1  11.7   Vitus  2003     7     -1.7\n",
       "2   3  14.6  Bo-bob  2010     7      1.2"
      ]
     },
     "metadata": {},
     "output_type": "display_data"
    },
    {
     "name": "stdout",
     "output_type": "stream",
     "text": [
      "Final dataframe:\n"
     ]
    },
    {
     "data": {
      "text/html": [
       "<div>\n",
       "<style scoped>\n",
       "    .dataframe tbody tr th:only-of-type {\n",
       "        vertical-align: middle;\n",
       "    }\n",
       "\n",
       "    .dataframe tbody tr th {\n",
       "        vertical-align: top;\n",
       "    }\n",
       "\n",
       "    .dataframe thead th {\n",
       "        text-align: right;\n",
       "    }\n",
       "</style>\n",
       "<table border=\"1\" class=\"dataframe\">\n",
       "  <thead>\n",
       "    <tr style=\"text-align: right;\">\n",
       "      <th></th>\n",
       "      <th>id</th>\n",
       "      <th>inc</th>\n",
       "      <th>name</th>\n",
       "      <th>year</th>\n",
       "      <th>zone</th>\n",
       "      <th>inc_adj</th>\n",
       "    </tr>\n",
       "  </thead>\n",
       "  <tbody>\n",
       "    <tr>\n",
       "      <th>0</th>\n",
       "      <td>1</td>\n",
       "      <td>11.7</td>\n",
       "      <td>Bib</td>\n",
       "      <td>2003</td>\n",
       "      <td>7</td>\n",
       "      <td>-1.7</td>\n",
       "    </tr>\n",
       "    <tr>\n",
       "      <th>1</th>\n",
       "      <td>2</td>\n",
       "      <td>13.9</td>\n",
       "      <td>Maximilian</td>\n",
       "      <td>2005</td>\n",
       "      <td>7</td>\n",
       "      <td>0.5</td>\n",
       "    </tr>\n",
       "    <tr>\n",
       "      <th>2</th>\n",
       "      <td>3</td>\n",
       "      <td>14.6</td>\n",
       "      <td>Peter</td>\n",
       "      <td>2010</td>\n",
       "      <td>7</td>\n",
       "      <td>1.2</td>\n",
       "    </tr>\n",
       "  </tbody>\n",
       "</table>\n",
       "</div>"
      ],
      "text/plain": [
       "   id   inc        name  year  zone  inc_adj\n",
       "0   1  11.7         Bib  2003     7     -1.7\n",
       "1   2  13.9  Maximilian  2005     7      0.5\n",
       "2   3  14.6       Peter  2010     7      1.2"
      ]
     },
     "execution_count": 16,
     "metadata": {},
     "output_type": "execute_result"
    }
   ],
   "source": [
    "print('Original dataframe:')\n",
    "Y = X.copy()\n",
    "display(Y)\n",
    "\n",
    "# subset the rows, where name is Vitus or year is 2010\n",
    "I = (Y.name == 'Vitus') | (Y.year == 2010)\n",
    "\n",
    "# print LHS\n",
    "print('Subset (LHS in assignment):')\n",
    "display(Y.loc[I,:])\n",
    "\n",
    "# assignment\n",
    "Y.loc[I, ['name']] = ['Bib', 'Peter']\n",
    "\n",
    "print('Final dataframe:')\n",
    "Y"
   ]
  },
  {
   "cell_type": "markdown",
   "id": "3748fc6a",
   "metadata": {},
   "source": [
    "**Forbidden:** You cannot do the indexing on one code line and the change of data on another code line."
   ]
  },
  {
   "cell_type": "code",
   "execution_count": 17,
   "id": "6b874bd0",
   "metadata": {},
   "outputs": [
    {
     "name": "stderr",
     "output_type": "stream",
     "text": [
      "C:\\Users\\gmf123\\AppData\\Local\\Temp\\ipykernel_21324\\2963678362.py:3: SettingWithCopyWarning: \n",
      "A value is trying to be set on a copy of a slice from a DataFrame.\n",
      "Try using .loc[row_indexer,col_indexer] = value instead\n",
      "\n",
      "See the caveats in the documentation: https://pandas.pydata.org/pandas-docs/stable/user_guide/indexing.html#returning-a-view-versus-a-copy\n",
      "  Z['name'] = ['Bib', 'Peter']\n"
     ]
    }
   ],
   "source": [
    "Y = X.copy()\n",
    "Z = Y.loc[I] # return a copy\n",
    "Z['name'] = ['Bib', 'Peter']"
   ]
  },
  {
   "cell_type": "markdown",
   "id": "1914203f",
   "metadata": {},
   "source": [
    "## 5. <a id='toc5_'></a>[Summary](#toc0_)"
   ]
  },
  {
   "cell_type": "markdown",
   "id": "98595764",
   "metadata": {},
   "source": [
    "The main takeways are:\n",
    "\n",
    "- Working with `pd.DataFrame` and its `.index`\n",
    "- Indexing data (name-based with `.loc` or position-based with `.iloc`)\n",
    "- Adding variables\n",
    "- Changing subset of variables with `.loc`"
   ]
  },
  {
   "cell_type": "markdown",
   "id": "8d0cf039",
   "metadata": {},
   "source": [
    "Any questions on `pandas` basics?\n",
    "\n",
    "**Socrative room:** PROGECON"
   ]
  },
  {
   "cell_type": "markdown",
   "id": "aa65e6ef",
   "metadata": {},
   "source": [
    "**FYI:** Upcomming alternative to **pandas** is **polars**. See more [here](https://pola.rs/).\n",
    "\n",
    "1. Faster\n",
    "2. Simpler syntax (in my view)\n",
    "3. Not fully integrate into other Python packages yet"
   ]
  }
 ],
 "metadata": {
  "kernelspec": {
   "display_name": "base",
   "language": "python",
   "name": "python3"
  },
  "language_info": {
   "codemirror_mode": {
    "name": "ipython",
    "version": 3
   },
   "file_extension": ".py",
   "mimetype": "text/x-python",
   "name": "python",
   "nbconvert_exporter": "python",
   "pygments_lexer": "ipython3",
   "version": "3.12.4"
  }
 },
 "nbformat": 4,
 "nbformat_minor": 5
}
