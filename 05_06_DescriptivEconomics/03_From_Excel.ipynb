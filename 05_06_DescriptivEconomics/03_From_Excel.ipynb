{
 "cells": [
  {
   "cell_type": "markdown",
   "metadata": {},
   "source": [
    "# Loading and analyzing data from files"
   ]
  },
  {
   "attachments": {},
   "cell_type": "markdown",
   "metadata": {},
   "source": [
    "We look at how to:\n",
    "\n",
    "1. **Load data** from files (e.g. Excel or CSV). \n",
    "2. **Clean, structure and analyze data**.\n",
    "3. **Save data** to files (e.g. Excel or CSV)."
   ]
  },
  {
   "cell_type": "markdown",
   "metadata": {},
   "source": [
    "**Table of contents**<a id='toc0_'></a>    \n",
    "- 1. [Employment rate in Danish municipalities](#toc1_)    \n",
    "  - 1.1. [Step 1: Look at the file](#toc1_1_)    \n",
    "  - 1.2. [Step 2: Clean up](#toc1_2_)    \n",
    "    - 1.2.1. [Skip rows and drop columns](#toc1_2_1_)    \n",
    "    - 1.2.2. [Renaming variables](#toc1_2_2_)    \n",
    "    - 1.2.3. [Dropping non-municipalities](#toc1_2_3_)    \n",
    "    - 1.2.4. [Summary statistics](#toc1_2_4_)    \n",
    "  - 1.3. [Step 3. Structure](#toc1_3_)    \n",
    "- 2. [Employment and participation rate in Danish municipalities](#toc2_)    \n",
    "- 3. [Income in Danish municipalities](#toc3_)    \n",
    "- 4. [Area in Danish municipalities](#toc4_)    \n",
    "- 5. [Writing data](#toc5_)    \n",
    "- 6. [Summary](#toc6_)    \n",
    "- 7. [More on `pivot_table`](#toc7_)    \n",
    "  - 7.1. [Example 1: Starting from a fully long dataset](#toc7_1_)    \n",
    "  - 7.2. [Example 2: Starting from a long dataset with wide years](#toc7_2_)    \n",
    "\n",
    "<!-- vscode-jupyter-toc-config\n",
    "\tnumbering=true\n",
    "\tanchor=true\n",
    "\tflat=false\n",
    "\tminLevel=2\n",
    "\tmaxLevel=6\n",
    "\t/vscode-jupyter-toc-config -->\n",
    "<!-- THIS CELL WILL BE REPLACED ON TOC UPDATE. DO NOT WRITE YOUR TEXT IN THIS CELL -->"
   ]
  },
  {
   "cell_type": "code",
   "execution_count": 1,
   "metadata": {},
   "outputs": [],
   "source": [
    "import os \n",
    "\n",
    "import pandas as pd\n",
    "\n",
    "import matplotlib.pyplot as plt\n",
    "plt.rcParams.update({'axes.grid':True,'grid.color':'black','grid.alpha':'0.25','grid.linestyle':'--'})\n",
    "plt.rcParams.update({'font.size': 14})"
   ]
  },
  {
   "attachments": {},
   "cell_type": "markdown",
   "metadata": {},
   "source": [
    "Pandas offers a lot of facilities for **reading and writing to different formats**. The functions have logical names: \n",
    "\n",
    "* Excel: `pd.read_excel()`\n",
    "* CSV: `pd.read_csv()`\n",
    "* SAS: `pd.read_sas()`\n",
    "* Stata: `pd.read_stata()`\n",
    "* Parquet: `pd.read_parquet()`\n",
    "\n",
    "And many more... "
   ]
  },
  {
   "attachments": {},
   "cell_type": "markdown",
   "metadata": {},
   "source": [
    "**Example:** Raw downloads of Excel-files from [DST](https://www.statbank.dk/statbank5a/SelectTable/Omrade0.asp?PLanguage=1)  "
   ]
  },
  {
   "cell_type": "code",
   "execution_count": 2,
   "metadata": {},
   "outputs": [
    {
     "data": {
      "text/plain": [
       "['ARE207.xlsx',\n",
       " 'INDKP101.xlsx',\n",
       " 'RAS200.xlsx',\n",
       " 'RAS200_only_employment_rate.xlsx']"
      ]
     },
     "execution_count": 2,
     "metadata": {},
     "output_type": "execute_result"
    }
   ],
   "source": [
    "# using assert to check that paths exist on computer.\n",
    "assert os.path.isdir('data/')\n",
    "assert os.path.isdir('data/raw')\n",
    "\n",
    "# print everything in data/raw\n",
    "os.listdir('data/raw/')"
   ]
  },
  {
   "cell_type": "markdown",
   "metadata": {},
   "source": [
    "## 1. <a id='toc1_'></a>[Employment rate in Danish municipalities](#toc0_)"
   ]
  },
  {
   "cell_type": "markdown",
   "metadata": {},
   "source": [
    "### 1.1. <a id='toc1_1_'></a>[Step 1: Look at the file](#toc0_)"
   ]
  },
  {
   "cell_type": "markdown",
   "metadata": {},
   "source": [
    "Open the file and have a look at it:"
   ]
  },
  {
   "cell_type": "code",
   "execution_count": 3,
   "metadata": {},
   "outputs": [
    {
     "data": {
      "text/html": [
       "<div>\n",
       "<style scoped>\n",
       "    .dataframe tbody tr th:only-of-type {\n",
       "        vertical-align: middle;\n",
       "    }\n",
       "\n",
       "    .dataframe tbody tr th {\n",
       "        vertical-align: top;\n",
       "    }\n",
       "\n",
       "    .dataframe thead th {\n",
       "        text-align: right;\n",
       "    }\n",
       "</style>\n",
       "<table border=\"1\" class=\"dataframe\">\n",
       "  <thead>\n",
       "    <tr style=\"text-align: right;\">\n",
       "      <th></th>\n",
       "      <th>Activity and employment rates (end November) by frequency, sex, age, ancestry, region and time</th>\n",
       "      <th>Unnamed: 1</th>\n",
       "      <th>Unnamed: 2</th>\n",
       "      <th>Unnamed: 3</th>\n",
       "      <th>Unnamed: 4</th>\n",
       "      <th>Unnamed: 5</th>\n",
       "      <th>Unnamed: 6</th>\n",
       "    </tr>\n",
       "  </thead>\n",
       "  <tbody>\n",
       "    <tr>\n",
       "      <th>0</th>\n",
       "      <td>Units: Per cent</td>\n",
       "      <td>NaN</td>\n",
       "      <td>NaN</td>\n",
       "      <td>NaN</td>\n",
       "      <td>NaN</td>\n",
       "      <td>NaN</td>\n",
       "      <td>NaN</td>\n",
       "    </tr>\n",
       "    <tr>\n",
       "      <th>1</th>\n",
       "      <td>NaN</td>\n",
       "      <td>NaN</td>\n",
       "      <td>NaN</td>\n",
       "      <td>NaN</td>\n",
       "      <td>NaN</td>\n",
       "      <td>2008.0</td>\n",
       "      <td>2009.0</td>\n",
       "    </tr>\n",
       "    <tr>\n",
       "      <th>2</th>\n",
       "      <td>Employment rate</td>\n",
       "      <td>Total</td>\n",
       "      <td>16-64 years</td>\n",
       "      <td>Total</td>\n",
       "      <td>All Denmark</td>\n",
       "      <td>76.0</td>\n",
       "      <td>72.8</td>\n",
       "    </tr>\n",
       "    <tr>\n",
       "      <th>3</th>\n",
       "      <td>NaN</td>\n",
       "      <td>NaN</td>\n",
       "      <td>NaN</td>\n",
       "      <td>NaN</td>\n",
       "      <td>Region Hovedstaden</td>\n",
       "      <td>75.8</td>\n",
       "      <td>73.3</td>\n",
       "    </tr>\n",
       "    <tr>\n",
       "      <th>4</th>\n",
       "      <td>NaN</td>\n",
       "      <td>NaN</td>\n",
       "      <td>NaN</td>\n",
       "      <td>NaN</td>\n",
       "      <td>Province Byen København</td>\n",
       "      <td>73.4</td>\n",
       "      <td>71.0</td>\n",
       "    </tr>\n",
       "  </tbody>\n",
       "</table>\n",
       "</div>"
      ],
      "text/plain": [
       "  Activity and employment rates (end November) by frequency, sex, age, ancestry, region and time  \\\n",
       "0                                    Units: Per cent                                               \n",
       "1                                                NaN                                               \n",
       "2                                    Employment rate                                               \n",
       "3                                                NaN                                               \n",
       "4                                                NaN                                               \n",
       "\n",
       "  Unnamed: 1   Unnamed: 2 Unnamed: 3               Unnamed: 4  Unnamed: 5  \\\n",
       "0        NaN          NaN        NaN                      NaN         NaN   \n",
       "1        NaN          NaN        NaN                      NaN      2008.0   \n",
       "2      Total  16-64 years      Total              All Denmark        76.0   \n",
       "3        NaN          NaN        NaN       Region Hovedstaden        75.8   \n",
       "4        NaN          NaN        NaN  Province Byen København        73.4   \n",
       "\n",
       "   Unnamed: 6  \n",
       "0         NaN  \n",
       "1      2009.0  \n",
       "2        72.8  \n",
       "3        73.3  \n",
       "4        71.0  "
      ]
     },
     "execution_count": 3,
     "metadata": {},
     "output_type": "execute_result"
    }
   ],
   "source": [
    "filename = 'data/raw/RAS200_only_employment_rate.xlsx'\n",
    "pd.read_excel(filename).iloc[:5,:7] # 5 rows, 7 columns"
   ]
  },
  {
   "cell_type": "markdown",
   "metadata": {},
   "source": [
    "### 1.2. <a id='toc1_2_'></a>[Step 2: Clean up](#toc0_)"
   ]
  },
  {
   "cell_type": "markdown",
   "metadata": {},
   "source": [
    "We need to clean this *mess* up."
   ]
  },
  {
   "cell_type": "markdown",
   "metadata": {},
   "source": [
    "#### 1.2.1. <a id='toc1_2_1_'></a>[Skip rows and drop columns](#toc0_)"
   ]
  },
  {
   "cell_type": "markdown",
   "metadata": {},
   "source": [
    "**Skipping rows:** Clearly, we should **skip** the first three rows and the first four columns"
   ]
  },
  {
   "cell_type": "code",
   "execution_count": 4,
   "metadata": {},
   "outputs": [
    {
     "data": {
      "text/html": [
       "<div>\n",
       "<style scoped>\n",
       "    .dataframe tbody tr th:only-of-type {\n",
       "        vertical-align: middle;\n",
       "    }\n",
       "\n",
       "    .dataframe tbody tr th {\n",
       "        vertical-align: top;\n",
       "    }\n",
       "\n",
       "    .dataframe thead th {\n",
       "        text-align: right;\n",
       "    }\n",
       "</style>\n",
       "<table border=\"1\" class=\"dataframe\">\n",
       "  <thead>\n",
       "    <tr style=\"text-align: right;\">\n",
       "      <th></th>\n",
       "      <th>Unnamed: 0</th>\n",
       "      <th>Unnamed: 1</th>\n",
       "      <th>Unnamed: 2</th>\n",
       "      <th>Unnamed: 3</th>\n",
       "      <th>Unnamed: 4</th>\n",
       "      <th>2008</th>\n",
       "      <th>2009</th>\n",
       "    </tr>\n",
       "  </thead>\n",
       "  <tbody>\n",
       "    <tr>\n",
       "      <th>0</th>\n",
       "      <td>Employment rate</td>\n",
       "      <td>Total</td>\n",
       "      <td>16-64 years</td>\n",
       "      <td>Total</td>\n",
       "      <td>All Denmark</td>\n",
       "      <td>76.0</td>\n",
       "      <td>72.8</td>\n",
       "    </tr>\n",
       "    <tr>\n",
       "      <th>1</th>\n",
       "      <td>NaN</td>\n",
       "      <td>NaN</td>\n",
       "      <td>NaN</td>\n",
       "      <td>NaN</td>\n",
       "      <td>Region Hovedstaden</td>\n",
       "      <td>75.8</td>\n",
       "      <td>73.3</td>\n",
       "    </tr>\n",
       "    <tr>\n",
       "      <th>2</th>\n",
       "      <td>NaN</td>\n",
       "      <td>NaN</td>\n",
       "      <td>NaN</td>\n",
       "      <td>NaN</td>\n",
       "      <td>Province Byen København</td>\n",
       "      <td>73.4</td>\n",
       "      <td>71.0</td>\n",
       "    </tr>\n",
       "    <tr>\n",
       "      <th>3</th>\n",
       "      <td>NaN</td>\n",
       "      <td>NaN</td>\n",
       "      <td>NaN</td>\n",
       "      <td>NaN</td>\n",
       "      <td>Copenhagen</td>\n",
       "      <td>72.5</td>\n",
       "      <td>70.0</td>\n",
       "    </tr>\n",
       "    <tr>\n",
       "      <th>4</th>\n",
       "      <td>NaN</td>\n",
       "      <td>NaN</td>\n",
       "      <td>NaN</td>\n",
       "      <td>NaN</td>\n",
       "      <td>Frederiksberg</td>\n",
       "      <td>75.6</td>\n",
       "      <td>73.7</td>\n",
       "    </tr>\n",
       "  </tbody>\n",
       "</table>\n",
       "</div>"
      ],
      "text/plain": [
       "        Unnamed: 0 Unnamed: 1   Unnamed: 2 Unnamed: 3  \\\n",
       "0  Employment rate      Total  16-64 years      Total   \n",
       "1              NaN        NaN          NaN        NaN   \n",
       "2              NaN        NaN          NaN        NaN   \n",
       "3              NaN        NaN          NaN        NaN   \n",
       "4              NaN        NaN          NaN        NaN   \n",
       "\n",
       "                Unnamed: 4  2008  2009  \n",
       "0              All Denmark  76.0  72.8  \n",
       "1       Region Hovedstaden  75.8  73.3  \n",
       "2  Province Byen København  73.4  71.0  \n",
       "3               Copenhagen  72.5  70.0  \n",
       "4            Frederiksberg  75.6  73.7  "
      ]
     },
     "execution_count": 4,
     "metadata": {},
     "output_type": "execute_result"
    }
   ],
   "source": [
    "RAS = pd.read_excel(filename,skiprows=2)\n",
    "RAS.iloc[:5,:7]"
   ]
  },
  {
   "cell_type": "markdown",
   "metadata": {},
   "source": [
    "**Dropping columns:** The first couple of columns are not needed and contain only missing values (denoted by `NaN`, not-a-number), so we will drop those. "
   ]
  },
  {
   "cell_type": "code",
   "execution_count": 5,
   "metadata": {},
   "outputs": [
    {
     "name": "stdout",
     "output_type": "stream",
     "text": [
      "drop_cols = ['Unnamed: 0', 'Unnamed: 1', 'Unnamed: 2', 'Unnamed: 3']\n"
     ]
    },
    {
     "data": {
      "text/html": [
       "<div>\n",
       "<style scoped>\n",
       "    .dataframe tbody tr th:only-of-type {\n",
       "        vertical-align: middle;\n",
       "    }\n",
       "\n",
       "    .dataframe tbody tr th {\n",
       "        vertical-align: top;\n",
       "    }\n",
       "\n",
       "    .dataframe thead th {\n",
       "        text-align: right;\n",
       "    }\n",
       "</style>\n",
       "<table border=\"1\" class=\"dataframe\">\n",
       "  <thead>\n",
       "    <tr style=\"text-align: right;\">\n",
       "      <th></th>\n",
       "      <th>Unnamed: 4</th>\n",
       "      <th>2008</th>\n",
       "      <th>2009</th>\n",
       "      <th>2010</th>\n",
       "      <th>2011</th>\n",
       "    </tr>\n",
       "  </thead>\n",
       "  <tbody>\n",
       "    <tr>\n",
       "      <th>0</th>\n",
       "      <td>All Denmark</td>\n",
       "      <td>76.0</td>\n",
       "      <td>72.8</td>\n",
       "      <td>72.1</td>\n",
       "      <td>71.8</td>\n",
       "    </tr>\n",
       "    <tr>\n",
       "      <th>1</th>\n",
       "      <td>Region Hovedstaden</td>\n",
       "      <td>75.8</td>\n",
       "      <td>73.3</td>\n",
       "      <td>72.6</td>\n",
       "      <td>72.5</td>\n",
       "    </tr>\n",
       "    <tr>\n",
       "      <th>2</th>\n",
       "      <td>Province Byen København</td>\n",
       "      <td>73.4</td>\n",
       "      <td>71.0</td>\n",
       "      <td>70.5</td>\n",
       "      <td>70.5</td>\n",
       "    </tr>\n",
       "    <tr>\n",
       "      <th>3</th>\n",
       "      <td>Copenhagen</td>\n",
       "      <td>72.5</td>\n",
       "      <td>70.0</td>\n",
       "      <td>69.7</td>\n",
       "      <td>69.6</td>\n",
       "    </tr>\n",
       "    <tr>\n",
       "      <th>4</th>\n",
       "      <td>Frederiksberg</td>\n",
       "      <td>75.6</td>\n",
       "      <td>73.7</td>\n",
       "      <td>72.7</td>\n",
       "      <td>72.8</td>\n",
       "    </tr>\n",
       "  </tbody>\n",
       "</table>\n",
       "</div>"
      ],
      "text/plain": [
       "                Unnamed: 4  2008  2009  2010  2011\n",
       "0              All Denmark  76.0  72.8  72.1  71.8\n",
       "1       Region Hovedstaden  75.8  73.3  72.6  72.5\n",
       "2  Province Byen København  73.4  71.0  70.5  70.5\n",
       "3               Copenhagen  72.5  70.0  69.7  69.6\n",
       "4            Frederiksberg  75.6  73.7  72.7  72.8"
      ]
     },
     "execution_count": 5,
     "metadata": {},
     "output_type": "execute_result"
    }
   ],
   "source": [
    "drop_cols = [f'Unnamed: {num}' for num in range(4)] # use list comprehension to create list of columns\n",
    "print(f'{drop_cols = }')\n",
    "\n",
    "RAS = RAS.drop(columns=drop_cols)\n",
    "RAS.iloc[:5,:5]"
   ]
  },
  {
   "cell_type": "markdown",
   "metadata": {},
   "source": [
    "#### 1.2.2. <a id='toc1_2_2_'></a>[Renaming variables](#toc0_)"
   ]
  },
  {
   "cell_type": "markdown",
   "metadata": {},
   "source": [
    "We are not happy with the column comprising regions, which is currently called `Unnamed: 4`.   "
   ]
  },
  {
   "cell_type": "code",
   "execution_count": 6,
   "metadata": {},
   "outputs": [
    {
     "data": {
      "text/html": [
       "<div>\n",
       "<style scoped>\n",
       "    .dataframe tbody tr th:only-of-type {\n",
       "        vertical-align: middle;\n",
       "    }\n",
       "\n",
       "    .dataframe tbody tr th {\n",
       "        vertical-align: top;\n",
       "    }\n",
       "\n",
       "    .dataframe thead th {\n",
       "        text-align: right;\n",
       "    }\n",
       "</style>\n",
       "<table border=\"1\" class=\"dataframe\">\n",
       "  <thead>\n",
       "    <tr style=\"text-align: right;\">\n",
       "      <th></th>\n",
       "      <th>municipality</th>\n",
       "      <th>2008</th>\n",
       "      <th>2009</th>\n",
       "      <th>2010</th>\n",
       "      <th>2011</th>\n",
       "    </tr>\n",
       "  </thead>\n",
       "  <tbody>\n",
       "    <tr>\n",
       "      <th>0</th>\n",
       "      <td>All Denmark</td>\n",
       "      <td>76.0</td>\n",
       "      <td>72.8</td>\n",
       "      <td>72.1</td>\n",
       "      <td>71.8</td>\n",
       "    </tr>\n",
       "    <tr>\n",
       "      <th>1</th>\n",
       "      <td>Region Hovedstaden</td>\n",
       "      <td>75.8</td>\n",
       "      <td>73.3</td>\n",
       "      <td>72.6</td>\n",
       "      <td>72.5</td>\n",
       "    </tr>\n",
       "    <tr>\n",
       "      <th>2</th>\n",
       "      <td>Province Byen København</td>\n",
       "      <td>73.4</td>\n",
       "      <td>71.0</td>\n",
       "      <td>70.5</td>\n",
       "      <td>70.5</td>\n",
       "    </tr>\n",
       "    <tr>\n",
       "      <th>3</th>\n",
       "      <td>Copenhagen</td>\n",
       "      <td>72.5</td>\n",
       "      <td>70.0</td>\n",
       "      <td>69.7</td>\n",
       "      <td>69.6</td>\n",
       "    </tr>\n",
       "    <tr>\n",
       "      <th>4</th>\n",
       "      <td>Frederiksberg</td>\n",
       "      <td>75.6</td>\n",
       "      <td>73.7</td>\n",
       "      <td>72.7</td>\n",
       "      <td>72.8</td>\n",
       "    </tr>\n",
       "  </tbody>\n",
       "</table>\n",
       "</div>"
      ],
      "text/plain": [
       "              municipality  2008  2009  2010  2011\n",
       "0              All Denmark  76.0  72.8  72.1  71.8\n",
       "1       Region Hovedstaden  75.8  73.3  72.6  72.5\n",
       "2  Province Byen København  73.4  71.0  70.5  70.5\n",
       "3               Copenhagen  72.5  70.0  69.7  69.6\n",
       "4            Frederiksberg  75.6  73.7  72.7  72.8"
      ]
     },
     "execution_count": 6,
     "metadata": {},
     "output_type": "execute_result"
    }
   ],
   "source": [
    "RAS = RAS.rename(columns={'Unnamed: 4':'municipality'})\n",
    "RAS.iloc[:5,:5]"
   ]
  },
  {
   "cell_type": "markdown",
   "metadata": {},
   "source": [
    "**Rename all year columns:** We also see that the employment rate in 2008 has been named `2008`.   \n",
    "\n",
    "This is allowed in Python, but having a **variable named as a number** can cause **problems** with some functions.\n",
    "\n",
    "To change all columns, we need to create a dictionary that maps each of the years {2008, ..., 2013} to {emp_rate2008, ...,emp_rate2013}. "
   ]
  },
  {
   "cell_type": "code",
   "execution_count": 7,
   "metadata": {},
   "outputs": [],
   "source": [
    "col_dict = {str(i): f'emp_rate{i}' for i in RAS.columns[1:]}"
   ]
  },
  {
   "cell_type": "code",
   "execution_count": 8,
   "metadata": {},
   "outputs": [
    {
     "data": {
      "text/html": [
       "<div>\n",
       "<style scoped>\n",
       "    .dataframe tbody tr th:only-of-type {\n",
       "        vertical-align: middle;\n",
       "    }\n",
       "\n",
       "    .dataframe tbody tr th {\n",
       "        vertical-align: top;\n",
       "    }\n",
       "\n",
       "    .dataframe thead th {\n",
       "        text-align: right;\n",
       "    }\n",
       "</style>\n",
       "<table border=\"1\" class=\"dataframe\">\n",
       "  <thead>\n",
       "    <tr style=\"text-align: right;\">\n",
       "      <th></th>\n",
       "      <th>municipality</th>\n",
       "      <th>emp_rate2008</th>\n",
       "      <th>emp_rate2009</th>\n",
       "      <th>emp_rate2010</th>\n",
       "      <th>emp_rate2011</th>\n",
       "    </tr>\n",
       "  </thead>\n",
       "  <tbody>\n",
       "    <tr>\n",
       "      <th>0</th>\n",
       "      <td>All Denmark</td>\n",
       "      <td>76.0</td>\n",
       "      <td>72.8</td>\n",
       "      <td>72.1</td>\n",
       "      <td>71.8</td>\n",
       "    </tr>\n",
       "    <tr>\n",
       "      <th>1</th>\n",
       "      <td>Region Hovedstaden</td>\n",
       "      <td>75.8</td>\n",
       "      <td>73.3</td>\n",
       "      <td>72.6</td>\n",
       "      <td>72.5</td>\n",
       "    </tr>\n",
       "    <tr>\n",
       "      <th>2</th>\n",
       "      <td>Province Byen København</td>\n",
       "      <td>73.4</td>\n",
       "      <td>71.0</td>\n",
       "      <td>70.5</td>\n",
       "      <td>70.5</td>\n",
       "    </tr>\n",
       "    <tr>\n",
       "      <th>3</th>\n",
       "      <td>Copenhagen</td>\n",
       "      <td>72.5</td>\n",
       "      <td>70.0</td>\n",
       "      <td>69.7</td>\n",
       "      <td>69.6</td>\n",
       "    </tr>\n",
       "    <tr>\n",
       "      <th>4</th>\n",
       "      <td>Frederiksberg</td>\n",
       "      <td>75.6</td>\n",
       "      <td>73.7</td>\n",
       "      <td>72.7</td>\n",
       "      <td>72.8</td>\n",
       "    </tr>\n",
       "  </tbody>\n",
       "</table>\n",
       "</div>"
      ],
      "text/plain": [
       "              municipality  emp_rate2008  emp_rate2009  emp_rate2010  \\\n",
       "0              All Denmark          76.0          72.8          72.1   \n",
       "1       Region Hovedstaden          75.8          73.3          72.6   \n",
       "2  Province Byen København          73.4          71.0          70.5   \n",
       "3               Copenhagen          72.5          70.0          69.7   \n",
       "4            Frederiksberg          75.6          73.7          72.7   \n",
       "\n",
       "   emp_rate2011  \n",
       "0          71.8  \n",
       "1          72.5  \n",
       "2          70.5  \n",
       "3          69.6  \n",
       "4          72.8  "
      ]
     },
     "execution_count": 8,
     "metadata": {},
     "output_type": "execute_result"
    }
   ],
   "source": [
    "RAS = RAS.rename(columns=col_dict)\n",
    "RAS.head(5).iloc[:,0:5]"
   ]
  },
  {
   "cell_type": "markdown",
   "metadata": {},
   "source": [
    "**Note:** It is a good idea *not* to put *white spaces* in column names. You can theoretically have a column such as RAS['emp_rate 2017'] in a pandas df, but this is *very likely* to get messy. And you can no longer use `.`notation. "
   ]
  },
  {
   "attachments": {},
   "cell_type": "markdown",
   "metadata": {},
   "source": [
    "**Extract:** Now we can find the employment rate in the municipality of Copenhagen: "
   ]
  },
  {
   "cell_type": "code",
   "execution_count": 9,
   "metadata": {},
   "outputs": [
    {
     "data": {
      "text/html": [
       "<div>\n",
       "<style scoped>\n",
       "    .dataframe tbody tr th:only-of-type {\n",
       "        vertical-align: middle;\n",
       "    }\n",
       "\n",
       "    .dataframe tbody tr th {\n",
       "        vertical-align: top;\n",
       "    }\n",
       "\n",
       "    .dataframe thead th {\n",
       "        text-align: right;\n",
       "    }\n",
       "</style>\n",
       "<table border=\"1\" class=\"dataframe\">\n",
       "  <thead>\n",
       "    <tr style=\"text-align: right;\">\n",
       "      <th></th>\n",
       "      <th>municipality</th>\n",
       "      <th>emp_rate2008</th>\n",
       "      <th>emp_rate2009</th>\n",
       "      <th>emp_rate2010</th>\n",
       "      <th>emp_rate2011</th>\n",
       "    </tr>\n",
       "  </thead>\n",
       "  <tbody>\n",
       "    <tr>\n",
       "      <th>3</th>\n",
       "      <td>Copenhagen</td>\n",
       "      <td>72.5</td>\n",
       "      <td>70.0</td>\n",
       "      <td>69.7</td>\n",
       "      <td>69.6</td>\n",
       "    </tr>\n",
       "  </tbody>\n",
       "</table>\n",
       "</div>"
      ],
      "text/plain": [
       "  municipality  emp_rate2008  emp_rate2009  emp_rate2010  emp_rate2011\n",
       "3   Copenhagen          72.5          70.0          69.7          69.6"
      ]
     },
     "execution_count": 9,
     "metadata": {},
     "output_type": "execute_result"
    }
   ],
   "source": [
    "RAS.loc[RAS.municipality == 'Copenhagen'].iloc[:,:5]"
   ]
  },
  {
   "cell_type": "markdown",
   "metadata": {},
   "source": [
    "#### 1.2.3. <a id='toc1_2_3_'></a>[Dropping non-municipalities](#toc0_)\n",
    "\n",
    "The dataset contains observations like \"Region Hovedstaden\", which is not a municipality, so we want to drop such rows. To do this, we can use the `df['var'].str` functionalities. These are all sorts of functions that work with strings, in particular searching for instances of specific content by `df['var'].str.contains('PATTERN')`. "
   ]
  },
  {
   "cell_type": "code",
   "execution_count": 10,
   "metadata": {},
   "outputs": [
    {
     "data": {
      "text/html": [
       "<div>\n",
       "<style scoped>\n",
       "    .dataframe tbody tr th:only-of-type {\n",
       "        vertical-align: middle;\n",
       "    }\n",
       "\n",
       "    .dataframe tbody tr th {\n",
       "        vertical-align: top;\n",
       "    }\n",
       "\n",
       "    .dataframe thead th {\n",
       "        text-align: right;\n",
       "    }\n",
       "</style>\n",
       "<table border=\"1\" class=\"dataframe\">\n",
       "  <thead>\n",
       "    <tr style=\"text-align: right;\">\n",
       "      <th></th>\n",
       "      <th>municipality</th>\n",
       "      <th>emp_rate2008</th>\n",
       "      <th>emp_rate2009</th>\n",
       "      <th>emp_rate2010</th>\n",
       "      <th>emp_rate2011</th>\n",
       "    </tr>\n",
       "  </thead>\n",
       "  <tbody>\n",
       "    <tr>\n",
       "      <th>0</th>\n",
       "      <td>All Denmark</td>\n",
       "      <td>76.0</td>\n",
       "      <td>72.8</td>\n",
       "      <td>72.1</td>\n",
       "      <td>71.8</td>\n",
       "    </tr>\n",
       "    <tr>\n",
       "      <th>1</th>\n",
       "      <td>Region Hovedstaden</td>\n",
       "      <td>75.8</td>\n",
       "      <td>73.3</td>\n",
       "      <td>72.6</td>\n",
       "      <td>72.5</td>\n",
       "    </tr>\n",
       "    <tr>\n",
       "      <th>2</th>\n",
       "      <td>Province Byen København</td>\n",
       "      <td>73.4</td>\n",
       "      <td>71.0</td>\n",
       "      <td>70.5</td>\n",
       "      <td>70.5</td>\n",
       "    </tr>\n",
       "    <tr>\n",
       "      <th>7</th>\n",
       "      <td>Province Københavns omegn</td>\n",
       "      <td>77.1</td>\n",
       "      <td>74.2</td>\n",
       "      <td>73.2</td>\n",
       "      <td>73.0</td>\n",
       "    </tr>\n",
       "    <tr>\n",
       "      <th>21</th>\n",
       "      <td>Province Nordsjælland</td>\n",
       "      <td>79.4</td>\n",
       "      <td>76.9</td>\n",
       "      <td>76.3</td>\n",
       "      <td>76.1</td>\n",
       "    </tr>\n",
       "  </tbody>\n",
       "</table>\n",
       "</div>"
      ],
      "text/plain": [
       "                 municipality  emp_rate2008  emp_rate2009  emp_rate2010  \\\n",
       "0                 All Denmark          76.0          72.8          72.1   \n",
       "1          Region Hovedstaden          75.8          73.3          72.6   \n",
       "2     Province Byen København          73.4          71.0          70.5   \n",
       "7   Province Københavns omegn          77.1          74.2          73.2   \n",
       "21      Province Nordsjælland          79.4          76.9          76.3   \n",
       "\n",
       "    emp_rate2011  \n",
       "0           71.8  \n",
       "1           72.5  \n",
       "2           70.5  \n",
       "7           73.0  \n",
       "21          76.1  "
      ]
     },
     "execution_count": 10,
     "metadata": {},
     "output_type": "execute_result"
    }
   ],
   "source": [
    "# build up a logical index I\n",
    "I = RAS.municipality.str.contains('Region')\n",
    "I |= RAS.municipality.str.contains('Province')\n",
    "I |= RAS.municipality.str.contains('All Denmark')\n",
    "RAS.loc[I,:].iloc[:5,:5]"
   ]
  },
  {
   "cell_type": "markdown",
   "metadata": {},
   "source": [
    "**Delete these rows:**"
   ]
  },
  {
   "cell_type": "code",
   "execution_count": 11,
   "metadata": {},
   "outputs": [
    {
     "data": {
      "text/html": [
       "<div>\n",
       "<style scoped>\n",
       "    .dataframe tbody tr th:only-of-type {\n",
       "        vertical-align: middle;\n",
       "    }\n",
       "\n",
       "    .dataframe tbody tr th {\n",
       "        vertical-align: top;\n",
       "    }\n",
       "\n",
       "    .dataframe thead th {\n",
       "        text-align: right;\n",
       "    }\n",
       "</style>\n",
       "<table border=\"1\" class=\"dataframe\">\n",
       "  <thead>\n",
       "    <tr style=\"text-align: right;\">\n",
       "      <th></th>\n",
       "      <th>municipality</th>\n",
       "      <th>emp_rate2008</th>\n",
       "      <th>emp_rate2009</th>\n",
       "      <th>emp_rate2010</th>\n",
       "      <th>emp_rate2011</th>\n",
       "    </tr>\n",
       "  </thead>\n",
       "  <tbody>\n",
       "    <tr>\n",
       "      <th>3</th>\n",
       "      <td>Copenhagen</td>\n",
       "      <td>72.5</td>\n",
       "      <td>70.0</td>\n",
       "      <td>69.7</td>\n",
       "      <td>69.6</td>\n",
       "    </tr>\n",
       "    <tr>\n",
       "      <th>4</th>\n",
       "      <td>Frederiksberg</td>\n",
       "      <td>75.6</td>\n",
       "      <td>73.7</td>\n",
       "      <td>72.7</td>\n",
       "      <td>72.8</td>\n",
       "    </tr>\n",
       "    <tr>\n",
       "      <th>5</th>\n",
       "      <td>Dragør</td>\n",
       "      <td>80.5</td>\n",
       "      <td>78.8</td>\n",
       "      <td>78.5</td>\n",
       "      <td>78.5</td>\n",
       "    </tr>\n",
       "    <tr>\n",
       "      <th>6</th>\n",
       "      <td>Tårnby</td>\n",
       "      <td>79.0</td>\n",
       "      <td>76.3</td>\n",
       "      <td>75.4</td>\n",
       "      <td>75.8</td>\n",
       "    </tr>\n",
       "    <tr>\n",
       "      <th>8</th>\n",
       "      <td>Albertslund</td>\n",
       "      <td>73.1</td>\n",
       "      <td>69.2</td>\n",
       "      <td>67.5</td>\n",
       "      <td>67.4</td>\n",
       "    </tr>\n",
       "  </tbody>\n",
       "</table>\n",
       "</div>"
      ],
      "text/plain": [
       "    municipality  emp_rate2008  emp_rate2009  emp_rate2010  emp_rate2011\n",
       "3     Copenhagen          72.5          70.0          69.7          69.6\n",
       "4  Frederiksberg          75.6          73.7          72.7          72.8\n",
       "5         Dragør          80.5          78.8          78.5          78.5\n",
       "6         Tårnby          79.0          76.3          75.4          75.8\n",
       "8    Albertslund          73.1          69.2          67.5          67.4"
      ]
     },
     "execution_count": 11,
     "metadata": {},
     "output_type": "execute_result"
    }
   ],
   "source": [
    "RAS = RAS.loc[I==False] # keep everything else\n",
    "RAS.iloc[:5,:5]"
   ]
  },
  {
   "cell_type": "markdown",
   "metadata": {},
   "source": [
    "We can sort and reset index so it don't have holes: "
   ]
  },
  {
   "cell_type": "code",
   "execution_count": 12,
   "metadata": {},
   "outputs": [
    {
     "data": {
      "text/html": [
       "<div>\n",
       "<style scoped>\n",
       "    .dataframe tbody tr th:only-of-type {\n",
       "        vertical-align: middle;\n",
       "    }\n",
       "\n",
       "    .dataframe tbody tr th {\n",
       "        vertical-align: top;\n",
       "    }\n",
       "\n",
       "    .dataframe thead th {\n",
       "        text-align: right;\n",
       "    }\n",
       "</style>\n",
       "<table border=\"1\" class=\"dataframe\">\n",
       "  <thead>\n",
       "    <tr style=\"text-align: right;\">\n",
       "      <th></th>\n",
       "      <th>municipality</th>\n",
       "      <th>emp_rate2008</th>\n",
       "      <th>emp_rate2009</th>\n",
       "      <th>emp_rate2010</th>\n",
       "      <th>emp_rate2011</th>\n",
       "    </tr>\n",
       "  </thead>\n",
       "  <tbody>\n",
       "    <tr>\n",
       "      <th>0</th>\n",
       "      <td>Aabenraa</td>\n",
       "      <td>74.6</td>\n",
       "      <td>71.6</td>\n",
       "      <td>70.9</td>\n",
       "      <td>70.2</td>\n",
       "    </tr>\n",
       "    <tr>\n",
       "      <th>1</th>\n",
       "      <td>Aalborg</td>\n",
       "      <td>73.2</td>\n",
       "      <td>70.1</td>\n",
       "      <td>69.7</td>\n",
       "      <td>69.2</td>\n",
       "    </tr>\n",
       "    <tr>\n",
       "      <th>2</th>\n",
       "      <td>Aarhus</td>\n",
       "      <td>72.6</td>\n",
       "      <td>69.8</td>\n",
       "      <td>69.0</td>\n",
       "      <td>68.0</td>\n",
       "    </tr>\n",
       "    <tr>\n",
       "      <th>3</th>\n",
       "      <td>Albertslund</td>\n",
       "      <td>73.1</td>\n",
       "      <td>69.2</td>\n",
       "      <td>67.5</td>\n",
       "      <td>67.4</td>\n",
       "    </tr>\n",
       "    <tr>\n",
       "      <th>4</th>\n",
       "      <td>Allerød</td>\n",
       "      <td>83.8</td>\n",
       "      <td>81.5</td>\n",
       "      <td>81.4</td>\n",
       "      <td>80.5</td>\n",
       "    </tr>\n",
       "  </tbody>\n",
       "</table>\n",
       "</div>"
      ],
      "text/plain": [
       "  municipality  emp_rate2008  emp_rate2009  emp_rate2010  emp_rate2011\n",
       "0     Aabenraa          74.6          71.6          70.9          70.2\n",
       "1      Aalborg          73.2          70.1          69.7          69.2\n",
       "2       Aarhus          72.6          69.8          69.0          68.0\n",
       "3  Albertslund          73.1          69.2          67.5          67.4\n",
       "4      Allerød          83.8          81.5          81.4          80.5"
      ]
     },
     "execution_count": 12,
     "metadata": {},
     "output_type": "execute_result"
    }
   ],
   "source": [
    "RAS = RAS.sort_values('municipality').reset_index(drop=True) # drop=True to avoid adding old index as a column\n",
    "RAS.iloc[:5,:5]"
   ]
  },
  {
   "cell_type": "markdown",
   "metadata": {},
   "source": [
    "#### 1.2.4. <a id='toc1_2_4_'></a>[Summary statistics](#toc0_)\n",
    "\n",
    "To get an overview of employments across municipalities we can use the function `df.describe()`."
   ]
  },
  {
   "cell_type": "code",
   "execution_count": 13,
   "metadata": {},
   "outputs": [
    {
     "data": {
      "text/html": [
       "<style type=\"text/css\">\n",
       "</style>\n",
       "<table id=\"T_0ed9f\">\n",
       "  <thead>\n",
       "    <tr>\n",
       "      <th class=\"blank level0\" >&nbsp;</th>\n",
       "      <th id=\"T_0ed9f_level0_col0\" class=\"col_heading level0 col0\" >emp_rate2008</th>\n",
       "      <th id=\"T_0ed9f_level0_col1\" class=\"col_heading level0 col1\" >emp_rate2009</th>\n",
       "      <th id=\"T_0ed9f_level0_col2\" class=\"col_heading level0 col2\" >emp_rate2010</th>\n",
       "      <th id=\"T_0ed9f_level0_col3\" class=\"col_heading level0 col3\" >emp_rate2011</th>\n",
       "    </tr>\n",
       "  </thead>\n",
       "  <tbody>\n",
       "    <tr>\n",
       "      <th id=\"T_0ed9f_level0_row0\" class=\"row_heading level0 row0\" >count</th>\n",
       "      <td id=\"T_0ed9f_row0_col0\" class=\"data row0 col0\" >99.0</td>\n",
       "      <td id=\"T_0ed9f_row0_col1\" class=\"data row0 col1\" >99.0</td>\n",
       "      <td id=\"T_0ed9f_row0_col2\" class=\"data row0 col2\" >99.0</td>\n",
       "      <td id=\"T_0ed9f_row0_col3\" class=\"data row0 col3\" >99.0</td>\n",
       "    </tr>\n",
       "    <tr>\n",
       "      <th id=\"T_0ed9f_level0_row1\" class=\"row_heading level0 row1\" >mean</th>\n",
       "      <td id=\"T_0ed9f_row1_col0\" class=\"data row1 col0\" >76.6</td>\n",
       "      <td id=\"T_0ed9f_row1_col1\" class=\"data row1 col1\" >73.4</td>\n",
       "      <td id=\"T_0ed9f_row1_col2\" class=\"data row1 col2\" >72.8</td>\n",
       "      <td id=\"T_0ed9f_row1_col3\" class=\"data row1 col3\" >72.6</td>\n",
       "    </tr>\n",
       "    <tr>\n",
       "      <th id=\"T_0ed9f_level0_row2\" class=\"row_heading level0 row2\" >std</th>\n",
       "      <td id=\"T_0ed9f_row2_col0\" class=\"data row2 col0\" >3.7</td>\n",
       "      <td id=\"T_0ed9f_row2_col1\" class=\"data row2 col1\" >3.6</td>\n",
       "      <td id=\"T_0ed9f_row2_col2\" class=\"data row2 col2\" >3.6</td>\n",
       "      <td id=\"T_0ed9f_row2_col3\" class=\"data row2 col3\" >3.7</td>\n",
       "    </tr>\n",
       "    <tr>\n",
       "      <th id=\"T_0ed9f_level0_row3\" class=\"row_heading level0 row3\" >min</th>\n",
       "      <td id=\"T_0ed9f_row3_col0\" class=\"data row3 col0\" >62.9</td>\n",
       "      <td id=\"T_0ed9f_row3_col1\" class=\"data row3 col1\" >63.4</td>\n",
       "      <td id=\"T_0ed9f_row3_col2\" class=\"data row3 col2\" >62.4</td>\n",
       "      <td id=\"T_0ed9f_row3_col3\" class=\"data row3 col3\" >61.5</td>\n",
       "    </tr>\n",
       "    <tr>\n",
       "      <th id=\"T_0ed9f_level0_row4\" class=\"row_heading level0 row4\" >25%</th>\n",
       "      <td id=\"T_0ed9f_row4_col0\" class=\"data row4 col0\" >74.7</td>\n",
       "      <td id=\"T_0ed9f_row4_col1\" class=\"data row4 col1\" >71.3</td>\n",
       "      <td id=\"T_0ed9f_row4_col2\" class=\"data row4 col2\" >70.5</td>\n",
       "      <td id=\"T_0ed9f_row4_col3\" class=\"data row4 col3\" >70.0</td>\n",
       "    </tr>\n",
       "    <tr>\n",
       "      <th id=\"T_0ed9f_level0_row5\" class=\"row_heading level0 row5\" >50%</th>\n",
       "      <td id=\"T_0ed9f_row5_col0\" class=\"data row5 col0\" >76.8</td>\n",
       "      <td id=\"T_0ed9f_row5_col1\" class=\"data row5 col1\" >73.3</td>\n",
       "      <td id=\"T_0ed9f_row5_col2\" class=\"data row5 col2\" >72.9</td>\n",
       "      <td id=\"T_0ed9f_row5_col3\" class=\"data row5 col3\" >72.6</td>\n",
       "    </tr>\n",
       "    <tr>\n",
       "      <th id=\"T_0ed9f_level0_row6\" class=\"row_heading level0 row6\" >75%</th>\n",
       "      <td id=\"T_0ed9f_row6_col0\" class=\"data row6 col0\" >79.2</td>\n",
       "      <td id=\"T_0ed9f_row6_col1\" class=\"data row6 col1\" >75.9</td>\n",
       "      <td id=\"T_0ed9f_row6_col2\" class=\"data row6 col2\" >75.2</td>\n",
       "      <td id=\"T_0ed9f_row6_col3\" class=\"data row6 col3\" >75.0</td>\n",
       "    </tr>\n",
       "    <tr>\n",
       "      <th id=\"T_0ed9f_level0_row7\" class=\"row_heading level0 row7\" >max</th>\n",
       "      <td id=\"T_0ed9f_row7_col0\" class=\"data row7 col0\" >84.0</td>\n",
       "      <td id=\"T_0ed9f_row7_col1\" class=\"data row7 col1\" >81.5</td>\n",
       "      <td id=\"T_0ed9f_row7_col2\" class=\"data row7 col2\" >81.4</td>\n",
       "      <td id=\"T_0ed9f_row7_col3\" class=\"data row7 col3\" >80.5</td>\n",
       "    </tr>\n",
       "  </tbody>\n",
       "</table>\n"
      ],
      "text/plain": [
       "<pandas.io.formats.style.Styler at 0x21dbc619d30>"
      ]
     },
     "execution_count": 13,
     "metadata": {},
     "output_type": "execute_result"
    }
   ],
   "source": [
    "RAS.iloc[:,:5].describe().style.format('{:.1f}') # .1f is for one decimal"
   ]
  },
  {
   "cell_type": "markdown",
   "metadata": {},
   "source": [
    "### 1.3. <a id='toc1_3_'></a>[Step 3. Structure](#toc0_)"
   ]
  },
  {
   "cell_type": "markdown",
   "metadata": {},
   "source": [
    "Think of a dataset as having:\n",
    "\n",
    "1. `id`, here `municipality`.\n",
    "1. `period`, here `year`.\n",
    "1. `variables`, here `empl`(oyment)_rate\n",
    "\n",
    "Datasets are:\n",
    "\n",
    "1. **Longer** if they have more *rows*\n",
    "1. **Wider** if they have more *columns*\n",
    "\n",
    "In economics, we often like panel data sets, which are:\n",
    "\n",
    "1. **Wide** in `variables` (i.e. one column, one variable)\n",
    "1. **Long** in (`id`,`period`) (i.e. one row per observation)"
   ]
  },
  {
   "cell_type": "markdown",
   "metadata": {},
   "source": [
    "Conversion can be done with `pd.wide_to_long`:\n",
    "\n",
    "1. `i` is `id`\n",
    "1. `j` is `period`\n",
    "1. The wide format variables are assumed to start with the `stubnames`."
   ]
  },
  {
   "cell_type": "code",
   "execution_count": 14,
   "metadata": {},
   "outputs": [
    {
     "data": {
      "text/html": [
       "<div>\n",
       "<style scoped>\n",
       "    .dataframe tbody tr th:only-of-type {\n",
       "        vertical-align: middle;\n",
       "    }\n",
       "\n",
       "    .dataframe tbody tr th {\n",
       "        vertical-align: top;\n",
       "    }\n",
       "\n",
       "    .dataframe thead th {\n",
       "        text-align: right;\n",
       "    }\n",
       "</style>\n",
       "<table border=\"1\" class=\"dataframe\">\n",
       "  <thead>\n",
       "    <tr style=\"text-align: right;\">\n",
       "      <th></th>\n",
       "      <th></th>\n",
       "      <th>emp_rate</th>\n",
       "    </tr>\n",
       "    <tr>\n",
       "      <th>municipality</th>\n",
       "      <th>year</th>\n",
       "      <th></th>\n",
       "    </tr>\n",
       "  </thead>\n",
       "  <tbody>\n",
       "    <tr>\n",
       "      <th>Aabenraa</th>\n",
       "      <th>2008</th>\n",
       "      <td>74.6</td>\n",
       "    </tr>\n",
       "    <tr>\n",
       "      <th>Aalborg</th>\n",
       "      <th>2008</th>\n",
       "      <td>73.2</td>\n",
       "    </tr>\n",
       "    <tr>\n",
       "      <th>Aarhus</th>\n",
       "      <th>2008</th>\n",
       "      <td>72.6</td>\n",
       "    </tr>\n",
       "    <tr>\n",
       "      <th>Albertslund</th>\n",
       "      <th>2008</th>\n",
       "      <td>73.1</td>\n",
       "    </tr>\n",
       "    <tr>\n",
       "      <th>Allerød</th>\n",
       "      <th>2008</th>\n",
       "      <td>83.8</td>\n",
       "    </tr>\n",
       "  </tbody>\n",
       "</table>\n",
       "</div>"
      ],
      "text/plain": [
       "                   emp_rate\n",
       "municipality year          \n",
       "Aabenraa     2008      74.6\n",
       "Aalborg      2008      73.2\n",
       "Aarhus       2008      72.6\n",
       "Albertslund  2008      73.1\n",
       "Allerød      2008      83.8"
      ]
     },
     "execution_count": 14,
     "metadata": {},
     "output_type": "execute_result"
    }
   ],
   "source": [
    "RAS_long = pd.wide_to_long(RAS,stubnames='emp_rate',i='municipality',j='year')\n",
    "RAS_long.head(5)"
   ]
  },
  {
   "cell_type": "code",
   "execution_count": 15,
   "metadata": {},
   "outputs": [
    {
     "data": {
      "text/html": [
       "<div>\n",
       "<style scoped>\n",
       "    .dataframe tbody tr th:only-of-type {\n",
       "        vertical-align: middle;\n",
       "    }\n",
       "\n",
       "    .dataframe tbody tr th {\n",
       "        vertical-align: top;\n",
       "    }\n",
       "\n",
       "    .dataframe thead th {\n",
       "        text-align: right;\n",
       "    }\n",
       "</style>\n",
       "<table border=\"1\" class=\"dataframe\">\n",
       "  <thead>\n",
       "    <tr style=\"text-align: right;\">\n",
       "      <th></th>\n",
       "      <th></th>\n",
       "      <th>emp_rate</th>\n",
       "    </tr>\n",
       "    <tr>\n",
       "      <th>municipality</th>\n",
       "      <th>year</th>\n",
       "      <th></th>\n",
       "    </tr>\n",
       "  </thead>\n",
       "  <tbody>\n",
       "    <tr>\n",
       "      <th>Vejle</th>\n",
       "      <th>2023</th>\n",
       "      <td>79.4</td>\n",
       "    </tr>\n",
       "    <tr>\n",
       "      <th>Vesthimmerlands</th>\n",
       "      <th>2023</th>\n",
       "      <td>77.4</td>\n",
       "    </tr>\n",
       "    <tr>\n",
       "      <th>Viborg</th>\n",
       "      <th>2023</th>\n",
       "      <td>78.0</td>\n",
       "    </tr>\n",
       "    <tr>\n",
       "      <th>Vordingborg</th>\n",
       "      <th>2023</th>\n",
       "      <td>74.7</td>\n",
       "    </tr>\n",
       "    <tr>\n",
       "      <th>Ærø</th>\n",
       "      <th>2023</th>\n",
       "      <td>73.5</td>\n",
       "    </tr>\n",
       "  </tbody>\n",
       "</table>\n",
       "</div>"
      ],
      "text/plain": [
       "                      emp_rate\n",
       "municipality    year          \n",
       "Vejle           2023      79.4\n",
       "Vesthimmerlands 2023      77.4\n",
       "Viborg          2023      78.0\n",
       "Vordingborg     2023      74.7\n",
       "Ærø             2023      73.5"
      ]
     },
     "execution_count": 15,
     "metadata": {},
     "output_type": "execute_result"
    }
   ],
   "source": [
    "RAS_long.tail(5)"
   ]
  },
  {
   "cell_type": "markdown",
   "metadata": {},
   "source": [
    "**Note:** The variables `municipality` and `year`  are now in the index!! We see that because they are \"below\" `emp_rate` in the `head` overview. "
   ]
  },
  {
   "cell_type": "code",
   "execution_count": 16,
   "metadata": {},
   "outputs": [
    {
     "name": "stdout",
     "output_type": "stream",
     "text": [
      "[('Aabenraa', 2008) ('Aalborg', 2008) ('Aarhus', 2008)]\n"
     ]
    }
   ],
   "source": [
    "# the index variable now consists of tuples. \n",
    "print(RAS_long.index.values[:3])"
   ]
  },
  {
   "attachments": {},
   "cell_type": "markdown",
   "metadata": {},
   "source": [
    "The index is now a [Multiindex](https://pandas.pydata.org/docs/user_guide/advanced.html#multiindex-advanced-indexing), as it has multiple levels.\n",
    "\n",
    "We can **select a specific municipality** using ``.xs``:"
   ]
  },
  {
   "cell_type": "code",
   "execution_count": 17,
   "metadata": {},
   "outputs": [
    {
     "data": {
      "text/html": [
       "<div>\n",
       "<style scoped>\n",
       "    .dataframe tbody tr th:only-of-type {\n",
       "        vertical-align: middle;\n",
       "    }\n",
       "\n",
       "    .dataframe tbody tr th {\n",
       "        vertical-align: top;\n",
       "    }\n",
       "\n",
       "    .dataframe thead th {\n",
       "        text-align: right;\n",
       "    }\n",
       "</style>\n",
       "<table border=\"1\" class=\"dataframe\">\n",
       "  <thead>\n",
       "    <tr style=\"text-align: right;\">\n",
       "      <th></th>\n",
       "      <th>emp_rate</th>\n",
       "    </tr>\n",
       "    <tr>\n",
       "      <th>year</th>\n",
       "      <th></th>\n",
       "    </tr>\n",
       "  </thead>\n",
       "  <tbody>\n",
       "    <tr>\n",
       "      <th>2008</th>\n",
       "      <td>79.1</td>\n",
       "    </tr>\n",
       "    <tr>\n",
       "      <th>2009</th>\n",
       "      <td>76.3</td>\n",
       "    </tr>\n",
       "    <tr>\n",
       "      <th>2010</th>\n",
       "      <td>75.2</td>\n",
       "    </tr>\n",
       "    <tr>\n",
       "      <th>2011</th>\n",
       "      <td>74.9</td>\n",
       "    </tr>\n",
       "    <tr>\n",
       "      <th>2012</th>\n",
       "      <td>74.1</td>\n",
       "    </tr>\n",
       "    <tr>\n",
       "      <th>2013</th>\n",
       "      <td>74.0</td>\n",
       "    </tr>\n",
       "    <tr>\n",
       "      <th>2014</th>\n",
       "      <td>74.0</td>\n",
       "    </tr>\n",
       "    <tr>\n",
       "      <th>2015</th>\n",
       "      <td>74.5</td>\n",
       "    </tr>\n",
       "    <tr>\n",
       "      <th>2016</th>\n",
       "      <td>75.6</td>\n",
       "    </tr>\n",
       "    <tr>\n",
       "      <th>2017</th>\n",
       "      <td>76.8</td>\n",
       "    </tr>\n",
       "    <tr>\n",
       "      <th>2018</th>\n",
       "      <td>77.7</td>\n",
       "    </tr>\n",
       "    <tr>\n",
       "      <th>2019</th>\n",
       "      <td>78.1</td>\n",
       "    </tr>\n",
       "    <tr>\n",
       "      <th>2020</th>\n",
       "      <td>77.6</td>\n",
       "    </tr>\n",
       "    <tr>\n",
       "      <th>2021</th>\n",
       "      <td>79.8</td>\n",
       "    </tr>\n",
       "    <tr>\n",
       "      <th>2022</th>\n",
       "      <td>80.6</td>\n",
       "    </tr>\n",
       "    <tr>\n",
       "      <th>2023</th>\n",
       "      <td>80.5</td>\n",
       "    </tr>\n",
       "  </tbody>\n",
       "</table>\n",
       "</div>"
      ],
      "text/plain": [
       "      emp_rate\n",
       "year          \n",
       "2008      79.1\n",
       "2009      76.3\n",
       "2010      75.2\n",
       "2011      74.9\n",
       "2012      74.1\n",
       "2013      74.0\n",
       "2014      74.0\n",
       "2015      74.5\n",
       "2016      75.6\n",
       "2017      76.8\n",
       "2018      77.7\n",
       "2019      78.1\n",
       "2020      77.6\n",
       "2021      79.8\n",
       "2022      80.6\n",
       "2023      80.5"
      ]
     },
     "execution_count": 17,
     "metadata": {},
     "output_type": "execute_result"
    }
   ],
   "source": [
    "RAS_long.xs('Roskilde',level='municipality')"
   ]
  },
  {
   "cell_type": "code",
   "execution_count": 18,
   "metadata": {},
   "outputs": [
    {
     "data": {
      "image/png": "[encoded data removed]",
      "text/plain": [
       "<Figure size 640x480 with 1 Axes>"
      ]
     },
     "metadata": {},
     "output_type": "display_data"
    }
   ],
   "source": [
    "fig = plt.figure()\n",
    "ax = fig.add_subplot(1,1,1)\n",
    "\n",
    "municipalities = ['Copenhagen','Roskilde','Lejre']\n",
    "for m in municipalities:\n",
    "    y = RAS_long.xs(m,level='municipality')\n",
    "    ax.plot(y.index,y.emp_rate,ls='-',marker='o',label=m)\n",
    "\n",
    "ax.set_ylabel('percent');\n",
    "ax.set_ylim([60,90])\n",
    "\n",
    "ax.set_xlabel('year')\n",
    "ax.set_xticks(y.index,labels=y.index)\n",
    "ax.set_xticklabels(y.index,rotation=270)\n",
    "\n",
    "ax.legend(frameon=True,ncol=3,fontsize=12);"
   ]
  },
  {
   "cell_type": "markdown",
   "metadata": {},
   "source": [
    "**More genaral alternative for wide-to-long:**"
   ]
  },
  {
   "cell_type": "code",
   "execution_count": 19,
   "metadata": {},
   "outputs": [
    {
     "data": {
      "text/html": [
       "<div>\n",
       "<style scoped>\n",
       "    .dataframe tbody tr th:only-of-type {\n",
       "        vertical-align: middle;\n",
       "    }\n",
       "\n",
       "    .dataframe tbody tr th {\n",
       "        vertical-align: top;\n",
       "    }\n",
       "\n",
       "    .dataframe thead th {\n",
       "        text-align: right;\n",
       "    }\n",
       "</style>\n",
       "<table border=\"1\" class=\"dataframe\">\n",
       "  <thead>\n",
       "    <tr style=\"text-align: right;\">\n",
       "      <th></th>\n",
       "      <th>municipality</th>\n",
       "      <th>year</th>\n",
       "      <th>emp_rate</th>\n",
       "    </tr>\n",
       "  </thead>\n",
       "  <tbody>\n",
       "    <tr>\n",
       "      <th>0</th>\n",
       "      <td>Aabenraa</td>\n",
       "      <td>2008</td>\n",
       "      <td>74.6</td>\n",
       "    </tr>\n",
       "    <tr>\n",
       "      <th>1</th>\n",
       "      <td>Aalborg</td>\n",
       "      <td>2008</td>\n",
       "      <td>73.2</td>\n",
       "    </tr>\n",
       "    <tr>\n",
       "      <th>2</th>\n",
       "      <td>Aarhus</td>\n",
       "      <td>2008</td>\n",
       "      <td>72.6</td>\n",
       "    </tr>\n",
       "    <tr>\n",
       "      <th>3</th>\n",
       "      <td>Albertslund</td>\n",
       "      <td>2008</td>\n",
       "      <td>73.1</td>\n",
       "    </tr>\n",
       "    <tr>\n",
       "      <th>4</th>\n",
       "      <td>Allerød</td>\n",
       "      <td>2008</td>\n",
       "      <td>83.8</td>\n",
       "    </tr>\n",
       "  </tbody>\n",
       "</table>\n",
       "</div>"
      ],
      "text/plain": [
       "  municipality  year  emp_rate\n",
       "0     Aabenraa  2008      74.6\n",
       "1      Aalborg  2008      73.2\n",
       "2       Aarhus  2008      72.6\n",
       "3  Albertslund  2008      73.1\n",
       "4      Allerød  2008      83.8"
      ]
     },
     "execution_count": 19,
     "metadata": {},
     "output_type": "execute_result"
    }
   ],
   "source": [
    "RAS_long_ = RAS.melt(id_vars='municipality',var_name='year',value_name='emp_rate')\n",
    "RAS_long_['year'] = RAS_long_['year'].str.replace('emp_rate','').astype(int)\n",
    "RAS_long_.head(5)"
   ]
  },
  {
   "cell_type": "markdown",
   "metadata": {},
   "source": [
    "## 2. <a id='toc2_'></a>[Employment and participation rate in Danish municipalities](#toc0_)"
   ]
  },
  {
   "cell_type": "markdown",
   "metadata": {},
   "source": [
    "We now read in RAS data for *both* the employment rate and the participation rate in each municipality.\n",
    "\n",
    "Here we do the cleaning, renaming and structuring more condensed."
   ]
  },
  {
   "cell_type": "code",
   "execution_count": 20,
   "metadata": {},
   "outputs": [
    {
     "name": "stdout",
     "output_type": "stream",
     "text": [
      "initial:\n"
     ]
    },
    {
     "data": {
      "text/html": [
       "<div>\n",
       "<style scoped>\n",
       "    .dataframe tbody tr th:only-of-type {\n",
       "        vertical-align: middle;\n",
       "    }\n",
       "\n",
       "    .dataframe tbody tr th {\n",
       "        vertical-align: top;\n",
       "    }\n",
       "\n",
       "    .dataframe thead th {\n",
       "        text-align: right;\n",
       "    }\n",
       "</style>\n",
       "<table border=\"1\" class=\"dataframe\">\n",
       "  <thead>\n",
       "    <tr style=\"text-align: right;\">\n",
       "      <th></th>\n",
       "      <th>Unnamed: 0</th>\n",
       "      <th>Unnamed: 1</th>\n",
       "      <th>Unnamed: 2</th>\n",
       "      <th>Unnamed: 3</th>\n",
       "      <th>Unnamed: 4</th>\n",
       "      <th>2008</th>\n",
       "      <th>2009</th>\n",
       "    </tr>\n",
       "  </thead>\n",
       "  <tbody>\n",
       "    <tr>\n",
       "      <th>0</th>\n",
       "      <td>Total</td>\n",
       "      <td>16-64 years</td>\n",
       "      <td>Total</td>\n",
       "      <td>Employment rate</td>\n",
       "      <td>All Denmark</td>\n",
       "      <td>76.0</td>\n",
       "      <td>72.8</td>\n",
       "    </tr>\n",
       "    <tr>\n",
       "      <th>1</th>\n",
       "      <td>NaN</td>\n",
       "      <td>NaN</td>\n",
       "      <td>NaN</td>\n",
       "      <td>NaN</td>\n",
       "      <td>Region Hovedstaden</td>\n",
       "      <td>75.8</td>\n",
       "      <td>73.3</td>\n",
       "    </tr>\n",
       "    <tr>\n",
       "      <th>2</th>\n",
       "      <td>NaN</td>\n",
       "      <td>NaN</td>\n",
       "      <td>NaN</td>\n",
       "      <td>NaN</td>\n",
       "      <td>Province Byen København</td>\n",
       "      <td>73.4</td>\n",
       "      <td>71.0</td>\n",
       "    </tr>\n",
       "    <tr>\n",
       "      <th>3</th>\n",
       "      <td>NaN</td>\n",
       "      <td>NaN</td>\n",
       "      <td>NaN</td>\n",
       "      <td>NaN</td>\n",
       "      <td>Copenhagen</td>\n",
       "      <td>72.5</td>\n",
       "      <td>70.0</td>\n",
       "    </tr>\n",
       "    <tr>\n",
       "      <th>4</th>\n",
       "      <td>NaN</td>\n",
       "      <td>NaN</td>\n",
       "      <td>NaN</td>\n",
       "      <td>NaN</td>\n",
       "      <td>Frederiksberg</td>\n",
       "      <td>75.6</td>\n",
       "      <td>73.7</td>\n",
       "    </tr>\n",
       "  </tbody>\n",
       "</table>\n",
       "</div>"
      ],
      "text/plain": [
       "  Unnamed: 0   Unnamed: 1 Unnamed: 2       Unnamed: 3  \\\n",
       "0      Total  16-64 years      Total  Employment rate   \n",
       "1        NaN          NaN        NaN              NaN   \n",
       "2        NaN          NaN        NaN              NaN   \n",
       "3        NaN          NaN        NaN              NaN   \n",
       "4        NaN          NaN        NaN              NaN   \n",
       "\n",
       "                Unnamed: 4  2008  2009  \n",
       "0              All Denmark  76.0  72.8  \n",
       "1       Region Hovedstaden  75.8  73.3  \n",
       "2  Province Byen København  73.4  71.0  \n",
       "3               Copenhagen  72.5  70.0  \n",
       "4            Frederiksberg  75.6  73.7  "
      ]
     },
     "metadata": {},
     "output_type": "display_data"
    },
    {
     "name": "stdout",
     "output_type": "stream",
     "text": [
      "cleaned:\n"
     ]
    },
    {
     "data": {
      "text/html": [
       "<div>\n",
       "<style scoped>\n",
       "    .dataframe tbody tr th:only-of-type {\n",
       "        vertical-align: middle;\n",
       "    }\n",
       "\n",
       "    .dataframe tbody tr th {\n",
       "        vertical-align: top;\n",
       "    }\n",
       "\n",
       "    .dataframe thead th {\n",
       "        text-align: right;\n",
       "    }\n",
       "</style>\n",
       "<table border=\"1\" class=\"dataframe\">\n",
       "  <thead>\n",
       "    <tr style=\"text-align: right;\">\n",
       "      <th></th>\n",
       "      <th>variable</th>\n",
       "      <th>municipality</th>\n",
       "      <th>value2008</th>\n",
       "      <th>value2009</th>\n",
       "      <th>value2010</th>\n",
       "    </tr>\n",
       "  </thead>\n",
       "  <tbody>\n",
       "    <tr>\n",
       "      <th>0</th>\n",
       "      <td>emp_rate</td>\n",
       "      <td>Aabenraa</td>\n",
       "      <td>74.6</td>\n",
       "      <td>71.6</td>\n",
       "      <td>70.9</td>\n",
       "    </tr>\n",
       "    <tr>\n",
       "      <th>1</th>\n",
       "      <td>part_rate</td>\n",
       "      <td>Aabenraa</td>\n",
       "      <td>76.3</td>\n",
       "      <td>75.2</td>\n",
       "      <td>74.5</td>\n",
       "    </tr>\n",
       "    <tr>\n",
       "      <th>2</th>\n",
       "      <td>emp_rate</td>\n",
       "      <td>Aalborg</td>\n",
       "      <td>73.2</td>\n",
       "      <td>70.1</td>\n",
       "      <td>69.7</td>\n",
       "    </tr>\n",
       "    <tr>\n",
       "      <th>3</th>\n",
       "      <td>part_rate</td>\n",
       "      <td>Aalborg</td>\n",
       "      <td>75.5</td>\n",
       "      <td>74.1</td>\n",
       "      <td>73.7</td>\n",
       "    </tr>\n",
       "    <tr>\n",
       "      <th>4</th>\n",
       "      <td>emp_rate</td>\n",
       "      <td>Aarhus</td>\n",
       "      <td>72.6</td>\n",
       "      <td>69.8</td>\n",
       "      <td>69.0</td>\n",
       "    </tr>\n",
       "  </tbody>\n",
       "</table>\n",
       "</div>"
      ],
      "text/plain": [
       "    variable municipality  value2008  value2009  value2010\n",
       "0   emp_rate     Aabenraa       74.6       71.6       70.9\n",
       "1  part_rate     Aabenraa       76.3       75.2       74.5\n",
       "2   emp_rate      Aalborg       73.2       70.1       69.7\n",
       "3  part_rate      Aalborg       75.5       74.1       73.7\n",
       "4   emp_rate       Aarhus       72.6       69.8       69.0"
      ]
     },
     "execution_count": 20,
     "metadata": {},
     "output_type": "execute_result"
    }
   ],
   "source": [
    "# a. load\n",
    "RAS = pd.read_excel('data/raw/RAS200.xlsx',skiprows=2)\n",
    "print('initial:')\n",
    "display(RAS.head(5).iloc[:,0:7])\n",
    "\n",
    "# b. clean and rename\n",
    "RAS = RAS.drop(columns=[f'Unnamed: {i}' for i in range(3)])\n",
    "\n",
    "RAS = RAS.rename(columns = {'Unnamed: 3':'variable', 'Unnamed: 4':'municipality'})\n",
    "years = [col for col in RAS.columns if col.isnumeric()]\n",
    "RAS = RAS.rename(columns = {str(i): f'value{i}' for i in years})\n",
    "\n",
    "# c. fill missing\n",
    "RAS['variable'] = RAS['variable'].ffill() # forward fill if missing\n",
    "RAS['variable'] = RAS['variable'].str.replace('Employment rate','emp_rate')\n",
    "RAS['variable'] = RAS['variable'].str.replace('Economic activity rate','part_rate')\n",
    "\n",
    "# d. drop rows with missing values - denoted na\n",
    "RAS = RAS.dropna()\n",
    "\n",
    "# e. remove non-municipalities\n",
    "for val in ['Region','Province', 'All Denmark']: \n",
    "    I = RAS.municipality.str.contains(val)\n",
    "    RAS = RAS.drop(RAS[I].index) # .index -> get the indexes of the series\n",
    "    \n",
    "print('cleaned:')\n",
    "RAS = RAS.sort_values(['municipality','variable']).reset_index(drop=True)\n",
    "RAS.iloc[:5,:5]"
   ]
  },
  {
   "cell_type": "markdown",
   "metadata": {},
   "source": [
    "**Convert wide years to long years**:"
   ]
  },
  {
   "cell_type": "code",
   "execution_count": 21,
   "metadata": {},
   "outputs": [
    {
     "data": {
      "text/html": [
       "<div>\n",
       "<style scoped>\n",
       "    .dataframe tbody tr th:only-of-type {\n",
       "        vertical-align: middle;\n",
       "    }\n",
       "\n",
       "    .dataframe tbody tr th {\n",
       "        vertical-align: top;\n",
       "    }\n",
       "\n",
       "    .dataframe thead th {\n",
       "        text-align: right;\n",
       "    }\n",
       "</style>\n",
       "<table border=\"1\" class=\"dataframe\">\n",
       "  <thead>\n",
       "    <tr style=\"text-align: right;\">\n",
       "      <th></th>\n",
       "      <th></th>\n",
       "      <th></th>\n",
       "      <th>value</th>\n",
       "    </tr>\n",
       "    <tr>\n",
       "      <th>municipality</th>\n",
       "      <th>variable</th>\n",
       "      <th>year</th>\n",
       "      <th></th>\n",
       "    </tr>\n",
       "  </thead>\n",
       "  <tbody>\n",
       "    <tr>\n",
       "      <th rowspan=\"5\" valign=\"top\">Aabenraa</th>\n",
       "      <th rowspan=\"5\" valign=\"top\">emp_rate</th>\n",
       "      <th>2008</th>\n",
       "      <td>74.6</td>\n",
       "    </tr>\n",
       "    <tr>\n",
       "      <th>2009</th>\n",
       "      <td>71.6</td>\n",
       "    </tr>\n",
       "    <tr>\n",
       "      <th>2010</th>\n",
       "      <td>70.9</td>\n",
       "    </tr>\n",
       "    <tr>\n",
       "      <th>2011</th>\n",
       "      <td>70.2</td>\n",
       "    </tr>\n",
       "    <tr>\n",
       "      <th>2012</th>\n",
       "      <td>69.5</td>\n",
       "    </tr>\n",
       "  </tbody>\n",
       "</table>\n",
       "</div>"
      ],
      "text/plain": [
       "                            value\n",
       "municipality variable year       \n",
       "Aabenraa     emp_rate 2008   74.6\n",
       "                      2009   71.6\n",
       "                      2010   70.9\n",
       "                      2011   70.2\n",
       "                      2012   69.5"
      ]
     },
     "execution_count": 21,
     "metadata": {},
     "output_type": "execute_result"
    }
   ],
   "source": [
    "RAS = pd.wide_to_long(df=RAS,stubnames='value',i=['municipality','variable'],j='year')\n",
    "RAS.head(5)"
   ]
  },
  {
   "cell_type": "markdown",
   "metadata": {},
   "source": [
    "**Convert long variables (emp_rate and part_rate) to wide variables:**"
   ]
  },
  {
   "cell_type": "code",
   "execution_count": 22,
   "metadata": {},
   "outputs": [
    {
     "data": {
      "text/html": [
       "<div>\n",
       "<style scoped>\n",
       "    .dataframe tbody tr th:only-of-type {\n",
       "        vertical-align: middle;\n",
       "    }\n",
       "\n",
       "    .dataframe tbody tr th {\n",
       "        vertical-align: top;\n",
       "    }\n",
       "\n",
       "    .dataframe thead th {\n",
       "        text-align: right;\n",
       "    }\n",
       "</style>\n",
       "<table border=\"1\" class=\"dataframe\">\n",
       "  <thead>\n",
       "    <tr style=\"text-align: right;\">\n",
       "      <th></th>\n",
       "      <th></th>\n",
       "      <th>emp_rate</th>\n",
       "      <th>part_rate</th>\n",
       "    </tr>\n",
       "    <tr>\n",
       "      <th>municipality</th>\n",
       "      <th>year</th>\n",
       "      <th></th>\n",
       "      <th></th>\n",
       "    </tr>\n",
       "  </thead>\n",
       "  <tbody>\n",
       "    <tr>\n",
       "      <th rowspan=\"5\" valign=\"top\">Aabenraa</th>\n",
       "      <th>2008</th>\n",
       "      <td>74.6</td>\n",
       "      <td>76.3</td>\n",
       "    </tr>\n",
       "    <tr>\n",
       "      <th>2009</th>\n",
       "      <td>71.6</td>\n",
       "      <td>75.2</td>\n",
       "    </tr>\n",
       "    <tr>\n",
       "      <th>2010</th>\n",
       "      <td>70.9</td>\n",
       "      <td>74.5</td>\n",
       "    </tr>\n",
       "    <tr>\n",
       "      <th>2011</th>\n",
       "      <td>70.2</td>\n",
       "      <td>74.0</td>\n",
       "    </tr>\n",
       "    <tr>\n",
       "      <th>2012</th>\n",
       "      <td>69.5</td>\n",
       "      <td>73.7</td>\n",
       "    </tr>\n",
       "  </tbody>\n",
       "</table>\n",
       "</div>"
      ],
      "text/plain": [
       "                   emp_rate  part_rate\n",
       "municipality year                     \n",
       "Aabenraa     2008      74.6       76.3\n",
       "             2009      71.6       75.2\n",
       "             2010      70.9       74.5\n",
       "             2011      70.2       74.0\n",
       "             2012      69.5       73.7"
      ]
     },
     "execution_count": 22,
     "metadata": {},
     "output_type": "execute_result"
    }
   ],
   "source": [
    "RAS = RAS.pivot_table(index=['municipality','year'],columns=['variable'],values='value').rename_axis(None,axis=1)\n",
    "RAS.head(5)"
   ]
  },
  {
   "cell_type": "markdown",
   "metadata": {},
   "source": [
    "Compare employment rate and participation rate:"
   ]
  },
  {
   "cell_type": "code",
   "execution_count": 23,
   "metadata": {},
   "outputs": [
    {
     "data": {
      "image/png": "[encoded data removed]",
      "text/plain": [
       "<Figure size 1200x400 with 3 Axes>"
      ]
     },
     "metadata": {},
     "output_type": "display_data"
    }
   ],
   "source": [
    "fig = plt.figure(figsize=(12,4))\n",
    "\n",
    "municipalities = ['Copenhagen','Roskilde','Lejre']\n",
    "for i,m in enumerate(municipalities):\n",
    "\n",
    "    ax = fig.add_subplot(1,3,i+1)\n",
    "\n",
    "    y = RAS.xs(m,level='municipality')\n",
    "    ax.plot(y.index,y.emp_rate,ls='-',marker='o',label='employment rate')\n",
    "    ax.plot(y.index,y.part_rate,ls='-',marker='o',label='participation rate')\n",
    "\n",
    "    ax.set_title(m)\n",
    "    ax.set_ylabel('percent');\n",
    "    ax.set_ylim([60,90])\n",
    "    ax.set_xlabel('year')\n",
    "    ax.set_xticks(y.index[::2])\n",
    "    ax.set_xticklabels(y.index[::2],rotation=270)\n",
    "    if i == 0:\n",
    "        ax.legend(frameon=True,fontsize=12);\n",
    "\n",
    "fig.tight_layout()"
   ]
  },
  {
   "cell_type": "markdown",
   "metadata": {},
   "source": [
    "## 3. <a id='toc3_'></a>[Income in Danish municipalities](#toc0_)"
   ]
  },
  {
   "cell_type": "markdown",
   "metadata": {},
   "source": [
    "We now read in the avg. disposable income in each municipality. "
   ]
  },
  {
   "cell_type": "code",
   "execution_count": 24,
   "metadata": {},
   "outputs": [
    {
     "name": "stdout",
     "output_type": "stream",
     "text": [
      "initial:\n"
     ]
    },
    {
     "data": {
      "text/html": [
       "<div>\n",
       "<style scoped>\n",
       "    .dataframe tbody tr th:only-of-type {\n",
       "        vertical-align: middle;\n",
       "    }\n",
       "\n",
       "    .dataframe tbody tr th {\n",
       "        vertical-align: top;\n",
       "    }\n",
       "\n",
       "    .dataframe thead th {\n",
       "        text-align: right;\n",
       "    }\n",
       "</style>\n",
       "<table border=\"1\" class=\"dataframe\">\n",
       "  <thead>\n",
       "    <tr style=\"text-align: right;\">\n",
       "      <th></th>\n",
       "      <th>Unnamed: 0</th>\n",
       "      <th>Unnamed: 1</th>\n",
       "      <th>Unnamed: 2</th>\n",
       "      <th>Unnamed: 3</th>\n",
       "      <th>1987</th>\n",
       "      <th>1988</th>\n",
       "      <th>1989</th>\n",
       "    </tr>\n",
       "  </thead>\n",
       "  <tbody>\n",
       "    <tr>\n",
       "      <th>0</th>\n",
       "      <td>1 Disposable income (2+30-31-32-35)</td>\n",
       "      <td>Men and women, total</td>\n",
       "      <td>Average income for all people (DKK)</td>\n",
       "      <td>All Denmark</td>\n",
       "      <td>78135.0</td>\n",
       "      <td>82304.0</td>\n",
       "      <td>87011.0</td>\n",
       "    </tr>\n",
       "    <tr>\n",
       "      <th>1</th>\n",
       "      <td>NaN</td>\n",
       "      <td>NaN</td>\n",
       "      <td>NaN</td>\n",
       "      <td>Province Byen København</td>\n",
       "      <td>78012.0</td>\n",
       "      <td>82061.0</td>\n",
       "      <td>85804.0</td>\n",
       "    </tr>\n",
       "    <tr>\n",
       "      <th>2</th>\n",
       "      <td>NaN</td>\n",
       "      <td>NaN</td>\n",
       "      <td>NaN</td>\n",
       "      <td>Copenhagen</td>\n",
       "      <td>75356.0</td>\n",
       "      <td>79444.0</td>\n",
       "      <td>82895.0</td>\n",
       "    </tr>\n",
       "    <tr>\n",
       "      <th>3</th>\n",
       "      <td>NaN</td>\n",
       "      <td>NaN</td>\n",
       "      <td>NaN</td>\n",
       "      <td>Frederiksberg</td>\n",
       "      <td>85428.0</td>\n",
       "      <td>89924.0</td>\n",
       "      <td>94626.0</td>\n",
       "    </tr>\n",
       "    <tr>\n",
       "      <th>4</th>\n",
       "      <td>NaN</td>\n",
       "      <td>NaN</td>\n",
       "      <td>NaN</td>\n",
       "      <td>Dragør</td>\n",
       "      <td>97966.0</td>\n",
       "      <td>99867.0</td>\n",
       "      <td>106167.0</td>\n",
       "    </tr>\n",
       "  </tbody>\n",
       "</table>\n",
       "</div>"
      ],
      "text/plain": [
       "                            Unnamed: 0            Unnamed: 1  \\\n",
       "0  1 Disposable income (2+30-31-32-35)  Men and women, total   \n",
       "1                                  NaN                   NaN   \n",
       "2                                  NaN                   NaN   \n",
       "3                                  NaN                   NaN   \n",
       "4                                  NaN                   NaN   \n",
       "\n",
       "                            Unnamed: 2               Unnamed: 3     1987  \\\n",
       "0  Average income for all people (DKK)              All Denmark  78135.0   \n",
       "1                                  NaN  Province Byen København  78012.0   \n",
       "2                                  NaN               Copenhagen  75356.0   \n",
       "3                                  NaN            Frederiksberg  85428.0   \n",
       "4                                  NaN                   Dragør  97966.0   \n",
       "\n",
       "      1988      1989  \n",
       "0  82304.0   87011.0  \n",
       "1  82061.0   85804.0  \n",
       "2  79444.0   82895.0  \n",
       "3  89924.0   94626.0  \n",
       "4  99867.0  106167.0  "
      ]
     },
     "metadata": {},
     "output_type": "display_data"
    },
    {
     "name": "stdout",
     "output_type": "stream",
     "text": [
      "cleaned:\n"
     ]
    },
    {
     "data": {
      "text/html": [
       "<div>\n",
       "<style scoped>\n",
       "    .dataframe tbody tr th:only-of-type {\n",
       "        vertical-align: middle;\n",
       "    }\n",
       "\n",
       "    .dataframe tbody tr th {\n",
       "        vertical-align: top;\n",
       "    }\n",
       "\n",
       "    .dataframe thead th {\n",
       "        text-align: right;\n",
       "    }\n",
       "</style>\n",
       "<table border=\"1\" class=\"dataframe\">\n",
       "  <thead>\n",
       "    <tr style=\"text-align: right;\">\n",
       "      <th></th>\n",
       "      <th>municipality</th>\n",
       "      <th>inc1987</th>\n",
       "      <th>inc1988</th>\n",
       "      <th>inc1989</th>\n",
       "      <th>inc1990</th>\n",
       "    </tr>\n",
       "  </thead>\n",
       "  <tbody>\n",
       "    <tr>\n",
       "      <th>0</th>\n",
       "      <td>Aabenraa</td>\n",
       "      <td>74649.0</td>\n",
       "      <td>78878.0</td>\n",
       "      <td>83883.0</td>\n",
       "      <td>87067.0</td>\n",
       "    </tr>\n",
       "    <tr>\n",
       "      <th>1</th>\n",
       "      <td>Aalborg</td>\n",
       "      <td>74460.0</td>\n",
       "      <td>78797.0</td>\n",
       "      <td>83675.0</td>\n",
       "      <td>86775.0</td>\n",
       "    </tr>\n",
       "    <tr>\n",
       "      <th>2</th>\n",
       "      <td>Aarhus</td>\n",
       "      <td>77357.0</td>\n",
       "      <td>81682.0</td>\n",
       "      <td>86397.0</td>\n",
       "      <td>89149.0</td>\n",
       "    </tr>\n",
       "    <tr>\n",
       "      <th>3</th>\n",
       "      <td>Albertslund</td>\n",
       "      <td>83540.0</td>\n",
       "      <td>87075.0</td>\n",
       "      <td>90616.0</td>\n",
       "      <td>93620.0</td>\n",
       "    </tr>\n",
       "    <tr>\n",
       "      <th>4</th>\n",
       "      <td>Allerød</td>\n",
       "      <td>95806.0</td>\n",
       "      <td>100136.0</td>\n",
       "      <td>105181.0</td>\n",
       "      <td>110893.0</td>\n",
       "    </tr>\n",
       "  </tbody>\n",
       "</table>\n",
       "</div>"
      ],
      "text/plain": [
       "  municipality  inc1987   inc1988   inc1989   inc1990\n",
       "0     Aabenraa  74649.0   78878.0   83883.0   87067.0\n",
       "1      Aalborg  74460.0   78797.0   83675.0   86775.0\n",
       "2       Aarhus  77357.0   81682.0   86397.0   89149.0\n",
       "3  Albertslund  83540.0   87075.0   90616.0   93620.0\n",
       "4      Allerød  95806.0  100136.0  105181.0  110893.0"
      ]
     },
     "execution_count": 24,
     "metadata": {},
     "output_type": "execute_result"
    }
   ],
   "source": [
    "# a. load\n",
    "INDKP = pd.read_excel('data/raw/INDKP101.xlsx',skiprows=2)\n",
    "print('initial:')\n",
    "display(INDKP.head(5).iloc[:,0:7])\n",
    "\n",
    "# b. clean and rename\n",
    "INDKP = INDKP.drop(columns = [f'Unnamed: {i}' for i in range(3)])\n",
    "\n",
    "INDKP = INDKP.rename(columns = {'Unnamed: 3':'municipality'})\n",
    "years = [col for col in INDKP.columns if col.isnumeric()]\n",
    "INDKP = INDKP.rename(columns = {str(i): f'inc{i}' for i in years})\n",
    "\n",
    "# d. drop rows with missing values - denoted na\n",
    "INDKP = INDKP.dropna()\n",
    "\n",
    "# e. remove non-municipalities\n",
    "for val in ['Region','Province','All Denmark']: \n",
    "    I = INDKP.municipality.str.contains(val)\n",
    "    INDKP = INDKP.drop(INDKP[I].index) # .index -> get the indexes of the series\n",
    "    \n",
    "print('cleaned:')\n",
    "INDKP = INDKP.sort_values('municipality').reset_index(drop=True)\n",
    "INDKP.iloc[:5,:5]"
   ]
  },
  {
   "cell_type": "markdown",
   "metadata": {},
   "source": [
    "**Convert wide to long**:"
   ]
  },
  {
   "cell_type": "code",
   "execution_count": 25,
   "metadata": {},
   "outputs": [
    {
     "data": {
      "text/html": [
       "<div>\n",
       "<style scoped>\n",
       "    .dataframe tbody tr th:only-of-type {\n",
       "        vertical-align: middle;\n",
       "    }\n",
       "\n",
       "    .dataframe tbody tr th {\n",
       "        vertical-align: top;\n",
       "    }\n",
       "\n",
       "    .dataframe thead th {\n",
       "        text-align: right;\n",
       "    }\n",
       "</style>\n",
       "<table border=\"1\" class=\"dataframe\">\n",
       "  <thead>\n",
       "    <tr style=\"text-align: right;\">\n",
       "      <th></th>\n",
       "      <th></th>\n",
       "      <th>inc</th>\n",
       "    </tr>\n",
       "    <tr>\n",
       "      <th>municipality</th>\n",
       "      <th>year</th>\n",
       "      <th></th>\n",
       "    </tr>\n",
       "  </thead>\n",
       "  <tbody>\n",
       "    <tr>\n",
       "      <th>Aabenraa</th>\n",
       "      <th>1987</th>\n",
       "      <td>74649.0</td>\n",
       "    </tr>\n",
       "    <tr>\n",
       "      <th>Aalborg</th>\n",
       "      <th>1987</th>\n",
       "      <td>74460.0</td>\n",
       "    </tr>\n",
       "    <tr>\n",
       "      <th>Aarhus</th>\n",
       "      <th>1987</th>\n",
       "      <td>77357.0</td>\n",
       "    </tr>\n",
       "    <tr>\n",
       "      <th>Albertslund</th>\n",
       "      <th>1987</th>\n",
       "      <td>83540.0</td>\n",
       "    </tr>\n",
       "    <tr>\n",
       "      <th>Allerød</th>\n",
       "      <th>1987</th>\n",
       "      <td>95806.0</td>\n",
       "    </tr>\n",
       "  </tbody>\n",
       "</table>\n",
       "</div>"
      ],
      "text/plain": [
       "                       inc\n",
       "municipality year         \n",
       "Aabenraa     1987  74649.0\n",
       "Aalborg      1987  74460.0\n",
       "Aarhus       1987  77357.0\n",
       "Albertslund  1987  83540.0\n",
       "Allerød      1987  95806.0"
      ]
     },
     "execution_count": 25,
     "metadata": {},
     "output_type": "execute_result"
    }
   ],
   "source": [
    "INDKP = pd.wide_to_long(df=INDKP,stubnames='inc',i='municipality',j='year')\n",
    "INDKP.head(5)"
   ]
  },
  {
   "cell_type": "markdown",
   "metadata": {},
   "source": [
    "## 4. <a id='toc4_'></a>[Area in Danish municipalities](#toc0_)"
   ]
  },
  {
   "cell_type": "markdown",
   "metadata": {},
   "source": [
    "We now read in the area of each municipality in square kilometers. "
   ]
  },
  {
   "cell_type": "code",
   "execution_count": 26,
   "metadata": {},
   "outputs": [
    {
     "name": "stdout",
     "output_type": "stream",
     "text": [
      "initial:\n"
     ]
    },
    {
     "data": {
      "text/html": [
       "<div>\n",
       "<style scoped>\n",
       "    .dataframe tbody tr th:only-of-type {\n",
       "        vertical-align: middle;\n",
       "    }\n",
       "\n",
       "    .dataframe tbody tr th {\n",
       "        vertical-align: top;\n",
       "    }\n",
       "\n",
       "    .dataframe thead th {\n",
       "        text-align: right;\n",
       "    }\n",
       "</style>\n",
       "<table border=\"1\" class=\"dataframe\">\n",
       "  <thead>\n",
       "    <tr style=\"text-align: right;\">\n",
       "      <th></th>\n",
       "      <th>Unnamed: 0</th>\n",
       "      <th>2008</th>\n",
       "    </tr>\n",
       "  </thead>\n",
       "  <tbody>\n",
       "    <tr>\n",
       "      <th>0</th>\n",
       "      <td>All Denmark</td>\n",
       "      <td>43098.31</td>\n",
       "    </tr>\n",
       "    <tr>\n",
       "      <th>1</th>\n",
       "      <td>Region Hovedstaden</td>\n",
       "      <td>2561.27</td>\n",
       "    </tr>\n",
       "    <tr>\n",
       "      <th>2</th>\n",
       "      <td>Copenhagen</td>\n",
       "      <td>88.25</td>\n",
       "    </tr>\n",
       "    <tr>\n",
       "      <th>3</th>\n",
       "      <td>Frederiksberg</td>\n",
       "      <td>8.77</td>\n",
       "    </tr>\n",
       "    <tr>\n",
       "      <th>4</th>\n",
       "      <td>Dragør</td>\n",
       "      <td>18.14</td>\n",
       "    </tr>\n",
       "  </tbody>\n",
       "</table>\n",
       "</div>"
      ],
      "text/plain": [
       "           Unnamed: 0      2008\n",
       "0         All Denmark  43098.31\n",
       "1  Region Hovedstaden   2561.27\n",
       "2          Copenhagen     88.25\n",
       "3       Frederiksberg      8.77\n",
       "4              Dragør     18.14"
      ]
     },
     "metadata": {},
     "output_type": "display_data"
    },
    {
     "name": "stdout",
     "output_type": "stream",
     "text": [
      "cleaned:\n"
     ]
    },
    {
     "data": {
      "text/html": [
       "<div>\n",
       "<style scoped>\n",
       "    .dataframe tbody tr th:only-of-type {\n",
       "        vertical-align: middle;\n",
       "    }\n",
       "\n",
       "    .dataframe tbody tr th {\n",
       "        vertical-align: top;\n",
       "    }\n",
       "\n",
       "    .dataframe thead th {\n",
       "        text-align: right;\n",
       "    }\n",
       "</style>\n",
       "<table border=\"1\" class=\"dataframe\">\n",
       "  <thead>\n",
       "    <tr style=\"text-align: right;\">\n",
       "      <th></th>\n",
       "      <th>municipality</th>\n",
       "      <th>area_2008</th>\n",
       "    </tr>\n",
       "  </thead>\n",
       "  <tbody>\n",
       "    <tr>\n",
       "      <th>0</th>\n",
       "      <td>Aabenraa</td>\n",
       "      <td>941.55</td>\n",
       "    </tr>\n",
       "    <tr>\n",
       "      <th>1</th>\n",
       "      <td>Aalborg</td>\n",
       "      <td>1143.99</td>\n",
       "    </tr>\n",
       "    <tr>\n",
       "      <th>2</th>\n",
       "      <td>Aarhus</td>\n",
       "      <td>468.87</td>\n",
       "    </tr>\n",
       "    <tr>\n",
       "      <th>3</th>\n",
       "      <td>Albertslund</td>\n",
       "      <td>23.04</td>\n",
       "    </tr>\n",
       "    <tr>\n",
       "      <th>4</th>\n",
       "      <td>Allerød</td>\n",
       "      <td>67.44</td>\n",
       "    </tr>\n",
       "  </tbody>\n",
       "</table>\n",
       "</div>"
      ],
      "text/plain": [
       "  municipality  area_2008\n",
       "0     Aabenraa     941.55\n",
       "1      Aalborg    1143.99\n",
       "2       Aarhus     468.87\n",
       "3  Albertslund      23.04\n",
       "4      Allerød      67.44"
      ]
     },
     "execution_count": 26,
     "metadata": {},
     "output_type": "execute_result"
    }
   ],
   "source": [
    "# a. load\n",
    "ARE = pd.read_excel('data/raw/ARE207.xlsx',skiprows=2)\n",
    "print('initial:')\n",
    "display(ARE.head(5).iloc[:,0:7])\n",
    "\n",
    "# b. clean and rename\n",
    "ARE = ARE.rename(columns = {'Unnamed: 0':'municipality','2008': 'area_2008'})\n",
    "\n",
    "# c. drop rows with missing values - denoted na\n",
    "ARE = ARE.dropna()\n",
    "\n",
    "# d. remove non-municipalities\n",
    "for val in ['Region','Province','All Denmark']: \n",
    "    I = ARE.municipality.str.contains(val)\n",
    "    ARE = ARE.drop(ARE[I].index) # .index -> get the indexes of the series\n",
    "    \n",
    "print('cleaned:')\n",
    "ARE = ARE.sort_values('municipality').reset_index(drop=True)\n",
    "ARE.iloc[:5,:5]"
   ]
  },
  {
   "cell_type": "markdown",
   "metadata": {},
   "source": [
    "## 5. <a id='toc5_'></a>[Writing data](#toc0_)"
   ]
  },
  {
   "cell_type": "markdown",
   "metadata": {},
   "source": [
    "As with reading in data, we have the corresponding functions for **writing data**:\n",
    "\n",
    "* CSV: `pd.to_csv()`\n",
    "* SAS: `pd.to_sas()`\n",
    "* Excel: `pd.to_excel()`\n",
    "* Stata: `pd.to_stata()`\n",
    "* Parquet: `pd.to_parquet()`"
   ]
  },
  {
   "cell_type": "markdown",
   "metadata": {},
   "source": [
    "Let's **save our dataset to CSV form**."
   ]
  },
  {
   "cell_type": "code",
   "execution_count": 27,
   "metadata": {},
   "outputs": [],
   "source": [
    "RAS.to_csv('data/RAS200.csv',index=True) # index is municipality and year\n",
    "INDKP.to_csv('data/INDKP101.csv',index=True) # index is municipality and year\n",
    "ARE.to_csv('data/ARE207.csv',index=False) # index do not have meaning here"
   ]
  },
  {
   "cell_type": "markdown",
   "metadata": {},
   "source": [
    "**Note:** We are saving on a path relative to the current working directory"
   ]
  },
  {
   "cell_type": "code",
   "execution_count": 28,
   "metadata": {},
   "outputs": [
    {
     "name": "stdout",
     "output_type": "stream",
     "text": [
      "c:\\Users\\gmf123\\Dropbox\\Repositories\\course\\ProgEcon-lectures\\05_06_DescriptivEconomics\n"
     ]
    }
   ],
   "source": [
    "print(os.getcwd())"
   ]
  },
  {
   "cell_type": "code",
   "execution_count": 29,
   "metadata": {},
   "outputs": [
    {
     "name": "stdout",
     "output_type": "stream",
     "text": [
      "c:\\Users\\gmf123\\Dropbox\\Repositories\\course\\ProgEcon-lectures\\05_06_DescriptivEconomics\\data\n"
     ]
    }
   ],
   "source": [
    "print(os.path.abspath('data/'))"
   ]
  },
  {
   "cell_type": "markdown",
   "metadata": {},
   "source": [
    "You can also access the directory above as"
   ]
  },
  {
   "cell_type": "code",
   "execution_count": 30,
   "metadata": {},
   "outputs": [
    {
     "name": "stdout",
     "output_type": "stream",
     "text": [
      "c:\\Users\\gmf123\\Dropbox\\Repositories\\course\\ProgEcon-lectures\n"
     ]
    }
   ],
   "source": [
    "print(os.path.abspath('../'))"
   ]
  },
  {
   "cell_type": "markdown",
   "metadata": {},
   "source": [
    "## 6. <a id='toc6_'></a>[Summary](#toc0_)"
   ]
  },
  {
   "cell_type": "markdown",
   "metadata": {},
   "source": [
    "The main takeways are:\n",
    "\n",
    "- Loading data `pd.read_*` and saving data `pd.to_*`\n",
    "- Clean data (`.rename`, `.drop`, `.dropna` etc.) \n",
    "- Structure data (`.wide_to_long`, `.pivot_table`, `.melt`)\n",
    "- Multiindex in pandel data (`.xs`)\n",
    "- Analyzing and plotting data"
   ]
  },
  {
   "cell_type": "markdown",
   "metadata": {},
   "source": [
    "Any questions on getting and analyzing data from files?\n",
    "\n",
    "**Socrative room:** PROGECON"
   ]
  },
  {
   "cell_type": "markdown",
   "metadata": {},
   "source": [
    "## 7. <a id='toc7_'></a>[More on `pivot_table`](#toc0_)"
   ]
  },
  {
   "cell_type": "markdown",
   "metadata": {},
   "source": [
    "We can change rows to columns and vice-versa."
   ]
  },
  {
   "cell_type": "markdown",
   "metadata": {},
   "source": [
    "### 7.1. <a id='toc7_1_'></a>[Example 1: Starting from a fully long dataset](#toc0_)"
   ]
  },
  {
   "cell_type": "code",
   "execution_count": 31,
   "metadata": {},
   "outputs": [
    {
     "data": {
      "text/html": [
       "<div>\n",
       "<style scoped>\n",
       "    .dataframe tbody tr th:only-of-type {\n",
       "        vertical-align: middle;\n",
       "    }\n",
       "\n",
       "    .dataframe tbody tr th {\n",
       "        vertical-align: top;\n",
       "    }\n",
       "\n",
       "    .dataframe thead th {\n",
       "        text-align: right;\n",
       "    }\n",
       "</style>\n",
       "<table border=\"1\" class=\"dataframe\">\n",
       "  <thead>\n",
       "    <tr style=\"text-align: right;\">\n",
       "      <th></th>\n",
       "      <th>id</th>\n",
       "      <th>year</th>\n",
       "      <th>metric</th>\n",
       "      <th>value</th>\n",
       "    </tr>\n",
       "  </thead>\n",
       "  <tbody>\n",
       "    <tr>\n",
       "      <th>0</th>\n",
       "      <td>1</td>\n",
       "      <td>2023</td>\n",
       "      <td>sales</td>\n",
       "      <td>10</td>\n",
       "    </tr>\n",
       "    <tr>\n",
       "      <th>1</th>\n",
       "      <td>1</td>\n",
       "      <td>2023</td>\n",
       "      <td>cost</td>\n",
       "      <td>6</td>\n",
       "    </tr>\n",
       "    <tr>\n",
       "      <th>2</th>\n",
       "      <td>1</td>\n",
       "      <td>2024</td>\n",
       "      <td>sales</td>\n",
       "      <td>12</td>\n",
       "    </tr>\n",
       "    <tr>\n",
       "      <th>3</th>\n",
       "      <td>2</td>\n",
       "      <td>2023</td>\n",
       "      <td>sales</td>\n",
       "      <td>7</td>\n",
       "    </tr>\n",
       "    <tr>\n",
       "      <th>4</th>\n",
       "      <td>2</td>\n",
       "      <td>2023</td>\n",
       "      <td>cost</td>\n",
       "      <td>5</td>\n",
       "    </tr>\n",
       "    <tr>\n",
       "      <th>5</th>\n",
       "      <td>2</td>\n",
       "      <td>2024</td>\n",
       "      <td>sales</td>\n",
       "      <td>9</td>\n",
       "    </tr>\n",
       "  </tbody>\n",
       "</table>\n",
       "</div>"
      ],
      "text/plain": [
       "   id  year metric  value\n",
       "0   1  2023  sales     10\n",
       "1   1  2023   cost      6\n",
       "2   1  2024  sales     12\n",
       "3   2  2023  sales      7\n",
       "4   2  2023   cost      5\n",
       "5   2  2024  sales      9"
      ]
     },
     "execution_count": 31,
     "metadata": {},
     "output_type": "execute_result"
    }
   ],
   "source": [
    "df_long = pd.DataFrame({\n",
    "    'id':    [1,1,1,2,2,2],\n",
    "    'year':  [2023,2023,2024, 2023,2023,2024],\n",
    "    'metric':['sales','cost','sales', 'sales','cost','sales'],\n",
    "    'value': [10,6,12, 7,5,9]\n",
    "})\n",
    "df_long"
   ]
  },
  {
   "cell_type": "code",
   "execution_count": 32,
   "metadata": {},
   "outputs": [
    {
     "data": {
      "text/html": [
       "<div>\n",
       "<style scoped>\n",
       "    .dataframe tbody tr th:only-of-type {\n",
       "        vertical-align: middle;\n",
       "    }\n",
       "\n",
       "    .dataframe tbody tr th {\n",
       "        vertical-align: top;\n",
       "    }\n",
       "\n",
       "    .dataframe thead th {\n",
       "        text-align: right;\n",
       "    }\n",
       "</style>\n",
       "<table border=\"1\" class=\"dataframe\">\n",
       "  <thead>\n",
       "    <tr style=\"text-align: right;\">\n",
       "      <th></th>\n",
       "      <th></th>\n",
       "      <th>cost</th>\n",
       "      <th>sales</th>\n",
       "    </tr>\n",
       "    <tr>\n",
       "      <th>id</th>\n",
       "      <th>year</th>\n",
       "      <th></th>\n",
       "      <th></th>\n",
       "    </tr>\n",
       "  </thead>\n",
       "  <tbody>\n",
       "    <tr>\n",
       "      <th rowspan=\"2\" valign=\"top\">1</th>\n",
       "      <th>2023</th>\n",
       "      <td>6.0</td>\n",
       "      <td>10.0</td>\n",
       "    </tr>\n",
       "    <tr>\n",
       "      <th>2024</th>\n",
       "      <td>NaN</td>\n",
       "      <td>12.0</td>\n",
       "    </tr>\n",
       "    <tr>\n",
       "      <th rowspan=\"2\" valign=\"top\">2</th>\n",
       "      <th>2023</th>\n",
       "      <td>5.0</td>\n",
       "      <td>7.0</td>\n",
       "    </tr>\n",
       "    <tr>\n",
       "      <th>2024</th>\n",
       "      <td>NaN</td>\n",
       "      <td>9.0</td>\n",
       "    </tr>\n",
       "  </tbody>\n",
       "</table>\n",
       "</div>"
      ],
      "text/plain": [
       "         cost  sales\n",
       "id year             \n",
       "1  2023   6.0   10.0\n",
       "   2024   NaN   12.0\n",
       "2  2023   5.0    7.0\n",
       "   2024   NaN    9.0"
      ]
     },
     "execution_count": 32,
     "metadata": {},
     "output_type": "execute_result"
    }
   ],
   "source": [
    "df_long.pivot_table(index=['id','year'],columns='metric',values='value').rename_axis(None,axis=1)"
   ]
  },
  {
   "cell_type": "markdown",
   "metadata": {},
   "source": [
    "### 7.2. <a id='toc7_2_'></a>[Example 2: Starting from a long dataset with wide years](#toc0_)"
   ]
  },
  {
   "cell_type": "code",
   "execution_count": 33,
   "metadata": {},
   "outputs": [
    {
     "data": {
      "text/html": [
       "<div>\n",
       "<style scoped>\n",
       "    .dataframe tbody tr th:only-of-type {\n",
       "        vertical-align: middle;\n",
       "    }\n",
       "\n",
       "    .dataframe tbody tr th {\n",
       "        vertical-align: top;\n",
       "    }\n",
       "\n",
       "    .dataframe thead th {\n",
       "        text-align: right;\n",
       "    }\n",
       "</style>\n",
       "<table border=\"1\" class=\"dataframe\">\n",
       "  <thead>\n",
       "    <tr style=\"text-align: right;\">\n",
       "      <th></th>\n",
       "      <th>id</th>\n",
       "      <th>metric</th>\n",
       "      <th>value2023</th>\n",
       "      <th>value2024</th>\n",
       "    </tr>\n",
       "  </thead>\n",
       "  <tbody>\n",
       "    <tr>\n",
       "      <th>0</th>\n",
       "      <td>1</td>\n",
       "      <td>sales</td>\n",
       "      <td>10</td>\n",
       "      <td>12.0</td>\n",
       "    </tr>\n",
       "    <tr>\n",
       "      <th>1</th>\n",
       "      <td>1</td>\n",
       "      <td>cost</td>\n",
       "      <td>6</td>\n",
       "      <td>NaN</td>\n",
       "    </tr>\n",
       "    <tr>\n",
       "      <th>2</th>\n",
       "      <td>2</td>\n",
       "      <td>sales</td>\n",
       "      <td>7</td>\n",
       "      <td>9.0</td>\n",
       "    </tr>\n",
       "    <tr>\n",
       "      <th>3</th>\n",
       "      <td>2</td>\n",
       "      <td>cost</td>\n",
       "      <td>5</td>\n",
       "      <td>NaN</td>\n",
       "    </tr>\n",
       "  </tbody>\n",
       "</table>\n",
       "</div>"
      ],
      "text/plain": [
       "   id metric  value2023  value2024\n",
       "0   1  sales         10       12.0\n",
       "1   1   cost          6        NaN\n",
       "2   2  sales          7        9.0\n",
       "3   2   cost          5        NaN"
      ]
     },
     "execution_count": 33,
     "metadata": {},
     "output_type": "execute_result"
    }
   ],
   "source": [
    "df_wide = pd.DataFrame({\n",
    "    'id':    [1,1,2,2],\n",
    "    'metric':['sales','cost','sales','cost'],\n",
    "    'value2023':  [10,6, 7,5],\n",
    "    'value2024':  [12,None, 9,None]\n",
    "})\n",
    "df_wide"
   ]
  },
  {
   "cell_type": "markdown",
   "metadata": {},
   "source": [
    "First make it fully long:"
   ]
  },
  {
   "cell_type": "code",
   "execution_count": 34,
   "metadata": {},
   "outputs": [
    {
     "data": {
      "text/html": [
       "<div>\n",
       "<style scoped>\n",
       "    .dataframe tbody tr th:only-of-type {\n",
       "        vertical-align: middle;\n",
       "    }\n",
       "\n",
       "    .dataframe tbody tr th {\n",
       "        vertical-align: top;\n",
       "    }\n",
       "\n",
       "    .dataframe thead th {\n",
       "        text-align: right;\n",
       "    }\n",
       "</style>\n",
       "<table border=\"1\" class=\"dataframe\">\n",
       "  <thead>\n",
       "    <tr style=\"text-align: right;\">\n",
       "      <th></th>\n",
       "      <th></th>\n",
       "      <th></th>\n",
       "      <th>value</th>\n",
       "    </tr>\n",
       "    <tr>\n",
       "      <th>id</th>\n",
       "      <th>metric</th>\n",
       "      <th>year</th>\n",
       "      <th></th>\n",
       "    </tr>\n",
       "  </thead>\n",
       "  <tbody>\n",
       "    <tr>\n",
       "      <th rowspan=\"4\" valign=\"top\">1</th>\n",
       "      <th rowspan=\"2\" valign=\"top\">sales</th>\n",
       "      <th>2023</th>\n",
       "      <td>10.0</td>\n",
       "    </tr>\n",
       "    <tr>\n",
       "      <th>2024</th>\n",
       "      <td>12.0</td>\n",
       "    </tr>\n",
       "    <tr>\n",
       "      <th rowspan=\"2\" valign=\"top\">cost</th>\n",
       "      <th>2023</th>\n",
       "      <td>6.0</td>\n",
       "    </tr>\n",
       "    <tr>\n",
       "      <th>2024</th>\n",
       "      <td>NaN</td>\n",
       "    </tr>\n",
       "    <tr>\n",
       "      <th rowspan=\"4\" valign=\"top\">2</th>\n",
       "      <th rowspan=\"2\" valign=\"top\">sales</th>\n",
       "      <th>2023</th>\n",
       "      <td>7.0</td>\n",
       "    </tr>\n",
       "    <tr>\n",
       "      <th>2024</th>\n",
       "      <td>9.0</td>\n",
       "    </tr>\n",
       "    <tr>\n",
       "      <th rowspan=\"2\" valign=\"top\">cost</th>\n",
       "      <th>2023</th>\n",
       "      <td>5.0</td>\n",
       "    </tr>\n",
       "    <tr>\n",
       "      <th>2024</th>\n",
       "      <td>NaN</td>\n",
       "    </tr>\n",
       "  </tbody>\n",
       "</table>\n",
       "</div>"
      ],
      "text/plain": [
       "                value\n",
       "id metric year       \n",
       "1  sales  2023   10.0\n",
       "          2024   12.0\n",
       "   cost   2023    6.0\n",
       "          2024    NaN\n",
       "2  sales  2023    7.0\n",
       "          2024    9.0\n",
       "   cost   2023    5.0\n",
       "          2024    NaN"
      ]
     },
     "execution_count": 34,
     "metadata": {},
     "output_type": "execute_result"
    }
   ],
   "source": [
    "df_long = pd.wide_to_long(df=df_wide,stubnames=['value'],i=['id','metric'],j='year')\n",
    "df_long"
   ]
  },
  {
   "cell_type": "markdown",
   "metadata": {},
   "source": [
    "Then make it wide in variables:"
   ]
  },
  {
   "cell_type": "code",
   "execution_count": 35,
   "metadata": {},
   "outputs": [
    {
     "data": {
      "text/html": [
       "<div>\n",
       "<style scoped>\n",
       "    .dataframe tbody tr th:only-of-type {\n",
       "        vertical-align: middle;\n",
       "    }\n",
       "\n",
       "    .dataframe tbody tr th {\n",
       "        vertical-align: top;\n",
       "    }\n",
       "\n",
       "    .dataframe thead th {\n",
       "        text-align: right;\n",
       "    }\n",
       "</style>\n",
       "<table border=\"1\" class=\"dataframe\">\n",
       "  <thead>\n",
       "    <tr style=\"text-align: right;\">\n",
       "      <th></th>\n",
       "      <th></th>\n",
       "      <th>cost</th>\n",
       "      <th>sales</th>\n",
       "    </tr>\n",
       "    <tr>\n",
       "      <th>id</th>\n",
       "      <th>year</th>\n",
       "      <th></th>\n",
       "      <th></th>\n",
       "    </tr>\n",
       "  </thead>\n",
       "  <tbody>\n",
       "    <tr>\n",
       "      <th rowspan=\"2\" valign=\"top\">1</th>\n",
       "      <th>2023</th>\n",
       "      <td>6.0</td>\n",
       "      <td>10.0</td>\n",
       "    </tr>\n",
       "    <tr>\n",
       "      <th>2024</th>\n",
       "      <td>NaN</td>\n",
       "      <td>12.0</td>\n",
       "    </tr>\n",
       "    <tr>\n",
       "      <th rowspan=\"2\" valign=\"top\">2</th>\n",
       "      <th>2023</th>\n",
       "      <td>5.0</td>\n",
       "      <td>7.0</td>\n",
       "    </tr>\n",
       "    <tr>\n",
       "      <th>2024</th>\n",
       "      <td>NaN</td>\n",
       "      <td>9.0</td>\n",
       "    </tr>\n",
       "  </tbody>\n",
       "</table>\n",
       "</div>"
      ],
      "text/plain": [
       "         cost  sales\n",
       "id year             \n",
       "1  2023   6.0   10.0\n",
       "   2024   NaN   12.0\n",
       "2  2023   5.0    7.0\n",
       "   2024   NaN    9.0"
      ]
     },
     "execution_count": 35,
     "metadata": {},
     "output_type": "execute_result"
    }
   ],
   "source": [
    "df_long.pivot_table(index=['id','year'],columns='metric',values='value').rename_axis(None,axis=1)"
   ]
  }
 ],
 "metadata": {
  "kernelspec": {
   "display_name": "base",
   "language": "python",
   "name": "python3"
  },
  "language_info": {
   "codemirror_mode": {
    "name": "ipython",
    "version": 3
   },
   "file_extension": ".py",
   "mimetype": "text/x-python",
   "name": "python",
   "nbconvert_exporter": "python",
   "pygments_lexer": "ipython3",
   "version": "3.13.5"
  },
  "orig_nbformat": 4,
  "vscode": {
   "interpreter": {
    "hash": "2164e4eaf16dd6cd705646718fcef4f5f263bad5b7d103e76e9308c0132ca24b"
   }
  }
 },
 "nbformat": 4,
 "nbformat_minor": 2
}
