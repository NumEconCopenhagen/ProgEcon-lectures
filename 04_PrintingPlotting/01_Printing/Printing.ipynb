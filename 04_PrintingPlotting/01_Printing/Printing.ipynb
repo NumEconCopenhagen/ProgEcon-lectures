{
 "cells": [
  {
   "cell_type": "markdown",
   "metadata": {},
   "source": [
    "# Printing"
   ]
  },
  {
   "cell_type": "markdown",
   "metadata": {},
   "source": [
    "The simplest form of presenting *intermediary* and *final* **results** are in **text on the screen**. "
   ]
  },
  {
   "cell_type": "markdown",
   "metadata": {},
   "source": [
    "**Table of contents**<a id='toc0_'></a>    \n",
    "- 1. [Introduction](#toc1_)    \n",
    "- 2. [Example: Utility values](#toc2_)    \n",
    "  - 2.1. [Print to screen](#toc2_1_)    \n",
    "  - 2.2. [`.format`](#toc2_2_)    \n",
    "  - 2.3. [Printing outputs to a file](#toc2_3_)    \n",
    "- 3. [LaTeX tables](#toc3_)    \n",
    "  - 3.1. [Manually](#toc3_1_)    \n",
    "  - 3.2. [Pandas](#toc3_2_)    \n",
    "- 4. [Extra: Fancy printing](#toc4_)    \n",
    "  - 4.1. [Coloring](#toc4_1_)    \n",
    "  - 4.2. [Dynamic printing](#toc4_2_)    \n",
    "- 5. [Summary](#toc5_)    \n",
    "\n",
    "<!-- vscode-jupyter-toc-config\n",
    "\tnumbering=true\n",
    "\tanchor=true\n",
    "\tflat=false\n",
    "\tminLevel=2\n",
    "\tmaxLevel=6\n",
    "\t/vscode-jupyter-toc-config -->\n",
    "<!-- THIS CELL WILL BE REPLACED ON TOC UPDATE. DO NOT WRITE YOUR TEXT IN THIS CELL -->"
   ]
  },
  {
   "cell_type": "markdown",
   "metadata": {},
   "source": [
    "## 1. <a id='toc1_'></a>[Introduction](#toc0_)"
   ]
  },
  {
   "cell_type": "code",
   "execution_count": 1,
   "metadata": {},
   "outputs": [
    {
     "name": "stdout",
     "output_type": "stream",
     "text": [
      "hello world\n"
     ]
    }
   ],
   "source": [
    "print('hello world') # I prefer ''-quotes to \"\"-quotes..."
   ]
  },
  {
   "cell_type": "markdown",
   "metadata": {},
   "source": [
    "Strings:"
   ]
  },
  {
   "cell_type": "code",
   "execution_count": 2,
   "metadata": {},
   "outputs": [
    {
     "name": "stdout",
     "output_type": "stream",
     "text": [
      "<class 'str'>\n",
      "hello world\n"
     ]
    }
   ],
   "source": [
    "str = 'hello world' # string\n",
    "print(type(str))\n",
    "print(str)"
   ]
  },
  {
   "cell_type": "markdown",
   "metadata": {},
   "source": [
    "F-strings:"
   ]
  },
  {
   "cell_type": "code",
   "execution_count": 3,
   "metadata": {},
   "outputs": [
    {
     "name": "stdout",
     "output_type": "stream",
     "text": [
      "<class 'str'>\n",
      "hello world - 2025\n"
     ]
    }
   ],
   "source": [
    "year = 2025\n",
    "fstr = f'hello world - {year}' # formatted string\n",
    "print(type(fstr))\n",
    "print(fstr)"
   ]
  },
  {
   "cell_type": "markdown",
   "metadata": {},
   "source": [
    "Printing in a loop:"
   ]
  },
  {
   "cell_type": "code",
   "execution_count": 4,
   "metadata": {},
   "outputs": [
    {
     "name": "stdout",
     "output_type": "stream",
     "text": [
      "2\n",
      "4\n",
      "6\n",
      "8\n",
      "10\n",
      "final x = 10\n"
     ]
    }
   ],
   "source": [
    "x = 0\n",
    "for k in range(5):\n",
    "    x += 2\n",
    "    print(x) # print in loop\n",
    "print(f'final x = {x}')"
   ]
  },
  {
   "cell_type": "markdown",
   "metadata": {},
   "source": [
    "Printing arrays:"
   ]
  },
  {
   "cell_type": "code",
   "execution_count": 5,
   "metadata": {},
   "outputs": [
    {
     "name": "stdout",
     "output_type": "stream",
     "text": [
      "[0 1 2 3 4]\n",
      "x = [0 1 2 3 4]\n",
      "x = array([0, 1, 2, 3, 4])\n"
     ]
    }
   ],
   "source": [
    "import numpy as np\n",
    "x = np.arange(5)\n",
    "print(x) # basic\n",
    "print('x =',x) # multiple inputs\n",
    "print(f'{x = }') # f-string with array"
   ]
  },
  {
   "cell_type": "markdown",
   "metadata": {},
   "source": [
    "## 2. <a id='toc2_'></a>[Example: Utility values](#toc0_)"
   ]
  },
  {
   "attachments": {},
   "cell_type": "markdown",
   "metadata": {
    "slideshow": {
     "slide_type": "fragment"
    },
    "tags": []
   },
   "source": [
    "Consider a Cobb-Douglas utility function:\n",
    "\n",
    "$$\n",
    "u(x_1,x_2) = x_1^{\\alpha}x_2^{1-\\alpha}\n",
    "$$\n",
    "\n",
    "Let's define it as a python function:"
   ]
  },
  {
   "cell_type": "code",
   "execution_count": 6,
   "metadata": {
    "slideshow": {
     "slide_type": "fragment"
    },
    "tags": []
   },
   "outputs": [],
   "source": [
    "def u_func(x1,x2,alpha=0.50):\n",
    "    return x1**alpha * x2**(1-alpha)"
   ]
  },
  {
   "cell_type": "markdown",
   "metadata": {
    "slideshow": {
     "slide_type": "fragment"
    },
    "tags": []
   },
   "source": [
    "`x1` and `x2` are positional arguments.  \n",
    "`alpha` is a keyword argument with default value 0.50."
   ]
  },
  {
   "cell_type": "markdown",
   "metadata": {},
   "source": [
    "### 2.1. <a id='toc2_1_'></a>[Print to screen](#toc0_)"
   ]
  },
  {
   "attachments": {},
   "cell_type": "markdown",
   "metadata": {
    "slideshow": {
     "slide_type": "fragment"
    },
    "tags": []
   },
   "source": [
    "Print a **single evaluation** of the utility function."
   ]
  },
  {
   "cell_type": "code",
   "execution_count": 7,
   "metadata": {
    "slideshow": {
     "slide_type": "fragment"
    },
    "tags": []
   },
   "outputs": [
    {
     "name": "stdout",
     "output_type": "stream",
     "text": [
      "x1 = 3.000, x2 = 6.100 -> u = 4.278\n"
     ]
    }
   ],
   "source": [
    "x1 = 3.0\n",
    "x2 = 6.1\n",
    "u = u_func(x1,x2)\n",
    "\n",
    "print(f'x1 = {x1:.3f}, x2 = {x2:.3f} -> u = {u:.3f}')"
   ]
  },
  {
   "cell_type": "markdown",
   "metadata": {},
   "source": [
    "`f'{x1:.3f}'` prints variable x1 as floating point number with 3 decimals"
   ]
  },
  {
   "cell_type": "markdown",
   "metadata": {
    "slideshow": {
     "slide_type": "subslide"
    },
    "tags": []
   },
   "source": [
    "Print **multiple evaluations** of the utility function."
   ]
  },
  {
   "cell_type": "code",
   "execution_count": 8,
   "metadata": {
    "slideshow": {
     "slide_type": "fragment"
    },
    "tags": []
   },
   "outputs": [
    {
     "name": "stdout",
     "output_type": "stream",
     "text": [
      "x1 = 2.000, x2 = 6.100 -> u = 3.493\n",
      "x1 = 4.000, x2 = 6.100 -> u = 4.940\n",
      "x1 = 8.000, x2 = 6.100 -> u = 6.986\n",
      "x1 = 16.000, x2 = 6.100 -> u = 9.879\n",
      "x1 = 32.000, x2 = 6.100 -> u = 13.971\n",
      "x1 = 64.000, x2 = 6.100 -> u = 19.759\n"
     ]
    }
   ],
   "source": [
    "x1_list = [2,4,8,16,32,64]\n",
    "x2 = 6.1\n",
    "\n",
    "for x1 in x1_list: # loop through each element in x1_list\n",
    "    u = u_func(x1,x2)\n",
    "    print(f'x1 = {x1:.3f}, x2 = {x2:.3f} -> u = {u:.3f}')"
   ]
  },
  {
   "cell_type": "markdown",
   "metadata": {
    "slideshow": {
     "slide_type": "subslide"
    },
    "tags": []
   },
   "source": [
    "Formatting can easily be improved substantially:"
   ]
  },
  {
   "cell_type": "code",
   "execution_count": 9,
   "metadata": {
    "slideshow": {
     "slide_type": "fragment"
    },
    "tags": []
   },
   "outputs": [
    {
     "name": "stdout",
     "output_type": "stream",
     "text": [
      " 0: x1 =  2.000, x2 =  6.100 -> u = 3.493 \n",
      " 1: x1 =  4.000, x2 =  6.100 -> u = 4.940 \n",
      " 2: x1 =  8.000, x2 =  6.100 -> u = 6.986 \n",
      " 3: x1 = 16.000, x2 =  6.100 -> u = 9.879 \n",
      " 4: x1 = 32.000, x2 =  6.100 -> u = 13.971\n",
      " 5: x1 = 64.000, x2 =  6.100 -> u = 19.759\n"
     ]
    }
   ],
   "source": [
    "for i,x1 in enumerate(x1_list): # i is a counter\n",
    "    u = u_func(x1,x2)\n",
    "    print(f'{i:2d}: {x1 = :6.3f}, {x2 = :6.3f} -> {u = :<6.3f}')\n",
    "    \n",
    "# {i = :2d}: integer of width 2 (right-aligned per default)\n",
    "# {x1 = :6.3f}: float of width 6 with 3 decimals (right-aligned per default)\n",
    "# {x2 = :6.3f}: float of width 6 with 3 decimals (right-aligned per default)\n",
    "# {u = :<6.3f}: float of width 6 and 3 decimals (<, left-aligned)"
   ]
  },
  {
   "cell_type": "markdown",
   "metadata": {},
   "source": [
    "**More:** See this [this guide](https://realpython.com/python-formatted-output/) for lots of formatting options."
   ]
  },
  {
   "cell_type": "markdown",
   "metadata": {},
   "source": [
    "**Task:** Add more decimals, but keep nice alignment."
   ]
  },
  {
   "cell_type": "code",
   "execution_count": 10,
   "metadata": {},
   "outputs": [],
   "source": [
    "# write your code here"
   ]
  },
  {
   "cell_type": "markdown",
   "metadata": {},
   "source": [
    "### 2.2. <a id='toc2_2_'></a>[`.format`](#toc0_)"
   ]
  },
  {
   "cell_type": "markdown",
   "metadata": {},
   "source": [
    "In older Python code, `.format` is sometimes used instead of f-strings."
   ]
  },
  {
   "cell_type": "code",
   "execution_count": 11,
   "metadata": {},
   "outputs": [
    {
     "name": "stdout",
     "output_type": "stream",
     "text": [
      "x1 = 0.000, x2 = 1.000 -> u = 2.000\n"
     ]
    }
   ],
   "source": [
    "print(f'x1 = {0:.3f}, x2 = {1:.3f} -> u = {2:.3f}'.format(x1,x2,u))"
   ]
  },
  {
   "cell_type": "markdown",
   "metadata": {},
   "source": [
    "### 2.3. <a id='toc2_3_'></a>[Printing outputs to a file](#toc0_)"
   ]
  },
  {
   "cell_type": "markdown",
   "metadata": {
    "slideshow": {
     "slide_type": "fragment"
    },
    "tags": []
   },
   "source": [
    "Imagine you wanted to store outputs from your model in order to put it into a paper. Then you want it in a file."
   ]
  },
  {
   "cell_type": "code",
   "execution_count": 12,
   "metadata": {
    "slideshow": {
     "slide_type": "fragment"
    },
    "tags": []
   },
   "outputs": [],
   "source": [
    "with open('somefile.txt', 'w') as f: # 'w' is for 'write'\n",
    "    \n",
    "    for i, x1 in enumerate(x1_list):\n",
    "\n",
    "        u = u_func(x1,x2,alpha=0.25)\n",
    "        \n",
    "        # line of text\n",
    "        text_line = f'{i:2d}: {x1 = :6.3f}, {x2 = :6.3f} -> {u = :<6.3f}'\n",
    "        \n",
    "        # write to file\n",
    "        f.write(text_line + '\\n') # \\n add a lineshift\n",
    "\n",
    "# note: the 'with' clause ensures that the file is properly closed even if an error occurs"
   ]
  },
  {
   "cell_type": "markdown",
   "metadata": {
    "slideshow": {
     "slide_type": "subslide"
    },
    "tags": []
   },
   "source": [
    "You can also **read** from a file in the same manner, just using `r` instead of `w`. \n",
    "\n",
    "Open a text-file and read the lines in it and then print them:"
   ]
  },
  {
   "cell_type": "code",
   "execution_count": 13,
   "metadata": {
    "slideshow": {
     "slide_type": "fragment"
    },
    "tags": []
   },
   "outputs": [
    {
     "name": "stdout",
     "output_type": "stream",
     "text": [
      " 0: x1 =  2.000, x2 =  6.100 -> u = 4.616 \n",
      " 1: x1 =  4.000, x2 =  6.100 -> u = 5.489 \n",
      " 2: x1 =  8.000, x2 =  6.100 -> u = 6.528 \n",
      " 3: x1 = 16.000, x2 =  6.100 -> u = 7.763 \n",
      " 4: x1 = 32.000, x2 =  6.100 -> u = 9.232 \n",
      " 5: x1 = 64.000, x2 =  6.100 -> u = 10.978\n"
     ]
    }
   ],
   "source": [
    "with open('somefile.txt', 'r') as f: # 'r' is for 'read'\n",
    "    \n",
    "    # loading ALL file content into the object lines\n",
    "    lines = f.readlines()\n",
    "    \n",
    "    # printing each loaded line by loop\n",
    "    for line in lines:\n",
    "        print(line,end='') # end='' removes the extra lineshift print creates"
   ]
  },
  {
   "cell_type": "markdown",
   "metadata": {},
   "source": [
    "## 3. <a id='toc3_'></a>[LaTeX tables](#toc0_)"
   ]
  },
  {
   "cell_type": "markdown",
   "metadata": {},
   "source": [
    "You can also write tables in **LaTeX format** and import them in your LaTeX document."
   ]
  },
  {
   "cell_type": "markdown",
   "metadata": {},
   "source": [
    "**Note:** \n",
    "\n",
    "1. In Python `\\` is used for *escape characters* (e.g. new line `\\n` or tab `\\t`).\n",
    "1. Sometimes it is easier to work with the raw string `r`."
   ]
  },
  {
   "cell_type": "code",
   "execution_count": 14,
   "metadata": {},
   "outputs": [
    {
     "name": "stdout",
     "output_type": "stream",
     "text": [
      "standard: \tau\n",
      "raw: \\tau\n"
     ]
    }
   ],
   "source": [
    "print('standard: \\tau')\n",
    "print(r'raw: \\tau')"
   ]
  },
  {
   "cell_type": "code",
   "execution_count": 15,
   "metadata": {},
   "outputs": [
    {
     "name": "stdout",
     "output_type": "stream",
     "text": [
      "standard: \\\n",
      "raw: \\\\\n"
     ]
    }
   ],
   "source": [
    "print('standard: \\\\')\n",
    "print(r'raw: \\\\')"
   ]
  },
  {
   "cell_type": "markdown",
   "metadata": {},
   "source": [
    "### 3.1. <a id='toc3_1_'></a>[Manually](#toc0_)"
   ]
  },
  {
   "cell_type": "code",
   "execution_count": 16,
   "metadata": {},
   "outputs": [],
   "source": [
    "columns = ['$x_1$','$x_2$','$u$']\n",
    "x2_list = [x1]*len(x1_list)\n",
    "u_list = [u_func(x1,x2) for x1,x2 in zip(x1_list,x2_list)]"
   ]
  },
  {
   "cell_type": "code",
   "execution_count": 17,
   "metadata": {},
   "outputs": [],
   "source": [
    "with open('table_manually.tex', 'w') as f:\n",
    "    \n",
    "    f.write(r'\\begin{tabular}{ccc}' + '\\n')\n",
    "    f.write(r'\\toprule' + '\\n')\n",
    "\n",
    "    for i,col in enumerate(columns):\n",
    "        f.write(col)\n",
    "        if i == len(columns)-1:\n",
    "            f.write(r' \\\\' + '\\n')\n",
    "        else:\n",
    "            f.write(' & ')\n",
    "    f.write(r'\\midrule' + '\\n')\n",
    "\n",
    "    for x1,x2,u in zip(x1_list,x2_list,u_list):\n",
    "        f.write(fr'{x1:.3f} & {x2:.3f} & {u:.3f} \\\\' + '\\n')\n",
    "\n",
    "    f.write(r'\\bottomrule' + '\\n')\n",
    "    f.write(r'\\end{tabular}' + '\\n')"
   ]
  },
  {
   "cell_type": "code",
   "execution_count": 18,
   "metadata": {},
   "outputs": [
    {
     "name": "stdout",
     "output_type": "stream",
     "text": [
      "\\begin{tabular}{ccc}\n",
      "\\toprule\n",
      "$x_1$ & $x_2$ & $u$ \\\\\n",
      "\\midrule\n",
      "2.000 & 64.000 & 11.314 \\\\\n",
      "4.000 & 64.000 & 16.000 \\\\\n",
      "8.000 & 64.000 & 22.627 \\\\\n",
      "16.000 & 64.000 & 32.000 \\\\\n",
      "32.000 & 64.000 & 45.255 \\\\\n",
      "64.000 & 64.000 & 64.000 \\\\\n",
      "\\bottomrule\n",
      "\\end{tabular}\n",
      "\n"
     ]
    }
   ],
   "source": [
    "with open('table_manually.tex', 'r') as f: print(f.read())"
   ]
  },
  {
   "cell_type": "markdown",
   "metadata": {},
   "source": [
    "### 3.2. <a id='toc3_2_'></a>[Pandas](#toc0_)"
   ]
  },
  {
   "cell_type": "code",
   "execution_count": 19,
   "metadata": {},
   "outputs": [
    {
     "data": {
      "text/html": [
       "<div>\n",
       "<style scoped>\n",
       "    .dataframe tbody tr th:only-of-type {\n",
       "        vertical-align: middle;\n",
       "    }\n",
       "\n",
       "    .dataframe tbody tr th {\n",
       "        vertical-align: top;\n",
       "    }\n",
       "\n",
       "    .dataframe thead th {\n",
       "        text-align: right;\n",
       "    }\n",
       "</style>\n",
       "<table border=\"1\" class=\"dataframe\">\n",
       "  <thead>\n",
       "    <tr style=\"text-align: right;\">\n",
       "      <th></th>\n",
       "      <th>$x_1$</th>\n",
       "      <th>$x_2$</th>\n",
       "      <th>$u$</th>\n",
       "    </tr>\n",
       "  </thead>\n",
       "  <tbody>\n",
       "    <tr>\n",
       "      <th>0</th>\n",
       "      <td>2</td>\n",
       "      <td>64</td>\n",
       "      <td>11.313708</td>\n",
       "    </tr>\n",
       "    <tr>\n",
       "      <th>1</th>\n",
       "      <td>4</td>\n",
       "      <td>64</td>\n",
       "      <td>16.000000</td>\n",
       "    </tr>\n",
       "    <tr>\n",
       "      <th>2</th>\n",
       "      <td>8</td>\n",
       "      <td>64</td>\n",
       "      <td>22.627417</td>\n",
       "    </tr>\n",
       "    <tr>\n",
       "      <th>3</th>\n",
       "      <td>16</td>\n",
       "      <td>64</td>\n",
       "      <td>32.000000</td>\n",
       "    </tr>\n",
       "    <tr>\n",
       "      <th>4</th>\n",
       "      <td>32</td>\n",
       "      <td>64</td>\n",
       "      <td>45.254834</td>\n",
       "    </tr>\n",
       "    <tr>\n",
       "      <th>5</th>\n",
       "      <td>64</td>\n",
       "      <td>64</td>\n",
       "      <td>64.000000</td>\n",
       "    </tr>\n",
       "  </tbody>\n",
       "</table>\n",
       "</div>"
      ],
      "text/plain": [
       "   $x_1$  $x_2$        $u$\n",
       "0      2     64  11.313708\n",
       "1      4     64  16.000000\n",
       "2      8     64  22.627417\n",
       "3     16     64  32.000000\n",
       "4     32     64  45.254834\n",
       "5     64     64  64.000000"
      ]
     },
     "execution_count": 19,
     "metadata": {},
     "output_type": "execute_result"
    }
   ],
   "source": [
    "import pandas as pd\n",
    "df = pd.DataFrame(columns=columns, data=zip(x1_list, x2_list, u_list))\n",
    "df"
   ]
  },
  {
   "cell_type": "code",
   "execution_count": 20,
   "metadata": {},
   "outputs": [
    {
     "name": "stdout",
     "output_type": "stream",
     "text": [
      "\\begin{tabular}{ccc}\n",
      "\\toprule\n",
      "$x_1$ & $x_2$ & $u$ \\\\\n",
      "\\midrule\n",
      "2.000 & 64.000 & 11.314 \\\\\n",
      "4.000 & 64.000 & 16.000 \\\\\n",
      "8.000 & 64.000 & 22.627 \\\\\n",
      "16.000 & 64.000 & 32.000 \\\\\n",
      "32.000 & 64.000 & 45.255 \\\\\n",
      "64.000 & 64.000 & 64.000 \\\\\n",
      "\\bottomrule\n",
      "\\end{tabular}\n",
      "\n"
     ]
    }
   ],
   "source": [
    "print(df.style.hide(axis=\"index\").format('{:.3f}').to_latex(column_format='ccc',hrules=True))"
   ]
  },
  {
   "cell_type": "markdown",
   "metadata": {},
   "source": [
    "Save to disc:"
   ]
  },
  {
   "cell_type": "code",
   "execution_count": 21,
   "metadata": {},
   "outputs": [],
   "source": [
    "df.style.hide(axis=\"index\").format('{:.3f}').to_latex(buf='table_pandas.tex',column_format='l|ccc',hrules=True)"
   ]
  },
  {
   "cell_type": "markdown",
   "metadata": {},
   "source": [
    "**Note:** Both files are combined in `table.tex`, which produces `table.pdf`."
   ]
  },
  {
   "cell_type": "markdown",
   "metadata": {},
   "source": [
    "#"
   ]
  },
  {
   "cell_type": "markdown",
   "metadata": {},
   "source": [
    "## 4. <a id='toc4_'></a>[Extra: Fancy printing](#toc0_)"
   ]
  },
  {
   "cell_type": "markdown",
   "metadata": {},
   "source": [
    "### 4.1. <a id='toc4_1_'></a>[Coloring](#toc0_)"
   ]
  },
  {
   "cell_type": "markdown",
   "metadata": {},
   "source": [
    "You can add color and effects to your text:"
   ]
  },
  {
   "cell_type": "code",
   "execution_count": 22,
   "metadata": {},
   "outputs": [
    {
     "name": "stdout",
     "output_type": "stream",
     "text": [
      "\u001b[91mThis is red text\u001b[0m. This is black text\n",
      "This is \u001b[4munderlined\u001b[24m text.\n"
     ]
    }
   ],
   "source": [
    "print('\\033[91mThis is red text\\033[0m. This is black text')\n",
    "print('This is \\x1b[4munderlined\\x1b[24m text.')"
   ]
  },
  {
   "cell_type": "markdown",
   "metadata": {},
   "source": [
    "See this [guide](https://jakob-bagterp.github.io/colorist-for-python/ansi-escape-codes/effects/#structure) for more."
   ]
  },
  {
   "cell_type": "markdown",
   "metadata": {},
   "source": [
    "**Alternative I:** Use [Colorist](https://jakob-bagterp.github.io/colorist-for-python/)."
   ]
  },
  {
   "cell_type": "code",
   "execution_count": 23,
   "metadata": {},
   "outputs": [],
   "source": [
    "#%pip install colorist"
   ]
  },
  {
   "cell_type": "code",
   "execution_count": 24,
   "metadata": {},
   "outputs": [
    {
     "name": "stdout",
     "output_type": "stream",
     "text": [
      "\u001b[31mThis is red text\u001b[0m. This is black text\n",
      "This is \u001b[4munderlined\u001b[0m text.\n"
     ]
    }
   ],
   "source": [
    "from colorist import Color, Effect\n",
    "print(f'{Color.RED}This is red text{Color.OFF}. This is black text')\n",
    "print(f'This is {Effect.UNDERLINE}underlined{Effect.OFF} text.')"
   ]
  },
  {
   "cell_type": "markdown",
   "metadata": {},
   "source": [
    "**Alternative II:** Use `Ipython.display` to write in HTML."
   ]
  },
  {
   "cell_type": "code",
   "execution_count": 25,
   "metadata": {},
   "outputs": [
    {
     "data": {
      "text/html": [
       "<span style=\"color: red;\">This is red text.</span>This is black text"
      ],
      "text/plain": [
       "<IPython.core.display.HTML object>"
      ]
     },
     "metadata": {},
     "output_type": "display_data"
    },
    {
     "data": {
      "text/html": [
       "This is <u>underlined</u> text."
      ],
      "text/plain": [
       "<IPython.core.display.HTML object>"
      ]
     },
     "metadata": {},
     "output_type": "display_data"
    }
   ],
   "source": [
    "from IPython.display import display, HTML\n",
    "display(HTML('<span style=\"color: red;\">This is red text.</span>This is black text'))\n",
    "display(HTML('This is <u>underlined</u> text.'))"
   ]
  },
  {
   "cell_type": "markdown",
   "metadata": {},
   "source": [
    "Also works with latex:"
   ]
  },
  {
   "cell_type": "code",
   "execution_count": 26,
   "metadata": {},
   "outputs": [
    {
     "data": {
      "text/latex": [
       "u($x_1$,$x_2$)"
      ],
      "text/plain": [
       "<IPython.core.display.Latex object>"
      ]
     },
     "metadata": {},
     "output_type": "display_data"
    }
   ],
   "source": [
    "from IPython.display import Latex\n",
    "display(Latex('u($x_1$,$x_2$)'))"
   ]
  },
  {
   "cell_type": "markdown",
   "metadata": {},
   "source": [
    "### 4.2. <a id='toc4_2_'></a>[Dynamic printing](#toc0_)"
   ]
  },
  {
   "cell_type": "markdown",
   "metadata": {},
   "source": [
    "You can easily:\n",
    "\n",
    "1. Use `\\r` to return to the beginning of the line (and then overwrite)\n",
    "1. Use `end=''` to not end the current line\n",
    "1. Use `flush=True` to ensure line is printed (*not needed in notebook*)"
   ]
  },
  {
   "cell_type": "code",
   "execution_count": 27,
   "metadata": {},
   "outputs": [
    {
     "name": "stdout",
     "output_type": "stream",
     "text": [
      "running:\n",
      " at 5/5\n",
      "done\n"
     ]
    }
   ],
   "source": [
    "import time\n",
    "print('running:')\n",
    "for i in range(1,5+1):\n",
    "    print(f'\\r at {i}/5',end='',flush=True)\n",
    "    time.sleep(0.2)\n",
    "print('')\n",
    "print('done')"
   ]
  },
  {
   "cell_type": "markdown",
   "metadata": {},
   "source": [
    "**Alternative:** Use progress bar from [tqdm](https://tqdm.github.io/)."
   ]
  },
  {
   "cell_type": "code",
   "execution_count": 28,
   "metadata": {},
   "outputs": [],
   "source": [
    "#%pip install tqdm"
   ]
  },
  {
   "cell_type": "code",
   "execution_count": 29,
   "metadata": {},
   "outputs": [
    {
     "name": "stderr",
     "output_type": "stream",
     "text": [
      "100%|██████████| 5/5 [00:01<00:00,  4.96it/s]\n"
     ]
    }
   ],
   "source": [
    "from tqdm import tqdm\n",
    "for i in tqdm(range(5)):\n",
    "    time.sleep(0.2)"
   ]
  },
  {
   "cell_type": "markdown",
   "metadata": {},
   "source": [
    "## 5. <a id='toc5_'></a>[Summary](#toc0_)"
   ]
  },
  {
   "cell_type": "markdown",
   "metadata": {},
   "source": [
    "The main takeaways are:\n",
    "\n",
    "1. Print to screen with f-strings\n",
    "1. Write to file and read file\n",
    "1. Using raw strings"
   ]
  },
  {
   "cell_type": "markdown",
   "metadata": {},
   "source": [
    "Any questions on printing?\n",
    "\n",
    "**Socrative room:** PROGECON"
   ]
  }
 ],
 "metadata": {
  "kernelspec": {
   "display_name": "base",
   "language": "python",
   "name": "python3"
  },
  "language_info": {
   "codemirror_mode": {
    "name": "ipython",
    "version": 3
   },
   "file_extension": ".py",
   "mimetype": "text/x-python",
   "name": "python",
   "nbconvert_exporter": "python",
   "pygments_lexer": "ipython3",
   "version": "3.13.5"
  },
  "orig_nbformat": 4,
  "vscode": {
   "interpreter": {
    "hash": "2164e4eaf16dd6cd705646718fcef4f5f263bad5b7d103e76e9308c0132ca24b"
   }
  }
 },
 "nbformat": 4,
 "nbformat_minor": 2
}
