{
 "cells": [
  {
   "cell_type": "markdown",
   "metadata": {},
   "source": [
    "# Non-linear equations"
   ]
  },
  {
   "cell_type": "markdown",
   "metadata": {},
   "source": [
    "**Table of contents**<a id='toc0_'></a>    \n",
    "- 1. [Introduction](#toc1_)    \n",
    "- 2. [Derivative based methods](#toc2_)    \n",
    "- 3. [Numerical derivative](#toc3_)    \n",
    "- 4. [Another example](#toc4_)    \n",
    "- 5. [Derivative free methods: Bisection](#toc5_)    \n",
    "- 6. [Scipy](#toc6_)    \n",
    "- 7. [The Consumer Problem (again)](#toc7_)    \n",
    "  - 7.1. [Newton's Method](#toc7_1_)    \n",
    "  - 7.2. [Bisection](#toc7_2_)    \n",
    "- 8. [Takeaways](#toc8_)    \n",
    "\n",
    "<!-- vscode-jupyter-toc-config\n",
    "\tnumbering=true\n",
    "\tanchor=true\n",
    "\tflat=false\n",
    "\tminLevel=2\n",
    "\tmaxLevel=6\n",
    "\t/vscode-jupyter-toc-config -->\n",
    "<!-- THIS CELL WILL BE REPLACED ON TOC UPDATE. DO NOT WRITE YOUR TEXT IN THIS CELL -->"
   ]
  },
  {
   "cell_type": "markdown",
   "metadata": {},
   "source": [
    "You will learn to find roots of non-linear equations numerically (**scipy.optimize**)."
   ]
  },
  {
   "attachments": {},
   "cell_type": "markdown",
   "metadata": {},
   "source": [
    "**scipy.optimize:** [overview](https://docs.scipy.org/doc/scipy/reference/optimize.html) + [tutorial](https://docs.scipy.org/doc/scipy/tutorial/optimize.html)"
   ]
  },
  {
   "cell_type": "code",
   "execution_count": 1,
   "metadata": {},
   "outputs": [],
   "source": [
    "import numpy as np\n",
    "import matplotlib.pyplot as plt\n",
    "plt.rcParams.update({\"axes.grid\":True,\"grid.color\":\"black\",\"grid.alpha\":\"0.25\",\"grid.linestyle\":\"--\"})\n",
    "plt.rcParams.update({'font.size': 12})\n",
    "import ipywidgets as widgets\n",
    "\n",
    "from scipy import optimize"
   ]
  },
  {
   "cell_type": "markdown",
   "metadata": {},
   "source": [
    "**Note:** The algorithms written here are meant to be illustrative. The scipy implementations are always both the *fastest* and the *safest* choice."
   ]
  },
  {
   "cell_type": "markdown",
   "metadata": {},
   "source": [
    "## 1. <a id='toc1_'></a>[Introduction](#toc0_)"
   ]
  },
  {
   "attachments": {},
   "cell_type": "markdown",
   "metadata": {},
   "source": [
    "In economics, we really like setting **First Order Conditions** to 0. We do it every time we want to solve for optimal behavior.\n",
    "\n",
    "Therefore, we often want to **solve non-linear equations** on the form,\n",
    "\n",
    "$$ \n",
    "f(x) = 0, x \\in \\mathbb{R} \n",
    "$$\n",
    "\n",
    "There are 2 types of method:\n",
    "* **Derivative based:** More robust and takes fever steps.\n",
    "* **Derivative free:** Less numerically stable, but does not require a gradient, so often easier to implement. "
   ]
  },
  {
   "cell_type": "markdown",
   "metadata": {},
   "source": [
    "A simple **example** of a function for our root finding:\n",
    "\n",
    "$$\n",
    "f(x) = -x^3 + 2x^2 + 4x + 30 \n",
    "$$"
   ]
  },
  {
   "cell_type": "markdown",
   "metadata": {},
   "source": [
    "## 2. <a id='toc2_'></a>[Derivative based methods](#toc0_)"
   ]
  },
  {
   "attachments": {},
   "cell_type": "markdown",
   "metadata": {},
   "source": [
    "**Newton's method**: \n",
    "\n",
    "We use a **first order** Taylor approximation of the function at a **new point** $x_1$:\n",
    "\n",
    "$$ \n",
    "f(x_1) \\approx f(x_0) + f^{\\prime}(x_0)(x_1-x_0)\n",
    "$$\n",
    "\n",
    "We choose $x_1$ from where the Taylor approximation is zero: \n",
    "\n",
    "$$\n",
    "f(x_1) = 0 \\Leftrightarrow x_1 = x_0 - \\frac{f(x_0)}{f^{\\prime}(x_0)}\n",
    "$$"
   ]
  },
  {
   "attachments": {},
   "cell_type": "markdown",
   "metadata": {},
   "source": [
    "**Algorithm:** `find_root()`\n",
    "\n",
    "1. Choose tolerance $\\epsilon > 0$, guess on $x_0$ and set $k = 0$.\n",
    "2. Calculate $f(x_k)$ and $f^{\\prime}(x_k)$.\n",
    "3. If $|f(x_k)| < \\epsilon$ then stop.\n",
    "4. Calculate new candidate $x_{k+1} = x_k - \\frac{f(x_k)}{f^{\\prime}(x_k)}$.\n",
    "5. Set $k = k + 1$ and return to step 2."
   ]
  },
  {
   "cell_type": "code",
   "execution_count": 2,
   "metadata": {},
   "outputs": [],
   "source": [
    "def find_root(x0,f,df,max_iter=500,tol=1e-8,full_info=False):\n",
    "    \"\"\" find root\n",
    "        \n",
    "    Args:\n",
    "    \n",
    "        x0 (float): initial value\n",
    "        f (callable): function\n",
    "        df (callable): derivative\n",
    "        max_iter (int): maximum number of iterations\n",
    "        tol (float): tolerance\n",
    "        full_info (bool): controls information returned\n",
    "        \n",
    "    Returns:\n",
    "    \n",
    "        x (float/ndarray): root (if full_info, all x tried)\n",
    "        k (int): number of iterations used\n",
    "        fx (ndarray): function values used (if full_info) \n",
    "        fpx (ndarray): derivative values used (if full_info)\n",
    "        \n",
    "    \"\"\"\n",
    "    \n",
    "    # initialize\n",
    "    xs = []\n",
    "    fxs = []\n",
    "    dfxs = []\n",
    "    \n",
    "    # iterate\n",
    "    x_k = x0    \n",
    "    k = 0    \n",
    "    while True:\n",
    "        \n",
    "        x = x_k\n",
    "\n",
    "        # step 2: evaluate function and derivatives\n",
    "        fx = f(x)\n",
    "        dfx = df(x)\n",
    "        \n",
    "        # store info\n",
    "        xs.append(x)\n",
    "        fxs.append(fx)\n",
    "        dfxs.append(dfx)\n",
    "\n",
    "        # step 3: check convergence\n",
    "        if abs(fx) < tol or k >= max_iter:\n",
    "            break\n",
    "            \n",
    "        # step 4: update x\n",
    "        x_k = x - fx/dfx\n",
    "        \n",
    "        # step 5: increment counter\n",
    "        k += 1\n",
    "        \n",
    "    # return\n",
    "    if full_info:\n",
    "        return np.array(xs),k,np.array(fxs),np.array(dfxs)\n",
    "    else:\n",
    "        return x,k"
   ]
  },
  {
   "attachments": {},
   "cell_type": "markdown",
   "metadata": {},
   "source": [
    "**Pause:** Spend some time looking at the function above."
   ]
  },
  {
   "cell_type": "markdown",
   "metadata": {},
   "source": [
    "**Note:** The cell below contains a function for plotting the convergence."
   ]
  },
  {
   "cell_type": "code",
   "execution_count": 3,
   "metadata": {},
   "outputs": [],
   "source": [
    "def plot_find_root(x0,f,fp,xmin=-8,xmax=8,xn=100):\n",
    "    \n",
    "    # a. find root and return all information \n",
    "    x,max_iter,fx,fpx = find_root(x0,f,df=fp,full_info=True)\n",
    "    \n",
    "    # b. compute function on grid\n",
    "    xvec = np.linspace(xmin,xmax,xn)\n",
    "    fxvec = f(xvec)\n",
    "    \n",
    "    # c. figure\n",
    "    def _figure(k):\n",
    "        \n",
    "        # i. approximation\n",
    "        fapprox = fx[k] + fpx[k]*(xvec-x[k])\n",
    "            \n",
    "        # ii. figure\n",
    "        fig = plt.figure()\n",
    "        ax = fig.add_subplot(1,1,1)\n",
    "        \n",
    "        ax.plot(xvec,fxvec) # on grid\n",
    "        ax.plot(x[k],0,'o',color='blue',mfc='none',label='$x_{k}$')# now\n",
    "        ax.plot(xvec,fapprox) # approximation\n",
    "        ax.plot(x[k],fx[k],'o',color='black',label='$f(x_k)$') # now       \n",
    "\n",
    "        ax.axhline(0,ls='-',lw=1,color='black') # coordinate system\n",
    "        ax.axvline(0,ls='-',lw=1,color='black') # coordinate system\n",
    "        \n",
    "        if k+1 < len(x):\n",
    "            ax.axvline(x[k+1],ls='--',lw=1,color='black') # cross zero\n",
    "            ax.plot(x[k+1],0,'o',color='green',mfc='none',label='$x_{k+1}$') # next\n",
    "                \n",
    "        ax.legend(loc='upper left',facecolor='white',ncols=3,frameon=True)\n",
    "        ax.set_ylim(min([fxvec[-1],fxvec[0]]),max([fxvec[-1],fxvec[0]]))\n",
    "    \n",
    "    widgets.interact(_figure,\n",
    "        k=widgets.IntSlider(description=\"iterations\", min=0, max=max_iter, step=1, value=0)\n",
    "    );"
   ]
  },
  {
   "cell_type": "markdown",
   "metadata": {},
   "source": [
    "Illustrating rootfinding by Newton's methods"
   ]
  },
  {
   "cell_type": "code",
   "execution_count": 4,
   "metadata": {},
   "outputs": [
    {
     "name": "stdout",
     "output_type": "stream",
     "text": [
      "x = 4.43084740 [iterations: 7]\n",
      "f(x) = -2.3284130179490603e-10\n"
     ]
    }
   ],
   "source": [
    "f = lambda x: -x**3 + 2*(x**2) + 4*x + 30 \n",
    "df = lambda x: -3*(x**2) + 4*x + 4\n",
    "x0 = -5.0\n",
    "\n",
    "x,k = find_root(x0,f,df)\n",
    "print(f'x = {x:.8f} [iterations: {k}]')\n",
    "print(f'f(x) = {f(x)}')"
   ]
  },
  {
   "cell_type": "code",
   "execution_count": 5,
   "metadata": {},
   "outputs": [
    {
     "data": {
      "application/vnd.jupyter.widget-view+json": {
       "model_id": "3bb8566d63c245608861d8e8bc59348d",
       "version_major": 2,
       "version_minor": 0
      },
      "text/plain": [
       "interactive(children=(IntSlider(value=0, description='iterations', max=7), Output()), _dom_classes=('widget-in…"
      ]
     },
     "metadata": {},
     "output_type": "display_data"
    }
   ],
   "source": [
    "plot_find_root(x0,f,df)"
   ]
  },
  {
   "cell_type": "markdown",
   "metadata": {},
   "source": [
    "## 3. <a id='toc3_'></a>[Numerical derivative](#toc0_)"
   ]
  },
  {
   "cell_type": "markdown",
   "metadata": {},
   "source": [
    "Sometimes, you might not have the **analytical derivative**. Then, you can instead use the **numerical derivative**."
   ]
  },
  {
   "attachments": {},
   "cell_type": "markdown",
   "metadata": {},
   "source": [
    "**Numerical derivative:** Define $\\Delta$ to be a small number, then we approximate the derivative by \n",
    "$$\n",
    " \\frac{df}{dx} \\approx \\frac{f(x+\\Delta) - f(x)}{\\Delta}\n",
    "$$"
   ]
  },
  {
   "cell_type": "code",
   "execution_count": 6,
   "metadata": {},
   "outputs": [
    {
     "name": "stdout",
     "output_type": "stream",
     "text": [
      "x = 4.43084740 [iterations: 7]\n",
      "f(x) = -2.374527241499891e-10\n"
     ]
    }
   ],
   "source": [
    "# a. numerical derivative (forward)\n",
    "Delta = 1e-8\n",
    "fp_approx = lambda x: (f(x+Delta)-f(x))/Delta\n",
    "\n",
    "# b. find root\n",
    "x0 = -5.0\n",
    "x,k = find_root(x0,f,fp_approx)\n",
    "print(f'x = {x:.8f} [iterations: {k}]')\n",
    "print(f'f(x) = {f(x)}')"
   ]
  },
  {
   "attachments": {},
   "cell_type": "markdown",
   "metadata": {},
   "source": [
    "**Question:** What happens if you increase the stepsize to 1?  "
   ]
  },
  {
   "cell_type": "markdown",
   "metadata": {},
   "source": [
    "## 4. <a id='toc4_'></a>[Another example](#toc0_)"
   ]
  },
  {
   "cell_type": "code",
   "execution_count": 7,
   "metadata": {},
   "outputs": [
    {
     "data": {
      "application/vnd.jupyter.widget-view+json": {
       "model_id": "36f875456d6d4e469b3afad9251da870",
       "version_major": 2,
       "version_minor": 0
      },
      "text/plain": [
       "interactive(children=(IntSlider(value=0, description='iterations', max=4), Output()), _dom_classes=('widget-in…"
      ]
     },
     "metadata": {},
     "output_type": "display_data"
    }
   ],
   "source": [
    "g = lambda x: np.sin(x)\n",
    "gp = lambda x: np.cos(x)\n",
    "\n",
    "x0 = 4.0\n",
    "plot_find_root(x0,g,gp)"
   ]
  },
  {
   "attachments": {},
   "cell_type": "markdown",
   "metadata": {},
   "source": [
    "**Question:** What happens if the initial value is -2?"
   ]
  },
  {
   "attachments": {},
   "cell_type": "markdown",
   "metadata": {},
   "source": [
    "## 5. <a id='toc5_'></a>[Derivative free methods: Bisection](#toc0_)\n",
    "\n",
    "Bisection is, like Newton's, an important root finding algorithm.\n",
    "\n",
    "Look at the graph below. If $f(a) \\times f(b) < 0$ then there must be a root in between $a$ and $b$. "
   ]
  },
  {
   "cell_type": "code",
   "execution_count": 8,
   "metadata": {
    "tags": []
   },
   "outputs": [
    {
     "data": {
      "image/png": "[encoded data removed]",
      "text/plain": [
       "<Figure size 640x480 with 1 Axes>"
      ]
     },
     "metadata": {},
     "output_type": "display_data"
    }
   ],
   "source": [
    "# a. x-values and function-values\n",
    "xs = np.linspace(-8,8,100)\n",
    "ys = f(xs)\n",
    "\n",
    "# b. figure\n",
    "fig = plt.figure()\n",
    "ax = fig.add_subplot(1,1,1)\n",
    "ax.plot(xs,ys)\n",
    "ax.axhline(0, ls='-',lw=1,color='black')\n",
    "ax.plot(xs[0],ys[0],'o',color='blue',label='$f(a)$')\n",
    "ax.plot(xs[-1],ys[-1],'o',color='green',label='$f(b)$')\n",
    "ax.legend(loc='lower left',facecolor='white',frameon=True);\n",
    "ax.grid(visible=None)"
   ]
  },
  {
   "attachments": {},
   "cell_type": "markdown",
   "metadata": {},
   "source": [
    "**Algorithm:** `bisection()`\n",
    "\n",
    "1. Set $a_0 = a$ and $b_0 = b$ where $f(a)$ and $f(b)$ has oposite sign, $f(a_0)f(b_0)<0$\n",
    "2. Compute $f(m_0)$ where $m_0 = (a_0 + b_0)/2$ is the midpoint.\n",
    "3. Determine the next sub-interval $[a_1,b_1]$:\n",
    "  * If $f(a_0)f(m_0) < 0$ (different signs) then $a_1 = a_0$ and $b_1 = m_0$ (i.e. focus on the range $[a_0,m_0]$).\n",
    "  * If $f(m_0)f(b_0) < 0$ (different signs) then $a_1 = m_0$ and $b_1 = b_0$ (i.e. focus on the range $[m_0,b_0]$).\n",
    "4. Repeat step 2 and step 3 until $|f(m_k)| < \\epsilon$."
   ]
  },
  {
   "cell_type": "code",
   "execution_count": 9,
   "metadata": {},
   "outputs": [],
   "source": [
    "def bisection(f,a,b,max_iter=500,tol=1e-8,full_info=False):\n",
    "    \"\"\" bisection\n",
    "    \n",
    "    Solve equation f(x) = 0 for a <= x <= b.\n",
    "    \n",
    "    Args:\n",
    "    \n",
    "        f (callable): function\n",
    "        a (float): left bound\n",
    "        b (float): right bound\n",
    "        max_iter (int): maximum number of iterations\n",
    "        tol (float): tolerance on solution\n",
    "        full_info (bool): controls information returned\n",
    "        \n",
    "    Returns:\n",
    "    \n",
    "        m (float/ndarray): root (if full_info, all x tried)\n",
    "        k (int): number of iterations used\n",
    "        a (ndarray): left bounds used\n",
    "        b (ndarray): right bounds used\n",
    "        fm (ndarray): function values at midpoints\n",
    "        \n",
    "    \"\"\"\n",
    "    \n",
    "    # test inputs\n",
    "    if f(a)*f(b) >= 0:\n",
    "        print(\"bisection method fails.\")\n",
    "        return None\n",
    "    \n",
    "    # initialize\n",
    "    a_l = []\n",
    "    b_l = []\n",
    "    m_l = []\n",
    "    fm_l = []\n",
    "    \n",
    "    # step 2-4: main\n",
    "    k = 0\n",
    "    while k < max_iter:\n",
    "        \n",
    "        # step 2: midpoint and associated value\n",
    "        m = (a+b)/2\n",
    "        fm = f(m)\n",
    "        \n",
    "        # store info\n",
    "        a_l.append(a)\n",
    "        b_l.append(b)\n",
    "        m_l.append(m)\n",
    "        fm_l.append(fm)\n",
    "        \n",
    "        # step 3: determine sub-interval\n",
    "        if abs(fm) < tol:\n",
    "            break        \n",
    "        elif f(a)*fm < 0:\n",
    "            b = m\n",
    "        elif f(b)*fm < 0:\n",
    "            a = m\n",
    "        else:\n",
    "            print(\"bisection method fails.\")\n",
    "            return None\n",
    "        \n",
    "        k += 1\n",
    "        \n",
    "    if full_info:\n",
    "        # Returned lists are converted to np.arrays for good measure\n",
    "        return np.array(m_l), k, np.array(a_l), np.array(b_l), np.array(fm_l)\n",
    "    else:\n",
    "        return m,k"
   ]
  },
  {
   "attachments": {},
   "cell_type": "markdown",
   "metadata": {},
   "source": [
    "**Run:**"
   ]
  },
  {
   "cell_type": "code",
   "execution_count": 10,
   "metadata": {},
   "outputs": [
    {
     "name": "stdout",
     "output_type": "stream",
     "text": [
      "33 4.430847399868071 4.316270008075662e-09\n"
     ]
    }
   ],
   "source": [
    "m,k = bisection(f,-8,8)\n",
    "print(k,m,f(m))"
   ]
  },
  {
   "cell_type": "markdown",
   "metadata": {},
   "source": [
    "**Same result** as before, but **trade-off** between more iterations and no evaluation of derivatives."
   ]
  },
  {
   "cell_type": "markdown",
   "metadata": {},
   "source": [
    "**Pause:** Spend some time looking at the function above."
   ]
  },
  {
   "cell_type": "markdown",
   "metadata": {},
   "source": [
    "**Note:** The cell below contains a function for plotting the convergence."
   ]
  },
  {
   "cell_type": "code",
   "execution_count": 11,
   "metadata": {},
   "outputs": [
    {
     "data": {
      "application/vnd.jupyter.widget-view+json": {
       "model_id": "c9319d6d0b574050b2366b477a27463b",
       "version_major": 2,
       "version_minor": 0
      },
      "text/plain": [
       "interactive(children=(IntSlider(value=0, description='iterations', max=32), Output()), _dom_classes=('widget-i…"
      ]
     },
     "metadata": {},
     "output_type": "display_data"
    }
   ],
   "source": [
    "def plot_bisection(f,a,b,xmin=-8,xmax=8,xn=100):\n",
    "    \n",
    "    # a. find root and return all information \n",
    "    res = bisection(f,a,b,full_info=True)\n",
    "    if res == None:\n",
    "        return\n",
    "    else:\n",
    "        m,max_iter,a,b,fm = res\n",
    "    \n",
    "    # b. compute function on grid\n",
    "    xvec = np.linspace(xmin,xmax,xn)\n",
    "    fxvec = f(xvec)\n",
    "    \n",
    "    # c. figure\n",
    "    def _figure(k):\n",
    "        \n",
    "        # ii. figure\n",
    "        fig = plt.figure()\n",
    "        ax = fig.add_subplot(1,1,1)\n",
    "        \n",
    "        ax.plot(xvec,fxvec) # on grid\n",
    "        ax.axhline(y=0, xmin=xmin, xmax=xmax,color='black')\n",
    "        ax.plot(m[k],fm[k],'o',color='black',label='current') # mid\n",
    "        ax.plot([a[k],b[k]],[fm[k],fm[k]],'--',color='green',label='range') # range\n",
    "        ax.axvline(a[k],ls='--',color='green')\n",
    "        ax.axvline(b[k],ls='--',color='green')        \n",
    "        \n",
    "        ax.legend(loc='lower left',facecolor='white',frameon=True)\n",
    "        ax.set_ylim(min([fxvec[-1],fxvec[0]]),max([fxvec[-1],fxvec[0]]))\n",
    "    \n",
    "    widgets.interact(_figure,\n",
    "        k=widgets.IntSlider(description=\"iterations\", min=0, max=max_iter-1, step=1, value=0)\n",
    "    );\n",
    "\n",
    "plot_bisection(f,-8,8)"
   ]
  },
  {
   "cell_type": "markdown",
   "metadata": {
    "tags": []
   },
   "source": [
    "**Note:** Bisection is not good at the final convergence steps. Generally true for methods not using derivatives."
   ]
  },
  {
   "cell_type": "markdown",
   "metadata": {},
   "source": [
    "## 6. <a id='toc6_'></a>[Scipy](#toc0_)"
   ]
  },
  {
   "attachments": {},
   "cell_type": "markdown",
   "metadata": {},
   "source": [
    "Scipy, naturally, has better implementations of the above algorithms. \n",
    "\n",
    "You will most likely want to go for these when doing your own model solution."
   ]
  },
  {
   "cell_type": "markdown",
   "metadata": {},
   "source": [
    "**Newton:**"
   ]
  },
  {
   "cell_type": "code",
   "execution_count": 12,
   "metadata": {},
   "outputs": [
    {
     "name": "stdout",
     "output_type": "stream",
     "text": [
      "      converged: True\n",
      "           flag: converged\n",
      " function_calls: 16\n",
      "     iterations: 8\n",
      "           root: 4.430847399984182\n",
      "         method: newton\n"
     ]
    }
   ],
   "source": [
    "result = optimize.root_scalar(f,x0=-5.0,fprime=df,method='newton')\n",
    "print(result)"
   ]
  },
  {
   "cell_type": "markdown",
   "metadata": {},
   "source": [
    "**Bisect:**"
   ]
  },
  {
   "cell_type": "code",
   "execution_count": 13,
   "metadata": {},
   "outputs": [
    {
     "name": "stdout",
     "output_type": "stream",
     "text": [
      "      converged: True\n",
      "           flag: converged\n",
      " function_calls: 45\n",
      "     iterations: 43\n",
      "           root: 4.430847399982667\n",
      "         method: bisect\n"
     ]
    }
   ],
   "source": [
    "result = optimize.root_scalar(f,bracket=[-8,8],method='bisect')\n",
    "print(result)"
   ]
  },
  {
   "cell_type": "markdown",
   "metadata": {},
   "source": [
    "The **best choice** is the more advanced **Brent-method**:"
   ]
  },
  {
   "cell_type": "code",
   "execution_count": 14,
   "metadata": {},
   "outputs": [
    {
     "name": "stdout",
     "output_type": "stream",
     "text": [
      "      converged: True\n",
      "           flag: converged\n",
      " function_calls: 13\n",
      "     iterations: 12\n",
      "           root: 4.430847399984182\n",
      "         method: brentq\n"
     ]
    }
   ],
   "source": [
    "result = optimize.root_scalar(f,bracket=[-8,8],method='brentq')\n",
    "print(result)"
   ]
  },
  {
   "cell_type": "markdown",
   "id": "8bc32193",
   "metadata": {},
   "source": [
    "## 7. <a id='toc7_'></a>[The Consumer Problem (again)](#toc0_)\n",
    "\n",
    "We solve a **two-good Cobb–Douglas** consumer problem and use it to illustrate **bisection** and **Newton's method** for root-finding.\n",
    "\n",
    "We study a Cobb–Douglas consumer with two goods, $x_1, x_2$.  \n",
    "Utility:\n",
    "$$ u(x_1, x_2) = x_1^{\\alpha} x_2^{1-\\alpha}, \\quad 0<\\alpha<1. $$\n",
    "\n",
    "Budget Constraint:\n",
    "$$ p_1 x_1 + p_2 x_2 \\le I, \\quad x_1 \\ge 0,\\; x_2 \\ge 0. $$\n",
    "\n",
    "\n",
    "Using the budget constraint to substitute $x_2 = (I - p_1 x_1)/p_2$ and maximizing in one variable gives the first-order condition for interior solutions:\n",
    "\n",
    "$\n",
    "f(x_1)\\equiv \\frac{\\alpha}{x_1} - \\frac{(1-\\alpha)p_1}{I - p_1 x_1}=0,\\qquad 0<x_1<\\frac{I}{p_1}.\n",
    "$\n",
    "\n",
    "The unique root of $f(x_1)$ is the optimal demand $x_1^*$, and $x_2^*=(I-p_1 x_1^*)/p_2$.\n"
   ]
  },
  {
   "cell_type": "code",
   "execution_count": 15,
   "id": "977d12b3",
   "metadata": {},
   "outputs": [
    {
     "data": {
      "text/plain": [
       "(5.0, 2.5)"
      ]
     },
     "execution_count": 15,
     "metadata": {},
     "output_type": "execute_result"
    }
   ],
   "source": [
    "import numpy as np\n",
    "\n",
    "# Parameters (change as needed)\n",
    "alpha = 0.5  # preference weight on good 1\n",
    "p1 = 1.0      # price of good 1\n",
    "p2 = 2.0      # price of good 2\n",
    "I  = 10.0     # income\n",
    "\n",
    "# Budget-implied x2(x1)\n",
    "def x2_of(x1):\n",
    "    return (I - p1*x1)/p2\n",
    "\n",
    "# FOC in ratio form:\n",
    "# F(x1) = (alpha/x1)/((1-alpha)/x2(x1)) - (p1/p2)\n",
    "# Simplifies to: F(x1) = (alpha/(1-alpha)) * x2(x1)/x1 - p1/p2\n",
    "def F(x1):\n",
    "    return (alpha/(1-alpha)) * x2_of(x1)/x1 - (p1/p2)\n",
    "\n",
    "# Analytic derivative of the simplified F:\n",
    "# Let s = alpha/(1-alpha). Then F(x1) = (1/p2) * (s*I/x1 - (s+1)*p1)\n",
    "# So F'(x1) = -(1/p2) * s*I/x1^2\n",
    "def Fprime(x1):\n",
    "    s = alpha/(1-alpha)\n",
    "    return -(1.0/p2) * (s*I)/(x1**2)\n",
    "\n",
    "# Closed-form demands for cross-check\n",
    "x1_star_closed = alpha*I/p1\n",
    "x2_star_closed = (1-alpha)*I/p2\n",
    "x1_star_closed, x2_star_closed\n",
    "\n"
   ]
  },
  {
   "cell_type": "markdown",
   "metadata": {},
   "source": [
    "### 7.1. <a id='toc7_1_'></a>[Newton's Method](#toc0_)\n",
    "\n",
    "Newton uses the derivative $f'(x_1)=-\\frac{\\alpha}{x_1^2}-\\frac{(1-\\alpha)p_1^2}{(I-p_1x_1)^2}$.\n",
    "We keep iterates inside $(0, I/p_1)$ via a simple backtracking rule.\n"
   ]
  },
  {
   "cell_type": "code",
   "execution_count": 16,
   "metadata": {},
   "outputs": [
    {
     "name": "stdout",
     "output_type": "stream",
     "text": [
      "Newton:    x1*=5.0000000000, x2*=2.5000000000, iterations=5\n",
      "Closed-form x1*=5.0000000000 (abs err 0.00e+00)\n"
     ]
    }
   ],
   "source": [
    "# --- Apply the root-finding solver from above ---\n",
    "# pick an interior starting value, not too close to 0 or I/p1\n",
    "x0 = 0.4 * (I/p1)   # e.g. 4.0 here (since I/p1 = 10)\n",
    "\n",
    "# (a) just the root and iterations\n",
    "x1_newt, it_newt = find_root(x0, F, Fprime, tol=1e-12)\n",
    "x2_newt = x2_of(x1_newt)\n",
    "\n",
    "\n",
    "print(f\"Newton:    x1*={x1_newt:.10f}, x2*={x2_newt:.10f}, iterations={it_newt}\")\n",
    "print(f\"Closed-form x1*={x1_star_closed:.10f} (abs err {abs(x1_newt - x1_star_closed):.2e})\")"
   ]
  },
  {
   "cell_type": "markdown",
   "id": "570aa37c",
   "metadata": {},
   "source": [
    "### 7.2. <a id='toc7_2_'></a>[Bisection](#toc0_)\n",
    "\n",
    "Bisection needs a bracket $[a,b]$ with **opposite signs** $F(a)\\cdot F(b)<0$. \n",
    "For this problem, any $a\\in(0,\\alpha I/p_1)$ and $b\\in(\\alpha I/p_1, I/p_1)$ works."
   ]
  },
  {
   "cell_type": "code",
   "execution_count": 17,
   "metadata": {},
   "outputs": [
    {
     "name": "stdout",
     "output_type": "stream",
     "text": [
      "Bisection: x1*=5.0000000000, x2*=2.5000000000, iterations=0\n",
      "Closed-form x1*=5.0000000000 (abs err 0.00e+00)\n"
     ]
    }
   ],
   "source": [
    "# Choose a bracket around the known solution\n",
    "a_bis = 1e-4\n",
    "b_bis = I/p1 - 1e-4\n",
    "\n",
    "x1_bis, it_bis = bisection(F, a_bis, b_bis, tol=1e-15, max_iter=500)\n",
    "x2_bis = (I - p1*x1_bis)/p2\n",
    "print(f\"Bisection: x1*={x1_bis:.10f}, x2*={x2_bis:.10f}, iterations={it_bis}\")\n",
    "print(f\"Closed-form x1*={x1_star_closed:.10f} (abs err {abs(x1_bis - x1_star_closed):.2e})\")"
   ]
  },
  {
   "cell_type": "markdown",
   "metadata": {},
   "source": [
    "Since  $F(5)=0$, bisecection terminates after the first evaluation → iterations = 1.\n",
    "\n",
    "We can see what happens if we define a bracket tthat is not symmetric around 5 here:"
   ]
  },
  {
   "cell_type": "code",
   "execution_count": 18,
   "metadata": {},
   "outputs": [
    {
     "name": "stdout",
     "output_type": "stream",
     "text": [
      "Bisection: x1*=5.0000000000, x2*=2.5000000000, iterations=48\n",
      "Closed-form x1*=5.0000000000 (abs err 3.55e-15)\n"
     ]
    }
   ],
   "source": [
    "a_bis = 1e-4\n",
    "b_bis = 9.7       # not symmetric around 5\n",
    "x1_bis, it_bis = bisection(F, a_bis, b_bis, tol=1e-12, max_iter=500)\n",
    "x1_bis, it_bis = bisection(F, a_bis, b_bis, tol=1e-15, max_iter=500)\n",
    "x2_bis = (I - p1*x1_bis)/p2\n",
    "print(f\"Bisection: x1*={x1_bis:.10f}, x2*={x2_bis:.10f}, iterations={it_bis}\")\n",
    "print(f\"Closed-form x1*={x1_star_closed:.10f} (abs err {abs(x1_bis - x1_star_closed):.2e})\")"
   ]
  },
  {
   "cell_type": "markdown",
   "metadata": {},
   "source": [
    "It takes much more iterations - thus, setting reasonable bounds (informed by economic theory) speeds up the code."
   ]
  },
  {
   "cell_type": "markdown",
   "id": "c3d743f3",
   "metadata": {},
   "source": [
    "\n",
    "## 8. <a id='toc8_'></a>[Takeaways](#toc0_)\n",
    "- We transformed the constrained maximization into a **one-dimensional root problem** $F(x_1)=0$.\n",
    "- **Bisection** is globally robust but slower; **Newton** is fast but needs a reasonable starting point and derivative.\n",
    "- The numerical solutions match the analytical demands $x_1^*=\\alpha I/p_1$, $x_2^*=(1-\\alpha)I/p_2$.\n"
   ]
  }
 ],
 "metadata": {
  "kernelspec": {
   "display_name": "base",
   "language": "python",
   "name": "python3"
  },
  "language_info": {
   "codemirror_mode": {
    "name": "ipython",
    "version": 3
   },
   "file_extension": ".py",
   "mimetype": "text/x-python",
   "name": "python",
   "nbconvert_exporter": "python",
   "pygments_lexer": "ipython3",
   "version": "3.13.5"
  },
  "toc-autonumbering": true,
  "vscode": {
   "interpreter": {
    "hash": "47ef90cdf3004d3f859f1fb202523c65c07ba7c22eefd261b181f4744e2d0403"
   }
  }
 },
 "nbformat": 4,
 "nbformat_minor": 4
}
